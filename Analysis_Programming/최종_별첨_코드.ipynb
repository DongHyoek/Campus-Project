{
 "cells": [
  {
   "cell_type": "markdown",
   "id": "aeb9439c",
   "metadata": {},
   "source": [
    "\n",
    "20182791 권유진 \n",
    "\n",
    "20182806 서동혁 \n",
    "\n",
    "20182832 최준용 \n",
    "\n",
    "***\n",
    "***"
   ]
  },
  {
   "cell_type": "code",
   "execution_count": 2,
   "id": "5a8a096b",
   "metadata": {},
   "outputs": [],
   "source": [
    "import pandas as pd\n",
    "import numpy as np\n",
    "import arrow\n",
    "import seaborn as sns\n",
    "import matplotlib.pylab as plt\n",
    "%matplotlib inline\n",
    "plt.rc('font', family='malgun gothic')\n",
    "plt.rc('axes', unicode_minus=False)"
   ]
  },
  {
   "cell_type": "markdown",
   "id": "681263ec",
   "metadata": {},
   "source": [
    "## 데이터 정제 작업"
   ]
  },
  {
   "cell_type": "code",
   "execution_count": null,
   "id": "0ad0c264",
   "metadata": {},
   "outputs": [],
   "source": [
    "demo = pd.read_csv('Demo.csv', encoding = 'cp949')\n",
    "tran = pd.read_csv('구매내역정보.csv', encoding = 'cp949', engine = 'python')"
   ]
  },
  {
   "cell_type": "code",
   "execution_count": null,
   "id": "dc7fb382",
   "metadata": {},
   "outputs": [],
   "source": [
    "mg = pd.merge(demo, tran, on = 'ID')"
   ]
  },
  {
   "cell_type": "code",
   "execution_count": null,
   "id": "3f83902e",
   "metadata": {},
   "outputs": [],
   "source": [
    "mg = mg.drop(mg.query('구매금액 == 0').reset_index()['index'],axis=0) # 구매금액이 0원인 것 지움."
   ]
  },
  {
   "cell_type": "code",
   "execution_count": null,
   "id": "2ee32779",
   "metadata": {},
   "outputs": [],
   "source": [
    "mg['평균금액'] = (mg['구매금액']/mg['구매수량']).astype(int)\n",
    "\n",
    "# 개별 금액이 무의미해 보이는 수치들 제거\n",
    "mg = mg.drop(mg.query('평균금액 < 100').reset_index()['index'],axis = 0)\n",
    "mg = mg.drop(mg.query('평균금액 <= 200').reset_index()['index'], axis = 0) \n",
    "mg = mg.drop(mg[mg.평균금액.apply(lambda x: str(x)[-1]) != \"0\"].reset_index()['index'], axis = 0)\n",
    "mg = mg.reset_index().drop('index', axis=1)\n",
    "mg.head()"
   ]
  },
  {
   "cell_type": "code",
   "execution_count": null,
   "id": "fe31fbf7",
   "metadata": {},
   "outputs": [],
   "source": [
    "mg.to_csv('merging_data.csv')"
   ]
  },
  {
   "cell_type": "markdown",
   "id": "12945af2",
   "metadata": {},
   "source": [
    "***"
   ]
  },
  {
   "cell_type": "markdown",
   "id": "1c5dc70d",
   "metadata": {},
   "source": [
    "## 데이터 분석"
   ]
  },
  {
   "cell_type": "code",
   "execution_count": null,
   "id": "c3302403",
   "metadata": {},
   "outputs": [],
   "source": [
    "mg = pd.read_csv('merging_data.csv')"
   ]
  },
  {
   "cell_type": "code",
   "execution_count": null,
   "id": "ab79ae11",
   "metadata": {},
   "outputs": [],
   "source": [
    "mg['구매월'] = mg.구매일자.apply(lambda x: int(str(x)[4:6]))"
   ]
  },
  {
   "cell_type": "code",
   "execution_count": null,
   "id": "8ceeba85",
   "metadata": {},
   "outputs": [],
   "source": [
    "anm = pd.DataFrame()\n",
    "anm['구매수량'] = mg.query('구매금액>0').groupby('상품대분류명')['구매수량'].sum()\n",
    "anm['구매금액'] = mg.query('구매금액>0').groupby('상품대분류명')['구매금액'].sum()\n",
    "anm['판매량 대비 매출'] = [round(anm['구매금액'][i]/anm['구매수량'][i],1) for i in range(len(anm['구매수량']))]\n",
    "anm['판매금액비율'] = list(map(lambda x: round(anm.구매금액[x]/anm.구매금액.sum()*100,1), range(len(anm.구매금액))))\n",
    "anm = anm.reset_index()\n",
    "anm"
   ]
  },
  {
   "cell_type": "code",
   "execution_count": null,
   "id": "649846aa",
   "metadata": {},
   "outputs": [],
   "source": [
    "plt.pie(anm.구매수량, labels = anm.상품대분류명, shadow=True, autopct='%1.1f%%')\n",
    "plt.title('상품대분류별 판매금액비율')\n",
    "plt.show()"
   ]
  },
  {
   "cell_type": "code",
   "execution_count": null,
   "id": "19478325",
   "metadata": {},
   "outputs": [],
   "source": [
    "sns.catplot(y='판매량 대비 매출', x='상품대분류명', data = anm, kind = 'bar')\n",
    "plt.title('대분류별 판매효율')\n",
    "\n",
    "plt.show()"
   ]
  },
  {
   "cell_type": "code",
   "execution_count": null,
   "id": "2daf1c7b",
   "metadata": {},
   "outputs": [],
   "source": [
    "refund = pd.DataFrame()\n",
    "refund['환불수량'] = mg.query('구매수량<0').groupby('상품대분류명')['구매수량'].sum().apply(lambda x: -int(x))\n",
    "refund['환불금액'] = mg.query('구매수량<0').groupby('상품대분류명')['구매금액'].sum().apply(lambda x: -int(x))\n",
    "refund['판매량 대비 환불량'] = [round(refund['환불수량'][i]/anm['구매수량'][i]*100,1) for i in range(len(refund['환불수량']))]\n",
    "refund['금액 비율'] = [round(refund['환불금액'][i]/anm['구매금액'][i]*100,1) for i in range(len(refund['환불수량']))]\n",
    "refund=refund.reset_index()\n",
    "refund"
   ]
  },
  {
   "cell_type": "code",
   "execution_count": null,
   "id": "cf939b8b",
   "metadata": {},
   "outputs": [],
   "source": [
    "sns.catplot(x='상품대분류명', y='환불금액', kind = 'bar', data = refund)\n",
    "plt.title('상품대분류별 판매량 대비 환불량')\n",
    "plt.show()"
   ]
  },
  {
   "cell_type": "code",
   "execution_count": null,
   "id": "b21305c4",
   "metadata": {},
   "outputs": [],
   "source": [
    "result = pd.DataFrame()\n",
    "result['최종판매량'] = mg.groupby('상품대분류명')['구매수량'].sum()\n",
    "result['최종판매금액'] = mg.groupby('상품대분류명')['구매금액'].sum()\n",
    "result['매출비율'] = list(map(lambda x: round(result.최종판매금액[x]/result.최종판매금액.sum()*100,1), range(len(result.최종판매금액))))\n",
    "result = result.reset_index()\n",
    "result"
   ]
  },
  {
   "cell_type": "code",
   "execution_count": null,
   "id": "c3b9a556",
   "metadata": {},
   "outputs": [],
   "source": [
    "plt.pie(result.매출비율, labels = result.상품대분류명, shadow=True,autopct='%1.1f%%')\n",
    "plt.title('총 매출 비율')\n",
    "plt.show()"
   ]
  },
  {
   "cell_type": "code",
   "execution_count": null,
   "id": "9fea94be",
   "metadata": {},
   "outputs": [],
   "source": [
    "Mb1 = mg.groupby('구매월')['구매수량'].sum().reset_index()\n",
    "sns.relplot(x='구매월', y='구매수량', kind='line', data = Mb1, color = 'black', marker='o', mfc='red')\n",
    "plt.title('월별 총구매수량')\n",
    "plt.xticks(range(1,13))\n",
    "plt.ylim(5000,)\n",
    "plt.grid()\n",
    "\n",
    "plt.show()"
   ]
  },
  {
   "cell_type": "code",
   "execution_count": null,
   "id": "26f300c3",
   "metadata": {},
   "outputs": [],
   "source": [
    "Mb2 = mg.groupby(['구매월', '상품대분류명'])['구매수량'].sum().reset_index()\n",
    "sns.relplot(x='구매월', y='구매수량', kind='line', data = Mb2, hue='상품대분류명', marker='o')\n",
    "plt.title('상품대분류별 총구매수량 변화')\n",
    "plt.xticks(range(1,13))\n",
    "plt.grid()\n",
    "\n",
    "plt.show()"
   ]
  },
  {
   "cell_type": "code",
   "execution_count": null,
   "id": "020b9534",
   "metadata": {},
   "outputs": [],
   "source": [
    "Mb2 = mg.query('상품대분류명 in [\"가전제품\", \"레포츠\",\"명품\",\"생활잡화\",\"가구\"]').groupby(['구매월', '상품대분류명'])['구매수량'].sum().reset_index()\n",
    "sns.relplot(x='구매월', y='구매수량', kind='line', data = Mb2, hue='상품대분류명', marker='o')\n",
    "plt.title('상품대분류별 총구매수량 변화')\n",
    "plt.xticks(range(1,13))\n",
    "plt.grid()\n",
    "\n",
    "plt.show()"
   ]
  },
  {
   "cell_type": "code",
   "execution_count": null,
   "id": "cfeb86fd",
   "metadata": {},
   "outputs": [],
   "source": [
    "Mb2 = mg.groupby(['구매월', '상품대분류명'])['구매금액'].sum().reset_index()\n",
    "sns.relplot(x='구매월', y='구매금액', kind='line', data = Mb2, hue='상품대분류명', marker='o')\n",
    "plt.title('상품대분류별 총구매금액 변화')\n",
    "plt.xticks(range(1,13))\n",
    "plt.grid()\n",
    "\n",
    "plt.show()"
   ]
  },
  {
   "cell_type": "code",
   "execution_count": null,
   "id": "a0de91f9",
   "metadata": {},
   "outputs": [],
   "source": [
    "Mb2 = mg.query('상품대분류명 in [\"가구\",\"레포츠\",\"명품\",\"생활잡화\",\"식품\"]').groupby(['구매월', '상품대분류명'])['구매금액'].sum().reset_index()\n",
    "sns.relplot(x='구매월', y='구매금액', kind='line', data = Mb2, hue='상품대분류명', marker='o')\n",
    "plt.title('상품대분류별 총구매금액 변화')\n",
    "plt.xticks(range(1,13))\n",
    "plt.grid()\n",
    "\n",
    "plt.show()"
   ]
  },
  {
   "cell_type": "code",
   "execution_count": null,
   "id": "80be69a9",
   "metadata": {},
   "outputs": [],
   "source": [
    "Mb3 = mg.query('상품대분류명==\"가전제품\"').groupby(['구매월', '상품중분류명'])['구매수량'].sum().reset_index()\n",
    "sns.relplot(x='구매월', y='구매수량', kind='line', data = Mb3, hue='상품중분류명', marker = 'o')\n",
    "plt.title('가전제품 중분류별 구매수량 변화')\n",
    "plt.xticks(range(1,13))\n",
    "plt.grid()\n",
    "\n",
    "plt.show()"
   ]
  },
  {
   "cell_type": "code",
   "execution_count": null,
   "id": "bb3a4be3",
   "metadata": {},
   "outputs": [],
   "source": [
    "Mb3_1 = mg.query('상품중분류명==\"휴대폰/태블릿\" or 상품중분류명==\"PC/노트북/프린터/카메라\"').groupby(['구매월', '상품중분류명'])['구매수량'].sum().reset_index()\n",
    "sns.relplot(x='구매월', y='구매수량', kind='line', data = Mb3_1, hue='상품중분류명', marker = 'o')\n",
    "plt.title('가전제품 중분류별 구매수량 변화')\n",
    "plt.xticks(range(1,13))\n",
    "plt.grid()\n",
    "\n",
    "plt.show()"
   ]
  },
  {
   "cell_type": "code",
   "execution_count": null,
   "id": "212952b9",
   "metadata": {},
   "outputs": [],
   "source": [
    "mb3 = pd.merge(Mb3.query('구매월 == 7'),Mb3.query('구매월 == 8'),on='상품중분류명')[['상품중분류명','구매수량_x','구매수량_y']].rename(columns={'구매수량_x':'7월 구매수량','구매수량_y':'8월 구매수량'})\n",
    "mb3['x배 증가'] = round(mb3['8월 구매수량']/mb3['7월 구매수량'],1)\n",
    "mb3"
   ]
  },
  {
   "cell_type": "code",
   "execution_count": null,
   "id": "64f99207",
   "metadata": {},
   "outputs": [],
   "source": [
    "Mb3 = mg.query('상품대분류명==\"가전제품\"').groupby(['구매월', '상품중분류명'])['구매금액'].sum().reset_index()\n",
    "sns.relplot(x='구매월', y='구매금액', kind='line', data = Mb3, hue='상품중분류명', marker = 'o')\n",
    "plt.title('가전제품 중분류별 구매금액 변화')\n",
    "plt.xticks(range(1,13))\n",
    "plt.grid()\n",
    "\n",
    "plt.show()"
   ]
  },
  {
   "cell_type": "code",
   "execution_count": null,
   "id": "ffa0c65e",
   "metadata": {},
   "outputs": [],
   "source": [
    "Mb3 = mg.query('상품중분류명==\"휴대폰/태블릿\" or 상품중분류명==\"PC/노트북/프린터/카메라\" or 상품중분류명==\"컴퓨터주변기기\"').groupby(['구매월', '상품중분류명'])['구매금액'].sum().reset_index()\n",
    "sns.relplot(x='구매월', y='구매금액', kind='line', data = Mb3, hue='상품중분류명', marker = 'o')\n",
    "plt.title('가전제품 중분류별 구매금액 변화')\n",
    "plt.xticks(range(1,13))\n",
    "plt.grid()\n",
    "\n",
    "plt.show()"
   ]
  }
 ],
 "metadata": {
  "kernelspec": {
   "display_name": "Python 3 (ipykernel)",
   "language": "python",
   "name": "python3"
  },
  "language_info": {
   "codemirror_mode": {
    "name": "ipython",
    "version": 3
   },
   "file_extension": ".py",
   "mimetype": "text/x-python",
   "name": "python",
   "nbconvert_exporter": "python",
   "pygments_lexer": "ipython3",
   "version": "3.9.7"
  }
 },
 "nbformat": 4,
 "nbformat_minor": 5
}
