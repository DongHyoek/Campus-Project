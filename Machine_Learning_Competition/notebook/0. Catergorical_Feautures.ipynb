{
 "cells": [
  {
   "cell_type": "code",
   "execution_count": 1,
   "id": "75f4cd95",
   "metadata": {},
   "outputs": [
    {
     "name": "stderr",
     "output_type": "stream",
     "text": [
      "C:\\Users\\choij\\anaconda3\\lib\\site-packages\\dask\\dataframe\\utils.py:369: FutureWarning: pandas.Int64Index is deprecated and will be removed from pandas in a future version. Use pandas.Index with the appropriate dtype instead.\n",
      "  _numeric_index_types = (pd.Int64Index, pd.Float64Index, pd.UInt64Index)\n",
      "C:\\Users\\choij\\anaconda3\\lib\\site-packages\\dask\\dataframe\\utils.py:369: FutureWarning: pandas.Float64Index is deprecated and will be removed from pandas in a future version. Use pandas.Index with the appropriate dtype instead.\n",
      "  _numeric_index_types = (pd.Int64Index, pd.Float64Index, pd.UInt64Index)\n",
      "C:\\Users\\choij\\anaconda3\\lib\\site-packages\\dask\\dataframe\\utils.py:369: FutureWarning: pandas.UInt64Index is deprecated and will be removed from pandas in a future version. Use pandas.Index with the appropriate dtype instead.\n",
      "  _numeric_index_types = (pd.Int64Index, pd.Float64Index, pd.UInt64Index)\n"
     ]
    }
   ],
   "source": [
    "# Data Wrangling\n",
    "import pandas as pd\n",
    "from pandas import Series, DataFrame\n",
    "import numpy as np\n",
    "\n",
    "# Visualization\n",
    "import matplotlib.pylab as plt\n",
    "from matplotlib import font_manager, rc\n",
    "import seaborn as sns\n",
    "%matplotlib inline\n",
    "\n",
    "# EDA\n",
    "# import klib\n",
    "\n",
    "# Preprocessing & Feature Engineering\n",
    "from sklearn.model_selection import train_test_split\n",
    "from sklearn.preprocessing import MinMaxScaler\n",
    "from sklearn.impute import SimpleImputer \n",
    "from sklearn.preprocessing import StandardScaler\n",
    "from sklearn.preprocessing import MinMaxScaler\n",
    "from sklearn.preprocessing import PowerTransformer\n",
    "from sklearn.feature_selection import SelectPercentile\n",
    "from sklearn import base\n",
    "from sklearn.model_selection import KFold\n",
    "from sklearn.model_selection import StratifiedShuffleSplit\n",
    "from sklearn.model_selection import StratifiedKFold\n",
    "from sklearn.experimental import enable_iterative_imputer  # still experimental \n",
    "from sklearn.impute import IterativeImputer\n",
    "from sklearn.feature_selection import RFE\n",
    "\n",
    "\n",
    "# Hyperparameter Optimization\n",
    "from sklearn.model_selection import GridSearchCV\n",
    "from sklearn.model_selection import RandomizedSearchCV\n",
    "\n",
    "# Modeling\n",
    "from sklearn.dummy import DummyClassifier\n",
    "from sklearn.svm import SVR\n",
    "from xgboost import XGBRegressor\n",
    "from lightgbm import LGBMClassifier\n",
    "from sklearn.linear_model import Ridge, Lasso, ElasticNet\n",
    "from sklearn.linear_model import BayesianRidge\n",
    "\n",
    "# Evaluation\n",
    "from sklearn.metrics import roc_auc_score\n",
    "from sklearn.metrics import accuracy_score\n",
    "from sklearn.model_selection import cross_val_score\n",
    "from sklearn.metrics import mean_squared_error\n",
    "\n",
    "# Utility\n",
    "import os\n",
    "import time\n",
    "import random\n",
    "import sys, warnings\n",
    "if not sys.warnoptions: warnings.simplefilter(\"ignore\")\n",
    "from IPython.display import Image\n",
    "# import pickle\n",
    "from tqdm import tqdm\n",
    "import platform\n",
    "from itertools import combinations\n",
    "from scipy.stats.mstats import gmean\n",
    "from tensorflow import keras\n",
    "\n",
    "# from bayes_opt import BayesianOptimization"
   ]
  },
  {
   "cell_type": "markdown",
   "id": "c36e6a3d",
   "metadata": {},
   "source": [
    "# Read Data"
   ]
  },
  {
   "cell_type": "code",
   "execution_count": 2,
   "id": "672f89a0",
   "metadata": {},
   "outputs": [],
   "source": [
    "import pandas as pd\n",
    "import numpy as np\n",
    "import seaborn as sns\n",
    "import matplotlib.pylab as plt"
   ]
  },
  {
   "cell_type": "code",
   "execution_count": 3,
   "id": "0dbeea6f",
   "metadata": {},
   "outputs": [],
   "source": [
    "# 학습, 평가데이터 불러오기\n",
    "train = pd.read_csv(os.path.abspath(\"../input\")+\"/X_train.csv\" , encoding = 'cp949')\n",
    "test = pd.read_csv(os.path.abspath(\"../input\")+\"/X_test.csv\" , encoding = 'cp949')\n",
    "target = pd.read_csv(os.path.abspath(\"../input\")+\"/y_train.csv\" , encoding = 'cp949')"
   ]
  },
  {
   "cell_type": "code",
   "execution_count": 4,
   "id": "39b61c4a",
   "metadata": {},
   "outputs": [],
   "source": [
    "# 사이버 쇼핑, 점외 등 1개 밖에 없는 data를 가지고 있는 행 삭제 \n",
    "\n",
    "train.drop(index = 578987, inplace = True)"
   ]
  },
  {
   "cell_type": "code",
   "execution_count": 5,
   "id": "9986cd3b",
   "metadata": {},
   "outputs": [],
   "source": [
    "# 같이 전처리 하기 위해서 train과 test를 합침\n",
    "\n",
    "data = pd.concat([train, test],ignore_index= True)"
   ]
  },
  {
   "cell_type": "code",
   "execution_count": 6,
   "id": "9b8849a0",
   "metadata": {},
   "outputs": [],
   "source": [
    "unique_custid = pd.DataFrame(data.custid.unique()).rename(columns = {0 : 'custid'})"
   ]
  },
  {
   "cell_type": "code",
   "execution_count": 7,
   "id": "3701c799",
   "metadata": {},
   "outputs": [
    {
     "data": {
      "text/html": [
       "<div>\n",
       "<style scoped>\n",
       "    .dataframe tbody tr th:only-of-type {\n",
       "        vertical-align: middle;\n",
       "    }\n",
       "\n",
       "    .dataframe tbody tr th {\n",
       "        vertical-align: top;\n",
       "    }\n",
       "\n",
       "    .dataframe thead th {\n",
       "        text-align: right;\n",
       "    }\n",
       "</style>\n",
       "<table border=\"1\" class=\"dataframe\">\n",
       "  <thead>\n",
       "    <tr style=\"text-align: right;\">\n",
       "      <th></th>\n",
       "      <th>custid</th>\n",
       "      <th>sales_month</th>\n",
       "      <th>sales_day</th>\n",
       "      <th>sales_dayofweek</th>\n",
       "      <th>sales_time</th>\n",
       "      <th>str_nm</th>\n",
       "      <th>goodcd</th>\n",
       "      <th>brd_nm</th>\n",
       "      <th>corner_nm</th>\n",
       "      <th>pc_nm</th>\n",
       "      <th>part_nm</th>\n",
       "      <th>team_nm</th>\n",
       "      <th>buyer_nm</th>\n",
       "      <th>import_flg</th>\n",
       "      <th>tot_amt</th>\n",
       "      <th>dis_amt</th>\n",
       "      <th>net_amt</th>\n",
       "      <th>inst_mon</th>\n",
       "      <th>inst_fee</th>\n",
       "    </tr>\n",
       "  </thead>\n",
       "  <tbody>\n",
       "    <tr>\n",
       "      <th>0</th>\n",
       "      <td>0</td>\n",
       "      <td>6</td>\n",
       "      <td>25</td>\n",
       "      <td>일</td>\n",
       "      <td>1212</td>\n",
       "      <td>무역점</td>\n",
       "      <td>2116050008000</td>\n",
       "      <td>에스티로더</td>\n",
       "      <td>수입종합화장품</td>\n",
       "      <td>화장품</td>\n",
       "      <td>명품잡화</td>\n",
       "      <td>잡화가용팀</td>\n",
       "      <td>화장품</td>\n",
       "      <td>1</td>\n",
       "      <td>90000</td>\n",
       "      <td>9000</td>\n",
       "      <td>81000</td>\n",
       "      <td>3</td>\n",
       "      <td>0</td>\n",
       "    </tr>\n",
       "    <tr>\n",
       "      <th>1</th>\n",
       "      <td>0</td>\n",
       "      <td>6</td>\n",
       "      <td>25</td>\n",
       "      <td>일</td>\n",
       "      <td>1242</td>\n",
       "      <td>무역점</td>\n",
       "      <td>4125440008000</td>\n",
       "      <td>시슬리</td>\n",
       "      <td>수입종합화장품</td>\n",
       "      <td>화장품</td>\n",
       "      <td>명품잡화</td>\n",
       "      <td>잡화가용팀</td>\n",
       "      <td>화장품</td>\n",
       "      <td>1</td>\n",
       "      <td>39000</td>\n",
       "      <td>3900</td>\n",
       "      <td>35100</td>\n",
       "      <td>1</td>\n",
       "      <td>0</td>\n",
       "    </tr>\n",
       "    <tr>\n",
       "      <th>2</th>\n",
       "      <td>0</td>\n",
       "      <td>8</td>\n",
       "      <td>26</td>\n",
       "      <td>토</td>\n",
       "      <td>1810</td>\n",
       "      <td>본점</td>\n",
       "      <td>2116052008000</td>\n",
       "      <td>크리니크</td>\n",
       "      <td>수입종합화장품</td>\n",
       "      <td>화장품</td>\n",
       "      <td>잡화파트</td>\n",
       "      <td>잡화가용팀</td>\n",
       "      <td>화장품</td>\n",
       "      <td>1</td>\n",
       "      <td>175000</td>\n",
       "      <td>17500</td>\n",
       "      <td>157500</td>\n",
       "      <td>3</td>\n",
       "      <td>0</td>\n",
       "    </tr>\n",
       "    <tr>\n",
       "      <th>3</th>\n",
       "      <td>0</td>\n",
       "      <td>8</td>\n",
       "      <td>26</td>\n",
       "      <td>토</td>\n",
       "      <td>1830</td>\n",
       "      <td>본점</td>\n",
       "      <td>4106430119900</td>\n",
       "      <td>듀퐁</td>\n",
       "      <td>수입의류</td>\n",
       "      <td>명품토탈</td>\n",
       "      <td>잡화파트</td>\n",
       "      <td>잡화가용팀</td>\n",
       "      <td>수입명품</td>\n",
       "      <td>1</td>\n",
       "      <td>455000</td>\n",
       "      <td>45500</td>\n",
       "      <td>409500</td>\n",
       "      <td>3</td>\n",
       "      <td>0</td>\n",
       "    </tr>\n",
       "    <tr>\n",
       "      <th>4</th>\n",
       "      <td>0</td>\n",
       "      <td>9</td>\n",
       "      <td>3</td>\n",
       "      <td>일</td>\n",
       "      <td>1802</td>\n",
       "      <td>무역점</td>\n",
       "      <td>2139141008000</td>\n",
       "      <td>랑콤</td>\n",
       "      <td>수입종합화장품</td>\n",
       "      <td>화장품</td>\n",
       "      <td>명품잡화</td>\n",
       "      <td>잡화가용팀</td>\n",
       "      <td>화장품</td>\n",
       "      <td>0</td>\n",
       "      <td>100000</td>\n",
       "      <td>10000</td>\n",
       "      <td>90000</td>\n",
       "      <td>3</td>\n",
       "      <td>0</td>\n",
       "    </tr>\n",
       "    <tr>\n",
       "      <th>...</th>\n",
       "      <td>...</td>\n",
       "      <td>...</td>\n",
       "      <td>...</td>\n",
       "      <td>...</td>\n",
       "      <td>...</td>\n",
       "      <td>...</td>\n",
       "      <td>...</td>\n",
       "      <td>...</td>\n",
       "      <td>...</td>\n",
       "      <td>...</td>\n",
       "      <td>...</td>\n",
       "      <td>...</td>\n",
       "      <td>...</td>\n",
       "      <td>...</td>\n",
       "      <td>...</td>\n",
       "      <td>...</td>\n",
       "      <td>...</td>\n",
       "      <td>...</td>\n",
       "      <td>...</td>\n",
       "    </tr>\n",
       "    <tr>\n",
       "      <th>625079</th>\n",
       "      <td>29998</td>\n",
       "      <td>13</td>\n",
       "      <td>21</td>\n",
       "      <td>일</td>\n",
       "      <td>1320</td>\n",
       "      <td>무역점</td>\n",
       "      <td>4241080013074</td>\n",
       "      <td>바닐라</td>\n",
       "      <td>영캐주얼</td>\n",
       "      <td>트랜디 케쥬얼</td>\n",
       "      <td>여성캐주얼</td>\n",
       "      <td>의류패션팀</td>\n",
       "      <td>영캐주얼</td>\n",
       "      <td>0</td>\n",
       "      <td>120000</td>\n",
       "      <td>0</td>\n",
       "      <td>120000</td>\n",
       "      <td>3</td>\n",
       "      <td>0</td>\n",
       "    </tr>\n",
       "    <tr>\n",
       "      <th>625080</th>\n",
       "      <td>29998</td>\n",
       "      <td>16</td>\n",
       "      <td>7</td>\n",
       "      <td>토</td>\n",
       "      <td>1633</td>\n",
       "      <td>무역점</td>\n",
       "      <td>2139141008000</td>\n",
       "      <td>랑콤</td>\n",
       "      <td>수입종합화장품</td>\n",
       "      <td>화장품</td>\n",
       "      <td>명품잡화</td>\n",
       "      <td>잡화가용팀</td>\n",
       "      <td>화장품</td>\n",
       "      <td>0</td>\n",
       "      <td>38000</td>\n",
       "      <td>1900</td>\n",
       "      <td>36100</td>\n",
       "      <td>1</td>\n",
       "      <td>0</td>\n",
       "    </tr>\n",
       "    <tr>\n",
       "      <th>625081</th>\n",
       "      <td>29999</td>\n",
       "      <td>15</td>\n",
       "      <td>21</td>\n",
       "      <td>수</td>\n",
       "      <td>1803</td>\n",
       "      <td>천호점</td>\n",
       "      <td>4109290004000</td>\n",
       "      <td>루이까또즈</td>\n",
       "      <td>핸드백</td>\n",
       "      <td>핸드백</td>\n",
       "      <td>잡화</td>\n",
       "      <td>잡화가용팀</td>\n",
       "      <td>피혁B</td>\n",
       "      <td>0</td>\n",
       "      <td>46000</td>\n",
       "      <td>2300</td>\n",
       "      <td>43700</td>\n",
       "      <td>1</td>\n",
       "      <td>0</td>\n",
       "    </tr>\n",
       "    <tr>\n",
       "      <th>625082</th>\n",
       "      <td>29999</td>\n",
       "      <td>15</td>\n",
       "      <td>29</td>\n",
       "      <td>목</td>\n",
       "      <td>1823</td>\n",
       "      <td>천호점</td>\n",
       "      <td>4139350206500</td>\n",
       "      <td>소피에르핀</td>\n",
       "      <td>넥타이</td>\n",
       "      <td>셔츠</td>\n",
       "      <td>남성의류</td>\n",
       "      <td>의류패션팀</td>\n",
       "      <td>섬유</td>\n",
       "      <td>0</td>\n",
       "      <td>49000</td>\n",
       "      <td>2450</td>\n",
       "      <td>46550</td>\n",
       "      <td>1</td>\n",
       "      <td>0</td>\n",
       "    </tr>\n",
       "    <tr>\n",
       "      <th>625083</th>\n",
       "      <td>29999</td>\n",
       "      <td>16</td>\n",
       "      <td>21</td>\n",
       "      <td>토</td>\n",
       "      <td>1313</td>\n",
       "      <td>천호점</td>\n",
       "      <td>4104840008000</td>\n",
       "      <td>샤넬</td>\n",
       "      <td>수입종합화장품</td>\n",
       "      <td>화장품</td>\n",
       "      <td>잡화</td>\n",
       "      <td>잡화가용팀</td>\n",
       "      <td>화장품</td>\n",
       "      <td>1</td>\n",
       "      <td>52000</td>\n",
       "      <td>2600</td>\n",
       "      <td>49400</td>\n",
       "      <td>1</td>\n",
       "      <td>0</td>\n",
       "    </tr>\n",
       "  </tbody>\n",
       "</table>\n",
       "<p>625083 rows × 19 columns</p>\n",
       "</div>"
      ],
      "text/plain": [
       "        custid  sales_month  sales_day sales_dayofweek  sales_time str_nm  \\\n",
       "0            0            6         25               일        1212    무역점   \n",
       "1            0            6         25               일        1242    무역점   \n",
       "2            0            8         26               토        1810     본점   \n",
       "3            0            8         26               토        1830     본점   \n",
       "4            0            9          3               일        1802    무역점   \n",
       "...        ...          ...        ...             ...         ...    ...   \n",
       "625079   29998           13         21               일        1320    무역점   \n",
       "625080   29998           16          7               토        1633    무역점   \n",
       "625081   29999           15         21               수        1803    천호점   \n",
       "625082   29999           15         29               목        1823    천호점   \n",
       "625083   29999           16         21               토        1313    천호점   \n",
       "\n",
       "               goodcd brd_nm corner_nm    pc_nm part_nm team_nm buyer_nm  \\\n",
       "0       2116050008000  에스티로더   수입종합화장품      화장품    명품잡화   잡화가용팀      화장품   \n",
       "1       4125440008000    시슬리   수입종합화장품      화장품    명품잡화   잡화가용팀      화장품   \n",
       "2       2116052008000   크리니크   수입종합화장품      화장품    잡화파트   잡화가용팀      화장품   \n",
       "3       4106430119900     듀퐁      수입의류     명품토탈    잡화파트   잡화가용팀     수입명품   \n",
       "4       2139141008000     랑콤   수입종합화장품      화장품    명품잡화   잡화가용팀      화장품   \n",
       "...               ...    ...       ...      ...     ...     ...      ...   \n",
       "625079  4241080013074    바닐라      영캐주얼  트랜디 케쥬얼   여성캐주얼   의류패션팀     영캐주얼   \n",
       "625080  2139141008000     랑콤   수입종합화장품      화장품    명품잡화   잡화가용팀      화장품   \n",
       "625081  4109290004000  루이까또즈       핸드백      핸드백      잡화   잡화가용팀      피혁B   \n",
       "625082  4139350206500  소피에르핀       넥타이       셔츠    남성의류   의류패션팀       섬유   \n",
       "625083  4104840008000     샤넬   수입종합화장품      화장품      잡화   잡화가용팀      화장품   \n",
       "\n",
       "        import_flg  tot_amt  dis_amt  net_amt  inst_mon  inst_fee  \n",
       "0                1    90000     9000    81000         3         0  \n",
       "1                1    39000     3900    35100         1         0  \n",
       "2                1   175000    17500   157500         3         0  \n",
       "3                1   455000    45500   409500         3         0  \n",
       "4                0   100000    10000    90000         3         0  \n",
       "...            ...      ...      ...      ...       ...       ...  \n",
       "625079           0   120000        0   120000         3         0  \n",
       "625080           0    38000     1900    36100         1         0  \n",
       "625081           0    46000     2300    43700         1         0  \n",
       "625082           0    49000     2450    46550         1         0  \n",
       "625083           1    52000     2600    49400         1         0  \n",
       "\n",
       "[625083 rows x 19 columns]"
      ]
     },
     "execution_count": 7,
     "metadata": {},
     "output_type": "execute_result"
    }
   ],
   "source": [
    "train"
   ]
  },
  {
   "cell_type": "markdown",
   "id": "d77f4075",
   "metadata": {},
   "source": [
    "# Preprocessing"
   ]
  },
  {
   "cell_type": "code",
   "execution_count": 8,
   "id": "06014480",
   "metadata": {},
   "outputs": [],
   "source": [
    "# 시간데이터 처리\n",
    "\n",
    "def hour_process(x):\n",
    "    x = str(x)\n",
    "    if len(x) == 4:\n",
    "        return x[:2]\n",
    "    elif len(x) == 3:\n",
    "        return x[:1]\n",
    "    elif len(x) == 2:\n",
    "        return '0'\n",
    "\n",
    "data['sales_hour'] = data['sales_time'].apply(hour_process)\n",
    "\n",
    "def minute_process(x):\n",
    "    x = str(x)\n",
    "    if len(x) == 4:\n",
    "        return x[2:]\n",
    "    elif len(x) == 3:\n",
    "        return x[1:]\n",
    "    elif len(x) == 2:\n",
    "        return x\n",
    "    \n",
    "data['sales_minute'] = data['sales_time'].apply(minute_process)\n",
    "\n",
    "\n",
    "data['sales_hour'] = data['sales_hour'].astype(int)\n",
    "data['sales_minute'] = data['sales_minute'].astype(int)"
   ]
  },
  {
   "cell_type": "code",
   "execution_count": 9,
   "id": "9395c842",
   "metadata": {},
   "outputs": [],
   "source": [
    "# 날짜데이터 처리\n",
    "\n",
    "data['sales_month_origin'] = data['sales_month']\n",
    "data['sales_month']=data['sales_month'].apply(lambda x: x-12 if x >12 else x)\n",
    "data['year'] = data['sales_month_origin'].apply(lambda x: 2018 if x>12 else 2017)\n",
    "\n",
    "data['year_month_day'] = data['year'].astype(str) + '_' + data['sales_month'].astype(str) + '_' +\\\n",
    "                                data['sales_day'].astype(str) + '_' + data['sales_time'].astype(str)\n",
    "\n",
    "data['datetime'] = pd.to_datetime(data['year_month_day'], format = '%Y_%m_%d_%H%M')\n",
    "\n",
    "\n",
    "data['diff_time'] = data.groupby('custid')['datetime'].diff().fillna('00:00:00').astype(str)\n",
    "data['diff_time'] = data['diff_time'].str.split(' days').apply(lambda x: 0 if x[0] == '00:00:00' else x[0]).astype(int)"
   ]
  },
  {
   "cell_type": "code",
   "execution_count": 10,
   "id": "44711a71",
   "metadata": {
    "scrolled": false
   },
   "outputs": [],
   "source": [
    "# corner_nm 에서 겹치는 값들 처리하기\n",
    "\n",
    "data.loc[data.corner_nm == '모피.피혁', 'corner_nm'] = '모피/피혁'\n",
    "data.loc[data.corner_nm == '원목(주니어)', 'corner_nm'] = '원목/주니어'\n",
    "data.loc[data.corner_nm == '우산,장갑', 'corner_nm'] = '우산/장갑'\n",
    "data.loc[data.corner_nm == '우산장갑', 'corner_nm'] = '우산/장갑'\n",
    "data.loc[data.corner_nm == '트.단품 ', 'corner_nm'] = '트단품'\n",
    "data.loc[data.corner_nm == 'TV,VTR', 'corner_nm'] = 'TV/VTR'\n",
    "data.loc[data.corner_nm == 'TV.VTR', 'corner_nm'] = 'TV/VTR'\n",
    "data.loc[data.corner_nm == 'GBR  지원', 'corner_nm'] = 'GBR지원'\n",
    "data.loc[data.corner_nm == '페레  지원', 'corner_nm'] = '페레지원'\n",
    "data.loc[data.corner_nm == '라디오.카세트', 'corner_nm'] = '라디오/카세트'\n",
    "data.loc[data.corner_nm == '스포츠용퓸', 'corner_nm'] = '스포츠용품'\n",
    "data.loc[data.corner_nm == '카세트,전화기', 'corner_nm'] = '전화기/카세트'"
   ]
  },
  {
   "cell_type": "code",
   "execution_count": 11,
   "id": "d8b2087c",
   "metadata": {},
   "outputs": [],
   "source": [
    "# pc_nm 에서 겹치는 값들 처리하기\n",
    "\n",
    "data.loc[data.pc_nm == '침구,수예', 'pc_nm'] = '침구/수예'\n",
    "data.loc[data.pc_nm == '디자이너부띠크', 'pc_nm'] = '디자이너부띠끄'\n",
    "data.loc[data.pc_nm == '디자이너부틱', 'pc_nm'] = '디자이너부띠끄'\n",
    "data.loc[data.pc_nm == '니트,단품,모피', 'pc_nm'] = '니트/단품/모피'\n",
    "data.loc[data.pc_nm == '니트/단품', 'pc_nm'] = '니트/단품/모피'\n",
    "data.loc[data.pc_nm == '로얄부틱', 'pc_nm'] = '로얄부띠끄'\n",
    "data.loc[data.pc_nm == '트랜디 케쥬얼', 'pc_nm'] = '트랜디캐쥬얼'"
   ]
  },
  {
   "cell_type": "code",
   "execution_count": 12,
   "id": "a76f131f",
   "metadata": {},
   "outputs": [],
   "source": [
    "# lgbm 에서 json 오류 방지를 위해 특수문자 , 제거\n",
    "\n",
    "import re\n",
    "data.rename(columns = lambda x:re.sub(',', '/', x), inplace = True)"
   ]
  },
  {
   "cell_type": "markdown",
   "id": "04a50d0b",
   "metadata": {},
   "source": [
    "# Categoric Feature Making"
   ]
  },
  {
   "cell_type": "markdown",
   "id": "ccd9b8f2",
   "metadata": {},
   "source": [
    "**<font color='CC3D3D'> [corner_nm]**"
   ]
  },
  {
   "cell_type": "code",
   "execution_count": 13,
   "id": "893fb8fa",
   "metadata": {},
   "outputs": [],
   "source": [
    "IDtest = test.custid.unique()"
   ]
  },
  {
   "cell_type": "code",
   "execution_count": 14,
   "id": "8c2a0f9b",
   "metadata": {},
   "outputs": [
    {
     "data": {
      "text/plain": [
       "299"
      ]
     },
     "execution_count": 14,
     "metadata": {},
     "output_type": "execute_result"
    }
   ],
   "source": [
    "level = 'corner_nm'\n",
    "data[level].nunique()"
   ]
  },
  {
   "cell_type": "code",
   "execution_count": 15,
   "id": "a3ca5534",
   "metadata": {},
   "outputs": [],
   "source": [
    "def aa(x):\n",
    "    if len(x) > 1:\n",
    "        result = 1\n",
    "    else:\n",
    "        result = 0\n",
    "    return result"
   ]
  },
  {
   "cell_type": "code",
   "execution_count": 16,
   "id": "7081aa22",
   "metadata": {
    "scrolled": true
   },
   "outputs": [],
   "source": [
    "catFeatures_train_cor = pd.pivot_table(data, index='custid', columns=level, values='tot_amt',\n",
    "                         aggfunc=aa, fill_value=0). \\\n",
    "                         reset_index(). \\\n",
    "                         query('custid not in @IDtest').\\\n",
    "                        drop(columns=['custid']).values\n",
    "catFeatures_test_cor = pd.pivot_table(data, index='custid', columns=level, values='tot_amt',\n",
    "                         aggfunc=aa, fill_value=0). \\\n",
    "                         reset_index(). \\\n",
    "                         query('custid in @IDtest'). \\\n",
    "                         drop(columns=['custid']).values\n",
    "\n",
    "# max_features = X_train_cat.shape[1]"
   ]
  },
  {
   "cell_type": "code",
   "execution_count": 17,
   "id": "3b37677b",
   "metadata": {},
   "outputs": [
    {
     "data": {
      "text/plain": [
       "array([0, 0, 0, 0, 0, 0, 0, 0, 0, 0, 0, 0, 0, 0, 0, 0, 0, 0, 0, 0, 0, 0,\n",
       "       0, 0, 0, 0, 0, 0, 0, 0, 0, 0, 0, 0, 0, 0, 0, 0, 0, 0, 0, 0, 0, 0,\n",
       "       0, 0, 0, 0, 0, 0, 0, 0, 0, 0, 0, 0, 0, 0, 0, 0, 0, 0, 0, 0, 0, 0,\n",
       "       0, 0, 0, 0, 0, 0, 0, 0, 0, 0, 0, 0, 0, 0, 0, 0, 0, 0, 0, 0, 0, 0,\n",
       "       0, 0, 0, 0, 0, 0, 0, 0, 0, 0, 0, 0, 0, 0, 0, 0, 0, 0, 0, 0, 0, 0,\n",
       "       0, 0, 0, 0, 0, 0, 0, 0, 0, 0, 0, 0, 0, 0, 0, 0, 0, 0, 0, 0, 0, 0,\n",
       "       1, 0, 0, 0, 0, 0, 0, 0, 0, 0, 0, 0, 0, 0, 0, 0, 0, 0, 0, 0, 0, 0,\n",
       "       0, 0, 0, 0, 0, 0, 0, 0, 0, 0, 0, 0, 0, 0, 0, 0, 0, 0, 0, 0, 0, 0,\n",
       "       0, 0, 0, 0, 0, 0, 0, 0, 0, 0, 0, 0, 0, 0, 0, 0, 0, 0, 0, 0, 0, 0,\n",
       "       0, 0, 0, 0, 0, 0, 0, 0, 0, 0, 0, 0, 0, 0, 0, 0, 0, 0, 0, 0, 0, 0,\n",
       "       0, 0, 0, 0, 0, 0, 0, 0, 0, 0, 0, 0, 0, 0, 0, 0, 0, 0, 0, 0, 0, 0,\n",
       "       0, 0, 0, 0, 0, 0, 0, 0, 0, 0, 0, 0, 0, 0, 0, 0, 0, 0, 0, 0, 0, 0,\n",
       "       0, 0, 0, 0, 0, 0, 0, 0, 0, 0, 0, 0, 0, 0, 0, 0, 0, 0, 0, 0, 0, 0,\n",
       "       0, 0, 0, 0, 0, 0, 0, 0, 0, 0, 0, 0, 0], dtype=int64)"
      ]
     },
     "execution_count": 17,
     "metadata": {},
     "output_type": "execute_result"
    }
   ],
   "source": [
    "catFeatures_train_cor[0]"
   ]
  },
  {
   "cell_type": "code",
   "execution_count": 18,
   "id": "dac81c72",
   "metadata": {},
   "outputs": [],
   "source": [
    "catFeatures_train_cor = pd.DataFrame(catFeatures_train_cor)\n",
    "catFeatures_test_cor = pd.DataFrame(catFeatures_test_cor)"
   ]
  },
  {
   "cell_type": "code",
   "execution_count": 19,
   "id": "0afcc397",
   "metadata": {},
   "outputs": [],
   "source": [
    "catFeatures_train_cor.columns = catFeatures_train_cor.columns.map(lambda x : level+ \"_\" + str(x) + \"_onehot\" )\n",
    "catFeatures_test_cor.columns = catFeatures_test_cor.columns.map(lambda x : level+ \"_\" + str(x) + \"_onehot\" )"
   ]
  },
  {
   "cell_type": "markdown",
   "id": "8d760d0b",
   "metadata": {},
   "source": [
    "**<font color='CC3D3D'>[brd_nm]**"
   ]
  },
  {
   "cell_type": "code",
   "execution_count": 20,
   "id": "1ffe4a25",
   "metadata": {},
   "outputs": [
    {
     "data": {
      "text/plain": [
       "1873"
      ]
     },
     "execution_count": 20,
     "metadata": {},
     "output_type": "execute_result"
    }
   ],
   "source": [
    "level = 'brd_nm'\n",
    "data[level].nunique()"
   ]
  },
  {
   "cell_type": "code",
   "execution_count": 21,
   "id": "c82b344b",
   "metadata": {},
   "outputs": [],
   "source": [
    "a = [1,2,3,4,1]"
   ]
  },
  {
   "cell_type": "code",
   "execution_count": 22,
   "id": "fe6d5dc3",
   "metadata": {},
   "outputs": [],
   "source": [
    "catFeatures_train_brd = pd.pivot_table(data, index='custid', columns=level, values='tot_amt',\n",
    "                         aggfunc=aa, fill_value=0). \\\n",
    "                         reset_index(). \\\n",
    "                         query('custid not in @IDtest'). \\\n",
    "                         drop(columns=['custid']).values\n",
    "\n",
    "catFeatures_test_brd = pd.pivot_table(data, index='custid', columns=level, values='tot_amt',\n",
    "                         aggfunc=aa, fill_value=0). \\\n",
    "                         reset_index(). \\\n",
    "                         query('custid in @IDtest'). \\\n",
    "                         drop(columns=['custid']).values\n",
    "# max_features = X_train.shape[1]"
   ]
  },
  {
   "cell_type": "code",
   "execution_count": 23,
   "id": "ad4c21b1",
   "metadata": {},
   "outputs": [],
   "source": [
    "catFeatures_train_brd = pd.DataFrame(catFeatures_train_brd)\n",
    "catFeatures_test_brd = pd.DataFrame(catFeatures_test_brd)"
   ]
  },
  {
   "cell_type": "code",
   "execution_count": 24,
   "id": "4f62746f",
   "metadata": {},
   "outputs": [],
   "source": [
    "catFeatures_train_brd.columns = catFeatures_train_brd.columns.map(lambda x : level+ \"_\" + str(x) + \"_onehot\" )\n",
    "catFeatures_test_brd.columns = catFeatures_test_brd.columns.map(lambda x : level+ \"_\" + str(x) + \"_onehot\" )"
   ]
  },
  {
   "cell_type": "markdown",
   "id": "88ab25c3",
   "metadata": {},
   "source": [
    "**<font color='CC3D3D'>[pc_nm]**"
   ]
  },
  {
   "cell_type": "code",
   "execution_count": 25,
   "id": "fa55b423",
   "metadata": {},
   "outputs": [
    {
     "data": {
      "text/plain": [
       "71"
      ]
     },
     "execution_count": 25,
     "metadata": {},
     "output_type": "execute_result"
    }
   ],
   "source": [
    "level = 'pc_nm'\n",
    "data[level].nunique()"
   ]
  },
  {
   "cell_type": "code",
   "execution_count": 26,
   "id": "6f0b53b0",
   "metadata": {},
   "outputs": [],
   "source": [
    "catFeatures_train_pc = pd.pivot_table(data, index='custid', columns=level, values='tot_amt',\n",
    "                         aggfunc=aa, fill_value=0). \\\n",
    "                         reset_index(). \\\n",
    "                         query('custid not in @IDtest'). \\\n",
    "                         drop(columns=['custid']).values\n",
    "\n",
    "catFeatures_test_pc = pd.pivot_table(data, index='custid', columns=level, values='tot_amt',\n",
    "                         aggfunc=aa, fill_value=0). \\\n",
    "                         reset_index(). \\\n",
    "                         query('custid in @IDtest'). \\\n",
    "                         drop(columns=['custid']).values\n",
    "# max_features = X_train.shape[1]"
   ]
  },
  {
   "cell_type": "code",
   "execution_count": 27,
   "id": "6805840f",
   "metadata": {},
   "outputs": [],
   "source": [
    "catFeatures_train_pc = pd.DataFrame(catFeatures_train_pc)\n",
    "catFeatures_test_pc = pd.DataFrame(catFeatures_test_pc)"
   ]
  },
  {
   "cell_type": "code",
   "execution_count": 28,
   "id": "f0301267",
   "metadata": {},
   "outputs": [],
   "source": [
    "catFeatures_train_pc.columns = catFeatures_train_pc.columns.map(lambda x : level+ \"_\" + str(x) + \"_onehot\" )\n",
    "catFeatures_test_pc.columns = catFeatures_test_pc.columns.map(lambda x : level+ \"_\" + str(x) + \"_onehot\" )"
   ]
  },
  {
   "cell_type": "markdown",
   "id": "0957673b",
   "metadata": {},
   "source": [
    "**<font color='CC3D3D'>[part_nm]**"
   ]
  },
  {
   "cell_type": "code",
   "execution_count": 29,
   "id": "0e5b6b5f",
   "metadata": {},
   "outputs": [
    {
     "data": {
      "text/plain": [
       "29"
      ]
     },
     "execution_count": 29,
     "metadata": {},
     "output_type": "execute_result"
    }
   ],
   "source": [
    "level = 'part_nm'\n",
    "data[level].nunique()"
   ]
  },
  {
   "cell_type": "code",
   "execution_count": 30,
   "id": "86b84201",
   "metadata": {},
   "outputs": [],
   "source": [
    "catFeatures_train_part = pd.pivot_table(data, index='custid', columns=level, values='tot_amt',\n",
    "                         aggfunc=aa, fill_value=0). \\\n",
    "                         reset_index(). \\\n",
    "                         query('custid not in @IDtest'). \\\n",
    "                         drop(columns=['custid']).values\n",
    "\n",
    "catFeatures_test_part = pd.pivot_table(data, index='custid', columns=level, values='tot_amt',\n",
    "                         aggfunc=aa, fill_value=0). \\\n",
    "                         reset_index(). \\\n",
    "                         query('custid in @IDtest'). \\\n",
    "                         drop(columns=['custid']).values\n",
    "# max_features = X_train.shape[1]"
   ]
  },
  {
   "cell_type": "code",
   "execution_count": 31,
   "id": "7acb4b9e",
   "metadata": {},
   "outputs": [],
   "source": [
    "catFeatures_train_part = pd.DataFrame(catFeatures_train_part)\n",
    "catFeatures_test_part = pd.DataFrame(catFeatures_test_part)"
   ]
  },
  {
   "cell_type": "code",
   "execution_count": 32,
   "id": "229ff525",
   "metadata": {},
   "outputs": [],
   "source": [
    "catFeatures_train_part.columns = catFeatures_train_part.columns.map(lambda x : level+ \"_\" + str(x) + \"_onehot\" )\n",
    "catFeatures_test_part.columns = catFeatures_test_part.columns.map(lambda x : level+ \"_\" + str(x) + \"_onehot\" )"
   ]
  },
  {
   "cell_type": "markdown",
   "id": "77adb470",
   "metadata": {},
   "source": [
    "**<font color='CC3D3D'>[team_nm]** "
   ]
  },
  {
   "cell_type": "code",
   "execution_count": 33,
   "id": "617a2e25",
   "metadata": {
    "scrolled": true
   },
   "outputs": [
    {
     "data": {
      "text/plain": [
       "3"
      ]
     },
     "execution_count": 33,
     "metadata": {},
     "output_type": "execute_result"
    }
   ],
   "source": [
    "level = 'team_nm'\n",
    "data[level].nunique()"
   ]
  },
  {
   "cell_type": "code",
   "execution_count": 34,
   "id": "e3a9fba3",
   "metadata": {},
   "outputs": [],
   "source": [
    "catFeatures_train_team = pd.pivot_table(data, index='custid', columns=level, values='tot_amt',\n",
    "                         aggfunc=aa, fill_value=0). \\\n",
    "                         reset_index(). \\\n",
    "                         query('custid not in @IDtest'). \\\n",
    "                        drop(columns=['custid']).values\n",
    "\n",
    "catFeatures_test_team = pd.pivot_table(data, index='custid', columns=level, values='tot_amt',\n",
    "                         aggfunc=aa, fill_value=0). \\\n",
    "                         reset_index(). \\\n",
    "                         query('custid in @IDtest'). \\\n",
    "                        drop(columns=['custid']).values\n",
    "# max_features = X_train.shape[1]"
   ]
  },
  {
   "cell_type": "code",
   "execution_count": 35,
   "id": "aca600d2",
   "metadata": {},
   "outputs": [],
   "source": [
    "catFeatures_train_team = pd.DataFrame(catFeatures_train_team)\n",
    "catFeatures_test_team = pd.DataFrame(catFeatures_test_team)"
   ]
  },
  {
   "cell_type": "code",
   "execution_count": 36,
   "id": "bbec15df",
   "metadata": {},
   "outputs": [],
   "source": [
    "catFeatures_train_team.columns = catFeatures_train_team.columns.map(lambda x : level+ \"_\" + str(x) + \"_onehot\" )\n",
    "catFeatures_test_team.columns = catFeatures_test_team.columns.map(lambda x : level+ \"_\" + str(x) + \"_onehot\" )"
   ]
  },
  {
   "cell_type": "markdown",
   "id": "f394537f",
   "metadata": {},
   "source": [
    "**<font color='CC3D3D'>[buyer_nm]**"
   ]
  },
  {
   "cell_type": "code",
   "execution_count": 37,
   "id": "4a001fd6",
   "metadata": {},
   "outputs": [
    {
     "data": {
      "text/plain": [
       "34"
      ]
     },
     "execution_count": 37,
     "metadata": {},
     "output_type": "execute_result"
    }
   ],
   "source": [
    "level = 'buyer_nm'\n",
    "data[level].nunique()"
   ]
  },
  {
   "cell_type": "code",
   "execution_count": null,
   "id": "4a279e94",
   "metadata": {},
   "outputs": [],
   "source": [
    "catFeatures_train_buyer = pd.pivot_table(data, index='custid', columns=level, values='tot_amt',\n",
    "                         aggfunc=aa, fill_value=0). \\\n",
    "                         reset_index(). \\\n",
    "                         query('custid not in @IDtest'). \\\n",
    "                        drop(columns=['custid']).values\n",
    "\n",
    "catFeatures_test_buyer = pd.pivot_table(data, index='custid', columns=level, values='tot_amt',\n",
    "                         aggfunc=aa, fill_value=0). \\\n",
    "                         reset_index(). \\\n",
    "                         query('custid in @IDtest'). \\\n",
    "                        drop(columns=['custid']).values\n",
    "# max_features = X_train.shape[1]"
   ]
  },
  {
   "cell_type": "code",
   "execution_count": null,
   "id": "98b86c89",
   "metadata": {},
   "outputs": [],
   "source": [
    "catFeatures_train_buyer = pd.DataFrame(catFeatures_train_buyer)\n",
    "catFeatures_test_buyer = pd.DataFrame(catFeatures_test_buyer)"
   ]
  },
  {
   "cell_type": "code",
   "execution_count": null,
   "id": "450e5833",
   "metadata": {},
   "outputs": [],
   "source": [
    "catFeatures_train_buyer.columns = catFeatures_train_buyer.columns.map(lambda x : level+ \"_\" + str(x) + \"_onehot\" )\n",
    "catFeatures_test_buyer.columns = catFeatures_test_buyer.columns.map(lambda x : level+ \"_\" + str(x) + \"_onehot\" )"
   ]
  },
  {
   "cell_type": "markdown",
   "id": "dc348e3a",
   "metadata": {},
   "source": [
    "# Merge Categoric Features"
   ]
  },
  {
   "cell_type": "code",
   "execution_count": null,
   "id": "e6eb7426",
   "metadata": {},
   "outputs": [],
   "source": [
    "onehot_features_train = pd.concat([catFeatures_train_cor, catFeatures_train_brd, catFeatures_train_pc,\\\n",
    "                            catFeatures_train_part, catFeatures_train_team, catFeatures_train_buyer], axis=1)"
   ]
  },
  {
   "cell_type": "code",
   "execution_count": null,
   "id": "8e83b212",
   "metadata": {},
   "outputs": [],
   "source": [
    "onehot_features_test = pd.concat([catFeatures_test_cor, catFeatures_test_brd, catFeatures_test_pc, \\\n",
    "                           catFeatures_test_part, catFeatures_test_team, catFeatures_test_buyer], axis=1)"
   ]
  },
  {
   "cell_type": "code",
   "execution_count": null,
   "id": "fd42198d",
   "metadata": {
    "scrolled": false
   },
   "outputs": [],
   "source": [
    "onehot_features_train.head()"
   ]
  },
  {
   "cell_type": "markdown",
   "id": "e3eef7a3",
   "metadata": {},
   "source": [
    "# Deployment"
   ]
  },
  {
   "cell_type": "code",
   "execution_count": null,
   "id": "05867e20",
   "metadata": {},
   "outputs": [],
   "source": [
    "onehot_features_train.to_csv('choi_onehot_features_train.csv', index=False)\n",
    "onehot_features_test.to_csv('choi_onehot_features_test.csv', index=False)"
   ]
  },
  {
   "cell_type": "markdown",
   "id": "967d350d",
   "metadata": {},
   "source": [
    "# <font color=\"#CC3D3D\"> END"
   ]
  }
 ],
 "metadata": {
  "kernelspec": {
   "display_name": "Python 3 (ipykernel)",
   "language": "python",
   "name": "python3"
  },
  "language_info": {
   "codemirror_mode": {
    "name": "ipython",
    "version": 3
   },
   "file_extension": ".py",
   "mimetype": "text/x-python",
   "name": "python",
   "nbconvert_exporter": "python",
   "pygments_lexer": "ipython3",
   "version": "3.8.8"
  }
 },
 "nbformat": 4,
 "nbformat_minor": 5
}
