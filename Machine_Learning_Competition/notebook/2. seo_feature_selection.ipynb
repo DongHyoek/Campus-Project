{
 "cells": [
  {
   "cell_type": "code",
   "execution_count": 1,
   "id": "677d90da",
   "metadata": {
    "scrolled": false
   },
   "outputs": [
    {
     "name": "stderr",
     "output_type": "stream",
     "text": [
      "C:\\Users\\inuya\\anaconda3\\lib\\site-packages\\xgboost\\compat.py:36: FutureWarning: pandas.Int64Index is deprecated and will be removed from pandas in a future version. Use pandas.Index with the appropriate dtype instead.\n",
      "  from pandas import MultiIndex, Int64Index\n"
     ]
    }
   ],
   "source": [
    "# !pip install catboost\n",
    "import pandas as pd\n",
    "import numpy as np\n",
    "from xgboost import XGBClassifier\n",
    "from sklearn.preprocessing import LabelEncoder\n",
    "\n",
    "# !pip install sweetviz\n",
    "import sweetviz as sv\n",
    "import pandas as pd\n",
    "import numpy as np\n",
    "from pandas import Series, DataFrame\n",
    "from matplotlib import font_manager, rc\n",
    "import matplotlib.pyplot as plt\n",
    "import seaborn as sns\n",
    "import matplotlib\n",
    "from matplotlib import cm\n",
    "import matplotlib.font_manager as fm\n",
    "rc('font',family= 'malgun gothic')\n",
    "rc('axes', unicode_minus = False)\n",
    "\n",
    "import math\n",
    "%matplotlib inline\n",
    "import seaborn as sns\n",
    "# !pip install -U klib\n",
    "import klib\n",
    "import time\n",
    "from sklearn.preprocessing import MinMaxScaler\n",
    "from sklearn.preprocessing import PowerTransformer\n",
    "from sklearn.decomposition import PCA\n",
    "from sklearn.model_selection import train_test_split\n",
    "from sklearn.feature_selection import SelectPercentile\n",
    "from sklearn.model_selection import cross_val_score\n",
    "from tqdm import tqdm\n",
    "from sklearn.metrics import mean_squared_error\n",
    "from sklearn.metrics import log_loss\n",
    "import sys, warnings\n",
    "if not sys.warnoptions: warnings.simplefilter(\"ignore\")\n",
    "    \n",
    "\n",
    "from sklearn.neural_network import MLPClassifier\n",
    "from lightgbm import LGBMClassifier\n",
    "from xgboost import XGBClassifier\n",
    "from sklearn.ensemble import ExtraTreesClassifier\n",
    "from sklearn.ensemble import AdaBoostClassifier\n",
    "from catboost import CatBoostClassifier\n",
    "from sklearn.model_selection import RandomizedSearchCV\n",
    "from sklearn.linear_model import LinearRegression, Ridge, Lasso\n",
    "from sklearn.ensemble import VotingRegressor\n",
    "\n",
    "from sklearn.impute import SimpleImputer \n",
    "from sklearn.preprocessing import StandardScaler\n",
    "from sklearn.model_selection import RepeatedKFold\n",
    "from sklearn.preprocessing import PowerTransformer\n",
    "\n",
    "from sklearn.model_selection import GridSearchCV\n",
    "from sklearn.model_selection import RandomizedSearchCV\n",
    "from sklearn.svm import SVC\n",
    "from sklearn.base import ClassifierMixin\n",
    "from xgboost import XGBClassifier\n",
    "from lightgbm import LGBMClassifier\n",
    "from catboost import CatBoostClassifier\n",
    "from sklearn.model_selection import RepeatedKFold\n",
    "from sklearn.metrics import roc_auc_score\n",
    "from sklearn.metrics import accuracy_score\n",
    "from sklearn.model_selection import cross_val_score\n",
    "\n",
    "import os\n",
    "import time\n",
    "import random\n",
    "import warnings; warnings.filterwarnings(\"ignore\")\n",
    "from IPython.display import Image\n",
    "import pickle\n",
    "from tqdm import tqdm, tqdm_notebook\n",
    "import platform\n",
    "from itertools import combinations\n",
    "from scipy.stats.mstats import gmean\n",
    "\n",
    "\n",
    "import datetime\n",
    "from sklearn.model_selection import StratifiedKFold, KFold\n",
    "from sklearn.decomposition import PCA\n",
    "import optuna"
   ]
  },
  {
   "cell_type": "markdown",
   "id": "039f500b",
   "metadata": {},
   "source": [
    "### Loading Feature"
   ]
  },
  {
   "cell_type": "code",
   "execution_count": 2,
   "id": "3921f1a6",
   "metadata": {},
   "outputs": [],
   "source": [
    "# 피쳐 불러오기\n",
    "num_features_train = pd.read_csv(os.path.abspath(\"../input\")+'/seo_num_features_train.csv',encoding = 'utf-8')\n",
    "num_features_test = pd.read_csv(os.path.abspath(\"../input\")+'/seo_num_features_test.csv',encoding = 'utf-8')\n",
    "onehot_features_train = pd.read_csv(os.path.abspath(\"../input\")+'/seo_onehot_features_train.csv',encoding = 'utf-8')\n",
    "onehot_features_test = pd.read_csv(os.path.abspath(\"../input\")+'/seo_onehot_features_test.csv',encoding = 'utf-8')\n",
    "w2v_features_train = pd.read_csv(os.path.abspath(\"../input\")+'/seo_w2v_features_train.csv',encoding = 'utf-8')\n",
    "w2v_features_test = pd.read_csv(os.path.abspath(\"../input\")+'/seo_w2v_features_test.csv',encoding = 'utf-8')\n",
    "target = pd.read_csv(os.path.abspath(\"../input\")+'/y_train.csv', encoding = 'cp949').group"
   ]
  },
  {
   "cell_type": "code",
   "execution_count": 3,
   "id": "ae7f71d3",
   "metadata": {},
   "outputs": [
    {
     "data": {
      "text/plain": [
       "(21587, 1566)"
      ]
     },
     "execution_count": 3,
     "metadata": {},
     "output_type": "execute_result"
    }
   ],
   "source": [
    "num_features_train.shape"
   ]
  },
  {
   "cell_type": "code",
   "execution_count": 4,
   "id": "70655afc",
   "metadata": {},
   "outputs": [
    {
     "data": {
      "text/plain": [
       "(21587, 2314)"
      ]
     },
     "execution_count": 4,
     "metadata": {},
     "output_type": "execute_result"
    }
   ],
   "source": [
    "onehot_features_train.shape"
   ]
  },
  {
   "cell_type": "code",
   "execution_count": 5,
   "id": "9fc51ae4",
   "metadata": {
    "scrolled": true
   },
   "outputs": [
    {
     "data": {
      "text/plain": [
       "(14380, 1950)"
      ]
     },
     "execution_count": 5,
     "metadata": {},
     "output_type": "execute_result"
    }
   ],
   "source": [
    "w2v_features_test.shape"
   ]
  },
  {
   "cell_type": "code",
   "execution_count": 6,
   "id": "5592c570",
   "metadata": {},
   "outputs": [],
   "source": [
    "# custid 분리\n",
    "id_train = num_features_train.custid.unique()\n",
    "id_test = num_features_test.custid.unique()\n",
    "num_features_train = num_features_train.drop(columns = 'custid')\n",
    "num_features_test = num_features_test.drop(columns = 'custid')"
   ]
  },
  {
   "cell_type": "code",
   "execution_count": 7,
   "id": "5cfed868",
   "metadata": {},
   "outputs": [],
   "source": [
    "# scaling 적용\n",
    "scaler = StandardScaler()\n",
    "num_features_scaler_train = scaler.fit_transform(num_features_train)\n",
    "num_features_scaler_test = scaler.fit(num_features_train).transform(num_features_test)"
   ]
  },
  {
   "cell_type": "markdown",
   "id": "5d7d2bdb",
   "metadata": {},
   "source": [
    "### Merge All Featuers"
   ]
  },
  {
   "cell_type": "code",
   "execution_count": 8,
   "id": "7d752c86",
   "metadata": {},
   "outputs": [],
   "source": [
    "all_features_scaler_train =  pd.concat([pd.DataFrame(num_features_scaler_train), onehot_features_train, w2v_features_train], axis = 1)\n",
    "all_features_scaler_test =  pd.concat([pd.DataFrame(num_features_scaler_test), onehot_features_test, w2v_features_test], axis = 1)"
   ]
  },
  {
   "cell_type": "code",
   "execution_count": 9,
   "id": "1a45877b",
   "metadata": {},
   "outputs": [],
   "source": [
    "all_features_train = all_features_scaler_train\n",
    "all_features_test = all_features_scaler_test"
   ]
  },
  {
   "cell_type": "markdown",
   "id": "17aba1d0",
   "metadata": {},
   "source": [
    "### Feature Selection"
   ]
  },
  {
   "cell_type": "code",
   "execution_count": 10,
   "id": "c66c384f",
   "metadata": {},
   "outputs": [],
   "source": [
    "clf = LGBMClassifier(random_state = 0)     "
   ]
  },
  {
   "cell_type": "code",
   "execution_count": 11,
   "id": "24181089",
   "metadata": {},
   "outputs": [],
   "source": [
    "from sklearn.feature_selection import SelectFromModel"
   ]
  },
  {
   "cell_type": "code",
   "execution_count": 12,
   "id": "9181e524",
   "metadata": {},
   "outputs": [],
   "source": [
    "all_features_train_fs = all_features_train\n",
    "all_features_test_fs = all_features_test"
   ]
  },
  {
   "cell_type": "code",
   "execution_count": 13,
   "id": "5c01bc37",
   "metadata": {},
   "outputs": [],
   "source": [
    "smf = SelectFromModel(clf, threshold='3.0*mean')\n",
    "smf.fit(all_features_train_fs, target)\n",
    "\n",
    "X_new = smf.transform(all_features_train_fs)\n",
    "X_te_new = smf.transform(all_features_test_fs)\n",
    "\n",
    "feature_selection_idx = smf.get_support()\n",
    "feature_selection_name = all_features_train_fs.columns[feature_selection_idx]"
   ]
  },
  {
   "cell_type": "code",
   "execution_count": 14,
   "id": "87731d0c",
   "metadata": {
    "scrolled": true
   },
   "outputs": [
    {
     "data": {
      "text/plain": [
       "Index([                   7,                   19,                   33,\n",
       "                         35,                   38,                   43,\n",
       "                         47,                   71,                   78,\n",
       "                         91,\n",
       "       ...\n",
       "       'customer_info_v284', 'customer_info_v285', 'customer_info_v287',\n",
       "       'customer_info_v288', 'customer_info_v290', 'customer_info_v291',\n",
       "       'customer_info_v294', 'customer_info_v296', 'customer_info_v297',\n",
       "       'customer_info_v298'],\n",
       "      dtype='object', length=540)"
      ]
     },
     "execution_count": 14,
     "metadata": {},
     "output_type": "execute_result"
    }
   ],
   "source": [
    "all_features_train_fs.columns[feature_selection_idx]"
   ]
  },
  {
   "cell_type": "code",
   "execution_count": 15,
   "id": "9d6dcf96",
   "metadata": {},
   "outputs": [],
   "source": [
    "# csv파일로 저장.\n",
    "X_new = pd.DataFrame(X_new)\n",
    "X_te_new = pd.DataFrame(X_te_new)\n",
    "\n",
    "X_new.columns = feature_selection_name\n",
    "X_te_new.columns = feature_selection_name\n",
    "\n",
    "X_new.to_csv('seo_X_new_selected.csv',encoding = 'utf-8',index = False)\n",
    "X_te_new.to_csv('seo_X_te_new_selected.csv',encoding = 'utf-8',index = False)"
   ]
  },
  {
   "cell_type": "code",
   "execution_count": null,
   "id": "4bdc1577",
   "metadata": {},
   "outputs": [],
   "source": []
  }
 ],
 "metadata": {
  "kernelspec": {
   "display_name": "Python 3 (ipykernel)",
   "language": "python",
   "name": "python3"
  },
  "language_info": {
   "codemirror_mode": {
    "name": "ipython",
    "version": 3
   },
   "file_extension": ".py",
   "mimetype": "text/x-python",
   "name": "python",
   "nbconvert_exporter": "python",
   "pygments_lexer": "ipython3",
   "version": "3.9.7"
  }
 },
 "nbformat": 4,
 "nbformat_minor": 5
}
