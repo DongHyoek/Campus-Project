{
 "cells": [
  {
   "cell_type": "markdown",
   "metadata": {},
   "source": [
    "<font color='tomato'><font color=\"#CC3D3D\"><p>\n",
    "# A DNN Model for Multiclass Classification"
   ]
  },
  {
   "cell_type": "markdown",
   "metadata": {},
   "source": [
    "##### Import modules"
   ]
  },
  {
   "cell_type": "code",
   "execution_count": 96,
   "metadata": {},
   "outputs": [
    {
     "name": "stdout",
     "output_type": "stream",
     "text": [
      "2.9.1\n"
     ]
    }
   ],
   "source": [
    "import pandas as pd\n",
    "import numpy as np\n",
    "import os\n",
    "import random\n",
    "import pickle\n",
    "from tqdm import tqdm\n",
    "from IPython.display import Image, clear_output\n",
    "import seaborn as sns\n",
    "import matplotlib.pylab as plt\n",
    "from matplotlib import font_manager, rc\n",
    "%matplotlib inline\n",
    "\n",
    "from sklearn.preprocessing import StandardScaler\n",
    "import tensorflow as tf\n",
    "from tensorflow import keras\n",
    "import kerastuner as kt\n",
    "print(tf.__version__)"
   ]
  },
  {
   "cell_type": "markdown",
   "metadata": {},
   "source": [
    "##### Set random seeds to make your results reproducible"
   ]
  },
  {
   "cell_type": "code",
   "execution_count": 97,
   "metadata": {},
   "outputs": [],
   "source": [
    "# 매번 모델링을 할 때마다 동일한 결과를 얻으려면 아래 코드를 실행해야 함.\n",
    "\n",
    "def reset_seeds(s1,s2,s3, reset_graph_with_backend=None):\n",
    "    if reset_graph_with_backend is not None:\n",
    "        K = reset_graph_with_backend\n",
    "        K.clear_session()\n",
    "        tf.compat.v1.reset_default_graph()\n",
    "        print(\"KERAS AND TENSORFLOW GRAPHS RESET\")  # optional\n",
    "\n",
    "    np.random.seed(s1)\n",
    "    random.seed(s2)\n",
    "    tf.compat.v1.set_random_seed(s3)\n",
    "#    os.environ['CUDA_VISIBLE_DEVICES'] = ''  # for GPU\n",
    "#    print(\"RANDOM SEEDS RESET\")  # optional"
   ]
  },
  {
   "cell_type": "code",
   "execution_count": 98,
   "metadata": {},
   "outputs": [],
   "source": [
    "reset_seeds(1,2,3)"
   ]
  },
  {
   "cell_type": "markdown",
   "metadata": {},
   "source": [
    "### Step 1: Load and process the data"
   ]
  },
  {
   "cell_type": "markdown",
   "metadata": {},
   "source": [
    "##### Read data"
   ]
  },
  {
   "cell_type": "code",
   "execution_count": 99,
   "metadata": {},
   "outputs": [
    {
     "data": {
      "text/html": [
       "<div>\n",
       "<style scoped>\n",
       "    .dataframe tbody tr th:only-of-type {\n",
       "        vertical-align: middle;\n",
       "    }\n",
       "\n",
       "    .dataframe tbody tr th {\n",
       "        vertical-align: top;\n",
       "    }\n",
       "\n",
       "    .dataframe thead th {\n",
       "        text-align: right;\n",
       "    }\n",
       "</style>\n",
       "<table border=\"1\" class=\"dataframe\">\n",
       "  <thead>\n",
       "    <tr style=\"text-align: right;\">\n",
       "      <th></th>\n",
       "      <th>19_x</th>\n",
       "      <th>19_y</th>\n",
       "      <th>dis_rate</th>\n",
       "      <th>sales_time</th>\n",
       "      <th>남성</th>\n",
       "      <th>비남성</th>\n",
       "      <th>남성part</th>\n",
       "      <th>비화장품</th>\n",
       "      <th>화장품_x</th>\n",
       "      <th>real_amt</th>\n",
       "      <th>...</th>\n",
       "      <th>customer_info_v287</th>\n",
       "      <th>customer_info_v288</th>\n",
       "      <th>customer_info_v290</th>\n",
       "      <th>customer_info_v291</th>\n",
       "      <th>customer_info_v293</th>\n",
       "      <th>customer_info_v294</th>\n",
       "      <th>customer_info_v296</th>\n",
       "      <th>customer_info_v297</th>\n",
       "      <th>customer_info_v298</th>\n",
       "      <th>customer_info_v299</th>\n",
       "    </tr>\n",
       "  </thead>\n",
       "  <tbody>\n",
       "    <tr>\n",
       "      <th>0</th>\n",
       "      <td>0.480424</td>\n",
       "      <td>0.892344</td>\n",
       "      <td>3.932657</td>\n",
       "      <td>1.295963</td>\n",
       "      <td>-0.179521</td>\n",
       "      <td>-0.277657</td>\n",
       "      <td>0.624123</td>\n",
       "      <td>0.612743</td>\n",
       "      <td>2.065492</td>\n",
       "      <td>0.026492</td>\n",
       "      <td>...</td>\n",
       "      <td>0.002763</td>\n",
       "      <td>0.042127</td>\n",
       "      <td>0.082274</td>\n",
       "      <td>-0.029668</td>\n",
       "      <td>-0.014897</td>\n",
       "      <td>0.006680</td>\n",
       "      <td>-0.022601</td>\n",
       "      <td>-0.017812</td>\n",
       "      <td>0.017760</td>\n",
       "      <td>0.070474</td>\n",
       "    </tr>\n",
       "    <tr>\n",
       "      <th>1</th>\n",
       "      <td>0.081857</td>\n",
       "      <td>1.929858</td>\n",
       "      <td>2.357874</td>\n",
       "      <td>-0.202027</td>\n",
       "      <td>0.349653</td>\n",
       "      <td>2.417547</td>\n",
       "      <td>-0.255893</td>\n",
       "      <td>2.298417</td>\n",
       "      <td>-0.245812</td>\n",
       "      <td>2.957209</td>\n",
       "      <td>...</td>\n",
       "      <td>0.091217</td>\n",
       "      <td>-0.008662</td>\n",
       "      <td>0.003983</td>\n",
       "      <td>-0.002832</td>\n",
       "      <td>0.042365</td>\n",
       "      <td>0.012988</td>\n",
       "      <td>0.071694</td>\n",
       "      <td>-0.024969</td>\n",
       "      <td>-0.011674</td>\n",
       "      <td>-0.037639</td>\n",
       "    </tr>\n",
       "    <tr>\n",
       "      <th>2</th>\n",
       "      <td>-0.117426</td>\n",
       "      <td>0.548752</td>\n",
       "      <td>0.119978</td>\n",
       "      <td>0.254014</td>\n",
       "      <td>-0.012162</td>\n",
       "      <td>-0.254931</td>\n",
       "      <td>0.961806</td>\n",
       "      <td>1.429560</td>\n",
       "      <td>-0.141677</td>\n",
       "      <td>-0.590541</td>\n",
       "      <td>...</td>\n",
       "      <td>-0.000277</td>\n",
       "      <td>-0.006757</td>\n",
       "      <td>0.015132</td>\n",
       "      <td>0.050091</td>\n",
       "      <td>0.033917</td>\n",
       "      <td>0.028930</td>\n",
       "      <td>-0.072096</td>\n",
       "      <td>-0.100285</td>\n",
       "      <td>0.043172</td>\n",
       "      <td>-0.034632</td>\n",
       "    </tr>\n",
       "    <tr>\n",
       "      <th>3</th>\n",
       "      <td>-0.515993</td>\n",
       "      <td>-0.404549</td>\n",
       "      <td>-0.398339</td>\n",
       "      <td>-0.903977</td>\n",
       "      <td>-0.359631</td>\n",
       "      <td>-0.348907</td>\n",
       "      <td>-0.689248</td>\n",
       "      <td>0.850321</td>\n",
       "      <td>-0.464243</td>\n",
       "      <td>-0.031264</td>\n",
       "      <td>...</td>\n",
       "      <td>-0.050163</td>\n",
       "      <td>0.103102</td>\n",
       "      <td>0.107627</td>\n",
       "      <td>-0.043774</td>\n",
       "      <td>-0.022241</td>\n",
       "      <td>0.077513</td>\n",
       "      <td>-0.028061</td>\n",
       "      <td>0.064289</td>\n",
       "      <td>-0.004013</td>\n",
       "      <td>-0.030925</td>\n",
       "    </tr>\n",
       "    <tr>\n",
       "      <th>4</th>\n",
       "      <td>0.679707</td>\n",
       "      <td>1.265075</td>\n",
       "      <td>2.037846</td>\n",
       "      <td>0.018223</td>\n",
       "      <td>2.705752</td>\n",
       "      <td>-0.300516</td>\n",
       "      <td>1.863673</td>\n",
       "      <td>0.153425</td>\n",
       "      <td>0.711728</td>\n",
       "      <td>0.639562</td>\n",
       "      <td>...</td>\n",
       "      <td>0.014402</td>\n",
       "      <td>0.009355</td>\n",
       "      <td>0.069340</td>\n",
       "      <td>-0.007804</td>\n",
       "      <td>-0.035510</td>\n",
       "      <td>-0.026667</td>\n",
       "      <td>-0.001820</td>\n",
       "      <td>0.033150</td>\n",
       "      <td>-0.007561</td>\n",
       "      <td>0.010482</td>\n",
       "    </tr>\n",
       "  </tbody>\n",
       "</table>\n",
       "<p>5 rows × 547 columns</p>\n",
       "</div>"
      ],
      "text/plain": [
       "       19_x      19_y  dis_rate  sales_time        남성       비남성    남성part  \\\n",
       "0  0.480424  0.892344  3.932657    1.295963 -0.179521 -0.277657  0.624123   \n",
       "1  0.081857  1.929858  2.357874   -0.202027  0.349653  2.417547 -0.255893   \n",
       "2 -0.117426  0.548752  0.119978    0.254014 -0.012162 -0.254931  0.961806   \n",
       "3 -0.515993 -0.404549 -0.398339   -0.903977 -0.359631 -0.348907 -0.689248   \n",
       "4  0.679707  1.265075  2.037846    0.018223  2.705752 -0.300516  1.863673   \n",
       "\n",
       "       비화장품     화장품_x  real_amt  ...  customer_info_v287  customer_info_v288  \\\n",
       "0  0.612743  2.065492  0.026492  ...            0.002763            0.042127   \n",
       "1  2.298417 -0.245812  2.957209  ...            0.091217           -0.008662   \n",
       "2  1.429560 -0.141677 -0.590541  ...           -0.000277           -0.006757   \n",
       "3  0.850321 -0.464243 -0.031264  ...           -0.050163            0.103102   \n",
       "4  0.153425  0.711728  0.639562  ...            0.014402            0.009355   \n",
       "\n",
       "   customer_info_v290  customer_info_v291  customer_info_v293  \\\n",
       "0            0.082274           -0.029668           -0.014897   \n",
       "1            0.003983           -0.002832            0.042365   \n",
       "2            0.015132            0.050091            0.033917   \n",
       "3            0.107627           -0.043774           -0.022241   \n",
       "4            0.069340           -0.007804           -0.035510   \n",
       "\n",
       "   customer_info_v294  customer_info_v296  customer_info_v297  \\\n",
       "0            0.006680           -0.022601           -0.017812   \n",
       "1            0.012988            0.071694           -0.024969   \n",
       "2            0.028930           -0.072096           -0.100285   \n",
       "3            0.077513           -0.028061            0.064289   \n",
       "4           -0.026667           -0.001820            0.033150   \n",
       "\n",
       "   customer_info_v298  customer_info_v299  \n",
       "0            0.017760            0.070474  \n",
       "1           -0.011674           -0.037639  \n",
       "2            0.043172           -0.034632  \n",
       "3           -0.004013           -0.030925  \n",
       "4           -0.007561            0.010482  \n",
       "\n",
       "[5 rows x 547 columns]"
      ]
     },
     "execution_count": 99,
     "metadata": {},
     "output_type": "execute_result"
    }
   ],
   "source": [
    "num_features_train = pd.read_csv(os.path.abspath(\"../input\")+\"/choi_num_features_test.csv\" , encoding = 'utf-8')\n",
    "num_features_test = pd.read_csv(os.path.abspath(\"../input\")+\"/choi_num_features_test.csv\" , encoding = 'utf-8')\n",
    "df_train = pd.read_csv(os.path.abspath(\"../input\")+\"/choi_select_547_train.csv\" , encoding = 'utf-8')\n",
    "df_test = pd.read_csv(os.path.abspath(\"../input\")+\"/choi_select_547_test.csv\" , encoding = 'utf-8')\n",
    "y_train = pd.read_csv(os.path.abspath(\"../input\")+'/y_train.csv' , encoding = 'cp949').group\n",
    "\n",
    "IDtest = num_features_test.custid.unique()\n",
    "\n",
    "df_train.head()"
   ]
  },
  {
   "cell_type": "code",
   "execution_count": 100,
   "metadata": {},
   "outputs": [
    {
     "name": "stdout",
     "output_type": "stream",
     "text": [
      "(21587, 547)\n",
      "(14380, 547)\n"
     ]
    }
   ],
   "source": [
    "print(df_train.shape)\n",
    "print(df_test.shape)"
   ]
  },
  {
   "cell_type": "markdown",
   "metadata": {},
   "source": [
    "***"
   ]
  },
  {
   "cell_type": "markdown",
   "metadata": {},
   "source": [
    "##### One-hot-encode Target variable "
   ]
  },
  {
   "cell_type": "code",
   "execution_count": 101,
   "metadata": {},
   "outputs": [],
   "source": [
    "# 8개의 범주형 타겟 값을 one-hot-encoding을 통해 8개의 컬럼으로 만들어야 함.\n",
    "y_train = keras.utils.to_categorical(y_train.astype('category').cat.codes)"
   ]
  },
  {
   "cell_type": "code",
   "execution_count": 102,
   "metadata": {},
   "outputs": [],
   "source": [
    "df_train = np.array(df_train)\n",
    "df_test = np.array(df_test)"
   ]
  },
  {
   "cell_type": "markdown",
   "metadata": {},
   "source": [
    "##### Split data into train & validation set "
   ]
  },
  {
   "cell_type": "code",
   "execution_count": 103,
   "metadata": {},
   "outputs": [],
   "source": [
    "i = int(round(df_train.shape[0] * 0.8,0))\n",
    "X_valid, y_valid = df_train[i:], y_train[i:]\n",
    "X_train, y_train = df_train[:i], y_train[:i]"
   ]
  },
  {
   "cell_type": "code",
   "execution_count": 104,
   "metadata": {},
   "outputs": [
    {
     "name": "stdout",
     "output_type": "stream",
     "text": [
      "(4317, 547)\n",
      "(4317, 8)\n"
     ]
    }
   ],
   "source": [
    "print(X_valid.shape)\n",
    "print(y_valid.shape)"
   ]
  },
  {
   "cell_type": "code",
   "execution_count": 105,
   "metadata": {},
   "outputs": [
    {
     "name": "stdout",
     "output_type": "stream",
     "text": [
      "(17270, 547)\n",
      "(17270, 8)\n"
     ]
    }
   ],
   "source": [
    "print(X_train.shape)\n",
    "print(y_train.shape)"
   ]
  },
  {
   "cell_type": "markdown",
   "metadata": {},
   "source": [
    "### Step 2: Define the hyper-model"
   ]
  },
  {
   "cell_type": "code",
   "execution_count": 106,
   "metadata": {},
   "outputs": [],
   "source": [
    "def model_fn(hp):\n",
    "    inputs = keras.Input(shape=(X_train.shape[1],))\n",
    "    x = inputs\n",
    "    for i in range(hp.Int('num_layers', 2, 3)):\n",
    "        x = keras.layers.Dense(hp.Int('unit_'+str(i), 16, 64, step=16), activation='relu')(x)\n",
    "        x = keras.layers.Dropout(hp.Float('dropout_'+str(i), 0, 0.5, step=0.25, default=0.5))(x)\n",
    "    outputs = keras.layers.Dense(8, activation='softmax')(x) # 예측값이 8종류이므로 8개 출력 뉴런 필요\n",
    "    model = keras.Model(inputs, outputs)\n",
    "    model.compile(loss='categorical_crossentropy', # Multiclass Classification에서 사용하는 loss function\n",
    "                  optimizer=tf.keras.optimizers.Adam(hp.Choice('learning_rate', [1e-2, 1e-3, 1e-4])), \n",
    "                  metrics=[keras.metrics.CategoricalCrossentropy()]) # Multiclass Classification에서 사용하는 평가지표\n",
    "    return model"
   ]
  },
  {
   "cell_type": "markdown",
   "metadata": {},
   "source": [
    "### Step 3: Build multiple hyper-tuned models"
   ]
  },
  {
   "cell_type": "code",
   "execution_count": 107,
   "metadata": {},
   "outputs": [
    {
     "name": "stdout",
     "output_type": "stream",
     "text": [
      "Trial 60 Complete [00h 00m 02s]\n",
      "val_categorical_crossentropy: 1.4748642444610596\n",
      "\n",
      "Best val_categorical_crossentropy So Far: 1.4619978666305542\n",
      "Total elapsed time: 00h 02m 32s\n",
      "INFO:tensorflow:Oracle triggered exit\n",
      "Results summary\n",
      "Results in dnn_tuning\\untitled_project\n",
      "Showing 1 best trials\n",
      "<keras_tuner.engine.objective.Objective object at 0x0000020E801861C0>\n",
      "Trial summary\n",
      "Hyperparameters:\n",
      "num_layers: 3\n",
      "unit_0: 48\n",
      "dropout_0: 0.25\n",
      "unit_1: 64\n",
      "dropout_1: 0.0\n",
      "learning_rate: 0.001\n",
      "unit_2: 48\n",
      "dropout_2: 0.0\n",
      "tuner/epochs: 10\n",
      "tuner/initial_epoch: 4\n",
      "tuner/bracket: 1\n",
      "tuner/round: 1\n",
      "tuner/trial_id: 0053\n",
      "Score: 1.4619978666305542\n"
     ]
    }
   ],
   "source": [
    "tuner = kt.Hyperband(model_fn,\n",
    "                     objective=kt.Objective('val_categorical_crossentropy', direction=\"min\"), \n",
    "                     max_epochs=10,\n",
    "                     hyperband_iterations=3,\n",
    "                     overwrite=True,\n",
    "                     directory='dnn_tuning')\n",
    "tuner.search(X_train, y_train, validation_data=(X_valid, y_valid), \n",
    "             callbacks=[tf.keras.callbacks.EarlyStopping(patience=1)])\n",
    "model = tuner.get_best_models(1)[0]  \n",
    "tuner.results_summary(1)"
   ]
  },
  {
   "cell_type": "markdown",
   "metadata": {},
   "source": [
    "### Step 4: Make submissions"
   ]
  },
  {
   "cell_type": "code",
   "execution_count": 108,
   "metadata": {},
   "outputs": [
    {
     "name": "stdout",
     "output_type": "stream",
     "text": [
      "450/450 [==============================] - 0s 555us/step\n",
      "'dnn_submission_06082328.csv' is ready to submit.\n"
     ]
    }
   ],
   "source": [
    "t = pd.Timestamp.now()\n",
    "fname = f\"dnn_submission_{t.month:02}{t.day:02}{t.hour:02}{t.minute:02}.csv\"\n",
    "pred = pd.DataFrame(model.predict(df_test))\n",
    "pred.columns = ['F20','F30','F40','F50','M20','M30','M40','M50']\n",
    "pd.concat([pd.Series(IDtest, name=\"ID\"), pred] ,axis=1).to_csv(fname, index=False)\n",
    "print(f\"'{fname}' is ready to submit.\")"
   ]
  },
  {
   "cell_type": "markdown",
   "metadata": {},
   "source": [
    "<font color=\"#CC3D3D\"><p>\n",
    "# End"
   ]
  }
 ],
 "metadata": {
  "kernelspec": {
   "display_name": "Python 3 (ipykernel)",
   "language": "python",
   "name": "python3"
  },
  "language_info": {
   "codemirror_mode": {
    "name": "ipython",
    "version": 3
   },
   "file_extension": ".py",
   "mimetype": "text/x-python",
   "name": "python",
   "nbconvert_exporter": "python",
   "pygments_lexer": "ipython3",
   "version": "3.8.8"
  }
 },
 "nbformat": 4,
 "nbformat_minor": 4
}
