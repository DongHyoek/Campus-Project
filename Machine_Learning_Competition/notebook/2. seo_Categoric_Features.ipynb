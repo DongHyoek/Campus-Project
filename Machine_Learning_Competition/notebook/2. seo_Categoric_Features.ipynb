{
 "cells": [
  {
   "cell_type": "code",
   "execution_count": 1,
   "id": "17f8f675",
   "metadata": {},
   "outputs": [
    {
     "name": "stderr",
     "output_type": "stream",
     "text": [
      "C:\\Users\\inuya\\anaconda3\\lib\\site-packages\\xgboost\\compat.py:36: FutureWarning: pandas.Int64Index is deprecated and will be removed from pandas in a future version. Use pandas.Index with the appropriate dtype instead.\n",
      "  from pandas import MultiIndex, Int64Index\n"
     ]
    }
   ],
   "source": [
    "# !pip install catboost\n",
    "import pandas as pd\n",
    "import numpy as np\n",
    "from xgboost import XGBClassifier\n",
    "from sklearn.preprocessing import LabelEncoder\n",
    "\n",
    "# !pip install sweetviz\n",
    "import sweetviz as sv\n",
    "import pandas as pd\n",
    "import numpy as np\n",
    "from pandas import Series, DataFrame\n",
    "from matplotlib import font_manager, rc\n",
    "import matplotlib.pyplot as plt\n",
    "import seaborn as sns\n",
    "import matplotlib\n",
    "from matplotlib import cm\n",
    "import matplotlib.font_manager as fm\n",
    "rc('font',family= 'malgun gothic')\n",
    "rc('axes', unicode_minus = False)\n",
    "\n",
    "import math\n",
    "%matplotlib inline\n",
    "import seaborn as sns\n",
    "# !pip install -U klib\n",
    "import klib\n",
    "import time\n",
    "from sklearn.preprocessing import MinMaxScaler\n",
    "from sklearn.preprocessing import PowerTransformer\n",
    "from sklearn.decomposition import PCA\n",
    "from sklearn.model_selection import train_test_split\n",
    "from sklearn.feature_selection import SelectPercentile\n",
    "from sklearn.model_selection import cross_val_score\n",
    "from tqdm import tqdm\n",
    "from sklearn.metrics import mean_squared_error\n",
    "import sys, warnings\n",
    "if not sys.warnoptions: warnings.simplefilter(\"ignore\")\n",
    "    \n",
    "\n",
    "from sklearn.neural_network import MLPClassifier\n",
    "from lightgbm import LGBMClassifier\n",
    "from xgboost import XGBClassifier\n",
    "from sklearn.ensemble import ExtraTreesClassifier\n",
    "from sklearn.ensemble import AdaBoostClassifier\n",
    "from catboost import CatBoostClassifier\n",
    "from sklearn.model_selection import RandomizedSearchCV\n",
    "from sklearn.linear_model import LinearRegression, Ridge, Lasso\n",
    "from sklearn.ensemble import VotingRegressor\n",
    "\n",
    "from sklearn.impute import SimpleImputer \n",
    "from sklearn.preprocessing import StandardScaler\n",
    "from sklearn.model_selection import RepeatedKFold\n",
    "\n",
    "from sklearn.model_selection import GridSearchCV\n",
    "from sklearn.model_selection import RandomizedSearchCV\n",
    "from sklearn.svm import SVC\n",
    "from sklearn.base import ClassifierMixin\n",
    "from xgboost import XGBClassifier\n",
    "from lightgbm import LGBMClassifier\n",
    "from catboost import CatBoostClassifier\n",
    "from sklearn.model_selection import RepeatedKFold\n",
    "from sklearn.metrics import roc_auc_score\n",
    "from sklearn.metrics import accuracy_score\n",
    "from sklearn.model_selection import cross_val_score\n",
    "\n",
    "import os\n",
    "import time\n",
    "import random\n",
    "import warnings; warnings.filterwarnings(\"ignore\")\n",
    "from IPython.display import Image\n",
    "import pickle\n",
    "from tqdm import tqdm, tqdm_notebook\n",
    "import platform\n",
    "from itertools import combinations\n",
    "from scipy.stats.mstats import gmean\n",
    "\n",
    "\n",
    "import datetime\n",
    "from sklearn.model_selection import StratifiedKFold, KFold\n",
    "from sklearn.decomposition import PCA"
   ]
  },
  {
   "cell_type": "code",
   "execution_count": 2,
   "id": "0f93a2a1",
   "metadata": {},
   "outputs": [],
   "source": [
    "# 학습, 평가데이터 불러오기\n",
    "\n",
    "train = pd.read_csv(os.path.abspath(\"../input\")+'/X_train.csv', encoding = 'cp949')\n",
    "test = pd.read_csv(os.path.abspath(\"../input\")+'/X_test.csv', encoding = 'cp949')\n",
    "target = pd.read_csv(os.path.abspath(\"../input\")+'/y_train.csv', encoding = 'cp949').group"
   ]
  },
  {
   "cell_type": "code",
   "execution_count": 3,
   "id": "652ff688",
   "metadata": {},
   "outputs": [],
   "source": [
    "# 같이 전처리 하기 위해서 train과 test를 합침\n",
    "\n",
    "data = pd.concat([train, test],ignore_index= True)"
   ]
  },
  {
   "cell_type": "code",
   "execution_count": 4,
   "id": "4cd51a4f",
   "metadata": {},
   "outputs": [],
   "source": [
    "unique_custid = pd.DataFrame(data.custid.unique()).rename(columns = {0 : 'custid'})"
   ]
  },
  {
   "cell_type": "markdown",
   "id": "aa91c967",
   "metadata": {},
   "source": [
    "# Preprocessing"
   ]
  },
  {
   "cell_type": "code",
   "execution_count": 5,
   "id": "b74e0188",
   "metadata": {},
   "outputs": [],
   "source": [
    "# 시간데이터 처리\n",
    "\n",
    "def hour_process(x):\n",
    "    x = str(x)\n",
    "    if len(x) == 4:\n",
    "        return x[:2]\n",
    "    elif len(x) == 3:\n",
    "        return x[:1]\n",
    "    elif len(x) == 2:\n",
    "        return '0'\n",
    "\n",
    "data['sales_hour'] = data['sales_time'].apply(hour_process)\n",
    "\n",
    "def minute_process(x):\n",
    "    x = str(x)\n",
    "    if len(x) == 4:\n",
    "        return x[2:]\n",
    "    elif len(x) == 3:\n",
    "        return x[1:]\n",
    "    elif len(x) == 2:\n",
    "        return x\n",
    "    \n",
    "data['sales_minute'] = data['sales_time'].apply(minute_process)\n",
    "\n",
    "\n",
    "data['sales_hour'] = data['sales_hour'].astype(int)\n",
    "data['sales_minute'] = data['sales_minute'].astype(int)"
   ]
  },
  {
   "cell_type": "code",
   "execution_count": 6,
   "id": "b2ec3c50",
   "metadata": {},
   "outputs": [],
   "source": [
    "# 날짜데이터 처리\n",
    "\n",
    "data['sales_month_origin'] = data['sales_month']\n",
    "data['sales_month']=data['sales_month'].apply(lambda x: x-12 if x >12 else x)\n",
    "data['year'] = data['sales_month_origin'].apply(lambda x: 2018 if x>12 else 2017)\n",
    "\n",
    "data['year_month_day'] = data['year'].astype(str) + '_' + data['sales_month'].astype(str) + '_' +\\\n",
    "                                data['sales_day'].astype(str) + '_' + data['sales_time'].astype(str)\n",
    "\n",
    "data['datetime'] = pd.to_datetime(data['year_month_day'], format = '%Y_%m_%d_%H%M')\n",
    "\n",
    "\n",
    "data['diff_time'] = data.groupby('custid')['datetime'].diff().fillna('00:00:00').astype(str)\n",
    "data['diff_time'] = data['diff_time'].str.split(' days').apply(lambda x: 0 if x[0] == '00:00:00' else x[0]).astype(int)"
   ]
  },
  {
   "cell_type": "code",
   "execution_count": 7,
   "id": "1f1c6d10",
   "metadata": {},
   "outputs": [],
   "source": [
    "# corner_nm 에서 겹치는 값들 처리하기\n",
    "\n",
    "data.loc[data.corner_nm == '모피.피혁', 'corner_nm'] = '모피/피혁'\n",
    "data.loc[data.corner_nm == '원목(주니어)', 'corner_nm'] = '원목/주니어'\n",
    "data.loc[data.corner_nm == '우산,장갑', 'corner_nm'] = '우산/장갑'\n",
    "data.loc[data.corner_nm == '우산장갑', 'corner_nm'] = '우산/장갑'\n",
    "data.loc[data.corner_nm == '트.단품 ', 'corner_nm'] = '트단품'\n",
    "data.loc[data.corner_nm == 'TV,VTR', 'corner_nm'] = 'TV/VTR'\n",
    "data.loc[data.corner_nm == 'TV.VTR', 'corner_nm'] = 'TV/VTR'\n",
    "data.loc[data.corner_nm == 'GBR  지원', 'corner_nm'] = 'GBR지원'\n",
    "data.loc[data.corner_nm == '페레  지원', 'corner_nm'] = '페레지원'\n",
    "data.loc[data.corner_nm == '라디오.카세트', 'corner_nm'] = '라디오/카세트'\n",
    "data.loc[data.corner_nm == '스포츠용퓸', 'corner_nm'] = '스포츠용품'\n",
    "data.loc[data.corner_nm == '카세트,전화기', 'corner_nm'] = '전화기/카세트'"
   ]
  },
  {
   "cell_type": "code",
   "execution_count": 8,
   "id": "1dba04fd",
   "metadata": {},
   "outputs": [],
   "source": [
    "# pc_nm 에서 겹치는 값들 처리하기\n",
    "\n",
    "data.loc[data.pc_nm == '침구,수예', 'pc_nm'] = '침구/수예'\n",
    "data.loc[data.pc_nm == '디자이너부띠크', 'pc_nm'] = '디자이너부띠끄'\n",
    "data.loc[data.pc_nm == '디자이너부틱', 'pc_nm'] = '디자이너부띠끄'\n",
    "data.loc[data.pc_nm == '니트,단품,모피', 'pc_nm'] = '니트/단품/모피'\n",
    "data.loc[data.pc_nm == '니트/단품', 'pc_nm'] = '니트/단품/모피'\n",
    "data.loc[data.pc_nm == '로얄부틱', 'pc_nm'] = '로얄부띠끄'\n",
    "data.loc[data.pc_nm == '트랜디 케쥬얼', 'pc_nm'] = '트랜디캐쥬얼'"
   ]
  },
  {
   "cell_type": "code",
   "execution_count": 9,
   "id": "1e681417",
   "metadata": {},
   "outputs": [],
   "source": [
    "# lgbm 에서 json 오류 방지를 위해 특수문자 , 제거\n",
    "\n",
    "import re\n",
    "data.rename(columns = lambda x:re.sub(',', '/', x), inplace = True)"
   ]
  },
  {
   "cell_type": "markdown",
   "id": "a060a801",
   "metadata": {},
   "source": [
    "# Categoric Feature Making"
   ]
  },
  {
   "cell_type": "markdown",
   "id": "ed223646",
   "metadata": {},
   "source": [
    "- **corner_nm**"
   ]
  },
  {
   "cell_type": "code",
   "execution_count": 10,
   "id": "8cae2650",
   "metadata": {},
   "outputs": [],
   "source": [
    "IDtest = test.custid.unique()"
   ]
  },
  {
   "cell_type": "code",
   "execution_count": 11,
   "id": "bf651f8f",
   "metadata": {},
   "outputs": [
    {
     "data": {
      "text/plain": [
       "300"
      ]
     },
     "execution_count": 11,
     "metadata": {},
     "output_type": "execute_result"
    }
   ],
   "source": [
    "level = 'corner_nm'\n",
    "data[level].nunique()"
   ]
  },
  {
   "cell_type": "code",
   "execution_count": 12,
   "id": "31defc3e",
   "metadata": {},
   "outputs": [],
   "source": [
    "def where(x):\n",
    "    if len(x) > 1:\n",
    "        result = 1\n",
    "    else:\n",
    "        result = 0\n",
    "    return result"
   ]
  },
  {
   "cell_type": "code",
   "execution_count": 13,
   "id": "0bd844ac",
   "metadata": {},
   "outputs": [],
   "source": [
    "catFeatures_train_cor = pd.pivot_table(data, index='custid', columns=level, values='tot_amt',\n",
    "                         aggfunc=lambda x: where(x), fill_value=0). \\\n",
    "                         reset_index(). \\\n",
    "                         query('custid not in @IDtest').\\\n",
    "                        drop(columns=['custid']).values\n",
    "catFeatures_test_cor = pd.pivot_table(data, index='custid', columns=level, values='tot_amt',\n",
    "                         aggfunc=lambda x: where(x), fill_value=0). \\\n",
    "                         reset_index(). \\\n",
    "                         query('custid in @IDtest'). \\\n",
    "                         drop(columns=['custid']).values\n",
    "\n",
    "# max_features = X_train_cat.shape[1]"
   ]
  },
  {
   "cell_type": "code",
   "execution_count": 14,
   "id": "2afe47a3",
   "metadata": {},
   "outputs": [],
   "source": [
    "catFeatures_train_cor = pd.DataFrame(catFeatures_train_cor)\n",
    "catFeatures_test_cor = pd.DataFrame(catFeatures_test_cor)"
   ]
  },
  {
   "cell_type": "code",
   "execution_count": 15,
   "id": "fce19a91",
   "metadata": {},
   "outputs": [],
   "source": [
    "catFeatures_train_cor.columns = catFeatures_train_cor.columns.map(lambda x : level+ \"_\" + str(x) + \"_onehot\" )\n",
    "catFeatures_test_cor.columns = catFeatures_test_cor.columns.map(lambda x : level+ \"_\" + str(x) + \"_onehot\" )"
   ]
  },
  {
   "cell_type": "markdown",
   "id": "7c9ef456",
   "metadata": {},
   "source": [
    "- **brd_nm**"
   ]
  },
  {
   "cell_type": "code",
   "execution_count": 16,
   "id": "35f671c7",
   "metadata": {},
   "outputs": [
    {
     "data": {
      "text/plain": [
       "1873"
      ]
     },
     "execution_count": 16,
     "metadata": {},
     "output_type": "execute_result"
    }
   ],
   "source": [
    "level = 'brd_nm'\n",
    "data[level].nunique()"
   ]
  },
  {
   "cell_type": "code",
   "execution_count": 17,
   "id": "81b76f34",
   "metadata": {},
   "outputs": [],
   "source": [
    "catFeatures_train_brd = pd.pivot_table(data, index='custid', columns=level, values='tot_amt',\n",
    "                         aggfunc=lambda x: where(x), fill_value=0). \\\n",
    "                         reset_index(). \\\n",
    "                         query('custid not in @IDtest'). \\\n",
    "                         drop(columns=['custid']).values\n",
    "\n",
    "catFeatures_test_brd = pd.pivot_table(data, index='custid', columns=level, values='tot_amt',\n",
    "                         aggfunc=lambda x: where(x), fill_value=0). \\\n",
    "                         reset_index(). \\\n",
    "                         query('custid in @IDtest'). \\\n",
    "                         drop(columns=['custid']).values\n",
    "# max_features = X_train.shape[1]"
   ]
  },
  {
   "cell_type": "code",
   "execution_count": 18,
   "id": "237a33f1",
   "metadata": {},
   "outputs": [],
   "source": [
    "catFeatures_train_brd = pd.DataFrame(catFeatures_train_brd)\n",
    "catFeatures_test_brd = pd.DataFrame(catFeatures_test_brd)"
   ]
  },
  {
   "cell_type": "code",
   "execution_count": 19,
   "id": "dd2abde4",
   "metadata": {},
   "outputs": [],
   "source": [
    "catFeatures_train_brd.columns = catFeatures_train_brd.columns.map(lambda x : level+ \"_\" + str(x) + \"_onehot\" )\n",
    "catFeatures_test_brd.columns = catFeatures_test_brd.columns.map(lambda x : level+ \"_\" + str(x) + \"_onehot\" )"
   ]
  },
  {
   "cell_type": "markdown",
   "id": "90874a4d",
   "metadata": {},
   "source": [
    "- **pc_nm**"
   ]
  },
  {
   "cell_type": "code",
   "execution_count": 20,
   "id": "37ce0e6a",
   "metadata": {},
   "outputs": [
    {
     "data": {
      "text/plain": [
       "72"
      ]
     },
     "execution_count": 20,
     "metadata": {},
     "output_type": "execute_result"
    }
   ],
   "source": [
    "level = 'pc_nm'\n",
    "data[level].nunique()"
   ]
  },
  {
   "cell_type": "code",
   "execution_count": 21,
   "id": "4ea3c553",
   "metadata": {},
   "outputs": [],
   "source": [
    "catFeatures_train_pc = pd.pivot_table(data, index='custid', columns=level, values='tot_amt',\n",
    "                         aggfunc=lambda x: where(x), fill_value=0). \\\n",
    "                         reset_index(). \\\n",
    "                         query('custid not in @IDtest'). \\\n",
    "                         drop(columns=['custid']).values\n",
    "\n",
    "catFeatures_test_pc = pd.pivot_table(data, index='custid', columns=level, values='tot_amt',\n",
    "                         aggfunc=lambda x: where(x), fill_value=0). \\\n",
    "                         reset_index(). \\\n",
    "                         query('custid in @IDtest'). \\\n",
    "                         drop(columns=['custid']).values\n",
    "# max_features = X_train.shape[1]"
   ]
  },
  {
   "cell_type": "code",
   "execution_count": 22,
   "id": "d5256b4d",
   "metadata": {},
   "outputs": [],
   "source": [
    "catFeatures_train_pc = pd.DataFrame(catFeatures_train_pc)\n",
    "catFeatures_test_pc = pd.DataFrame(catFeatures_test_pc)"
   ]
  },
  {
   "cell_type": "code",
   "execution_count": 23,
   "id": "b9281fd0",
   "metadata": {},
   "outputs": [],
   "source": [
    "catFeatures_train_pc.columns = catFeatures_train_pc.columns.map(lambda x : level+ \"_\" + str(x) + \"_onehot\" )\n",
    "catFeatures_test_pc.columns = catFeatures_test_pc.columns.map(lambda x : level+ \"_\" + str(x) + \"_onehot\" )"
   ]
  },
  {
   "cell_type": "markdown",
   "id": "69d31674",
   "metadata": {},
   "source": [
    "- **part_nm**-"
   ]
  },
  {
   "cell_type": "code",
   "execution_count": 24,
   "id": "3115cda8",
   "metadata": {},
   "outputs": [
    {
     "data": {
      "text/plain": [
       "30"
      ]
     },
     "execution_count": 24,
     "metadata": {},
     "output_type": "execute_result"
    }
   ],
   "source": [
    "level = 'part_nm'\n",
    "data[level].nunique()"
   ]
  },
  {
   "cell_type": "code",
   "execution_count": 25,
   "id": "4a06d0a1",
   "metadata": {},
   "outputs": [],
   "source": [
    "catFeatures_train_part = pd.pivot_table(data, index='custid', columns=level, values='tot_amt',\n",
    "                         aggfunc=lambda x: where(x), fill_value=0). \\\n",
    "                         reset_index(). \\\n",
    "                         query('custid not in @IDtest'). \\\n",
    "                         drop(columns=['custid']).values\n",
    "\n",
    "catFeatures_test_part = pd.pivot_table(data, index='custid', columns=level, values='tot_amt',\n",
    "                         aggfunc=lambda x: where(x), fill_value=0). \\\n",
    "                         reset_index(). \\\n",
    "                         query('custid in @IDtest'). \\\n",
    "                         drop(columns=['custid']).values\n",
    "# max_features = X_train.shape[1]"
   ]
  },
  {
   "cell_type": "code",
   "execution_count": 26,
   "id": "0c99c972",
   "metadata": {},
   "outputs": [],
   "source": [
    "catFeatures_train_part = pd.DataFrame(catFeatures_train_part)\n",
    "catFeatures_test_part = pd.DataFrame(catFeatures_test_part)"
   ]
  },
  {
   "cell_type": "code",
   "execution_count": 27,
   "id": "dbb1c0ba",
   "metadata": {},
   "outputs": [],
   "source": [
    "catFeatures_train_part.columns = catFeatures_train_part.columns.map(lambda x : level+ \"_\" + str(x) + \"_onehot\" )\n",
    "catFeatures_test_part.columns = catFeatures_test_part.columns.map(lambda x : level+ \"_\" + str(x) + \"_onehot\" )"
   ]
  },
  {
   "cell_type": "markdown",
   "id": "31965a98",
   "metadata": {},
   "source": [
    "**<font color='CC3D3D'>[team_nm]** "
   ]
  },
  {
   "cell_type": "code",
   "execution_count": 28,
   "id": "990678f0",
   "metadata": {},
   "outputs": [
    {
     "data": {
      "text/plain": [
       "4"
      ]
     },
     "execution_count": 28,
     "metadata": {},
     "output_type": "execute_result"
    }
   ],
   "source": [
    "level = 'team_nm'\n",
    "data[level].nunique()"
   ]
  },
  {
   "cell_type": "code",
   "execution_count": 29,
   "id": "8236e956",
   "metadata": {},
   "outputs": [],
   "source": [
    "catFeatures_train_team = pd.pivot_table(data, index='custid', columns=level, values='tot_amt',\n",
    "                         aggfunc=lambda x: where(x), fill_value=0). \\\n",
    "                         reset_index(). \\\n",
    "                         query('custid not in @IDtest'). \\\n",
    "                        drop(columns=['custid']).values\n",
    "\n",
    "catFeatures_test_team = pd.pivot_table(data, index='custid', columns=level, values='tot_amt',\n",
    "                         aggfunc=lambda x: where(x), fill_value=0). \\\n",
    "                         reset_index(). \\\n",
    "                         query('custid in @IDtest'). \\\n",
    "                        drop(columns=['custid']).values\n",
    "# max_features = X_train.shape[1]"
   ]
  },
  {
   "cell_type": "code",
   "execution_count": 30,
   "id": "67b851f8",
   "metadata": {},
   "outputs": [],
   "source": [
    "catFeatures_train_team = pd.DataFrame(catFeatures_train_team)\n",
    "catFeatures_test_team = pd.DataFrame(catFeatures_test_team)"
   ]
  },
  {
   "cell_type": "code",
   "execution_count": 31,
   "id": "476bac44",
   "metadata": {},
   "outputs": [],
   "source": [
    "catFeatures_train_team.columns = catFeatures_train_team.columns.map(lambda x : level+ \"_\" + str(x) + \"_onehot\" )\n",
    "catFeatures_test_team.columns = catFeatures_test_team.columns.map(lambda x : level+ \"_\" + str(x) + \"_onehot\" )"
   ]
  },
  {
   "cell_type": "markdown",
   "id": "ef1ae31d",
   "metadata": {},
   "source": [
    "**<font color='CC3D3D'>[buyer_nm]**"
   ]
  },
  {
   "cell_type": "code",
   "execution_count": 32,
   "id": "97d3d3ea",
   "metadata": {},
   "outputs": [
    {
     "data": {
      "text/plain": [
       "35"
      ]
     },
     "execution_count": 32,
     "metadata": {},
     "output_type": "execute_result"
    }
   ],
   "source": [
    "level = 'buyer_nm'\n",
    "data[level].nunique()"
   ]
  },
  {
   "cell_type": "code",
   "execution_count": 33,
   "id": "8393c564",
   "metadata": {},
   "outputs": [],
   "source": [
    "catFeatures_train_buyer = pd.pivot_table(data, index='custid', columns=level, values='tot_amt',\n",
    "                         aggfunc=lambda x: where(x), fill_value=0). \\\n",
    "                         reset_index(). \\\n",
    "                         query('custid not in @IDtest'). \\\n",
    "                        drop(columns=['custid']).values\n",
    "\n",
    "catFeatures_test_buyer = pd.pivot_table(data, index='custid', columns=level, values='tot_amt',\n",
    "                         aggfunc=lambda x: where(x), fill_value=0). \\\n",
    "                         reset_index(). \\\n",
    "                         query('custid in @IDtest'). \\\n",
    "                        drop(columns=['custid']).values\n",
    "# max_features = X_train.shape[1]"
   ]
  },
  {
   "cell_type": "code",
   "execution_count": 34,
   "id": "064a232d",
   "metadata": {},
   "outputs": [],
   "source": [
    "catFeatures_train_buyer = pd.DataFrame(catFeatures_train_buyer)\n",
    "catFeatures_test_buyer = pd.DataFrame(catFeatures_test_buyer)"
   ]
  },
  {
   "cell_type": "code",
   "execution_count": 35,
   "id": "5e67a5ee",
   "metadata": {},
   "outputs": [],
   "source": [
    "catFeatures_train_buyer.columns = catFeatures_train_buyer.columns.map(lambda x : level+ \"_\" + str(x) + \"_onehot\" )\n",
    "catFeatures_test_buyer.columns = catFeatures_test_buyer.columns.map(lambda x : level+ \"_\" + str(x) + \"_onehot\" )"
   ]
  },
  {
   "cell_type": "markdown",
   "id": "b44f09ee",
   "metadata": {},
   "source": [
    "# Merge Categoric Features"
   ]
  },
  {
   "cell_type": "code",
   "execution_count": 36,
   "id": "5a0912f6",
   "metadata": {},
   "outputs": [],
   "source": [
    "onehot_features_train = pd.concat([catFeatures_train_cor, catFeatures_train_brd, catFeatures_train_pc,\\\n",
    "                            catFeatures_train_part, catFeatures_train_team, catFeatures_train_buyer], axis=1)"
   ]
  },
  {
   "cell_type": "code",
   "execution_count": 37,
   "id": "9d65be07",
   "metadata": {},
   "outputs": [],
   "source": [
    "onehot_features_test = pd.concat([catFeatures_test_cor, catFeatures_test_brd, catFeatures_test_pc, \\\n",
    "                           catFeatures_test_part, catFeatures_test_team, catFeatures_test_buyer], axis=1)"
   ]
  },
  {
   "cell_type": "code",
   "execution_count": 38,
   "id": "dd8cd83d",
   "metadata": {},
   "outputs": [
    {
     "data": {
      "text/html": [
       "<div>\n",
       "<style scoped>\n",
       "    .dataframe tbody tr th:only-of-type {\n",
       "        vertical-align: middle;\n",
       "    }\n",
       "\n",
       "    .dataframe tbody tr th {\n",
       "        vertical-align: top;\n",
       "    }\n",
       "\n",
       "    .dataframe thead th {\n",
       "        text-align: right;\n",
       "    }\n",
       "</style>\n",
       "<table border=\"1\" class=\"dataframe\">\n",
       "  <thead>\n",
       "    <tr style=\"text-align: right;\">\n",
       "      <th></th>\n",
       "      <th>corner_nm_0_onehot</th>\n",
       "      <th>corner_nm_1_onehot</th>\n",
       "      <th>corner_nm_2_onehot</th>\n",
       "      <th>corner_nm_3_onehot</th>\n",
       "      <th>corner_nm_4_onehot</th>\n",
       "      <th>corner_nm_5_onehot</th>\n",
       "      <th>corner_nm_6_onehot</th>\n",
       "      <th>corner_nm_7_onehot</th>\n",
       "      <th>corner_nm_8_onehot</th>\n",
       "      <th>corner_nm_9_onehot</th>\n",
       "      <th>...</th>\n",
       "      <th>buyer_nm_25_onehot</th>\n",
       "      <th>buyer_nm_26_onehot</th>\n",
       "      <th>buyer_nm_27_onehot</th>\n",
       "      <th>buyer_nm_28_onehot</th>\n",
       "      <th>buyer_nm_29_onehot</th>\n",
       "      <th>buyer_nm_30_onehot</th>\n",
       "      <th>buyer_nm_31_onehot</th>\n",
       "      <th>buyer_nm_32_onehot</th>\n",
       "      <th>buyer_nm_33_onehot</th>\n",
       "      <th>buyer_nm_34_onehot</th>\n",
       "    </tr>\n",
       "  </thead>\n",
       "  <tbody>\n",
       "    <tr>\n",
       "      <th>0</th>\n",
       "      <td>0</td>\n",
       "      <td>0</td>\n",
       "      <td>0</td>\n",
       "      <td>0</td>\n",
       "      <td>0</td>\n",
       "      <td>0</td>\n",
       "      <td>0</td>\n",
       "      <td>0</td>\n",
       "      <td>0</td>\n",
       "      <td>0</td>\n",
       "      <td>...</td>\n",
       "      <td>0</td>\n",
       "      <td>0</td>\n",
       "      <td>0</td>\n",
       "      <td>0</td>\n",
       "      <td>0</td>\n",
       "      <td>0</td>\n",
       "      <td>0</td>\n",
       "      <td>0</td>\n",
       "      <td>0</td>\n",
       "      <td>1</td>\n",
       "    </tr>\n",
       "    <tr>\n",
       "      <th>1</th>\n",
       "      <td>0</td>\n",
       "      <td>0</td>\n",
       "      <td>0</td>\n",
       "      <td>0</td>\n",
       "      <td>0</td>\n",
       "      <td>0</td>\n",
       "      <td>0</td>\n",
       "      <td>0</td>\n",
       "      <td>0</td>\n",
       "      <td>0</td>\n",
       "      <td>...</td>\n",
       "      <td>1</td>\n",
       "      <td>0</td>\n",
       "      <td>0</td>\n",
       "      <td>0</td>\n",
       "      <td>0</td>\n",
       "      <td>0</td>\n",
       "      <td>0</td>\n",
       "      <td>0</td>\n",
       "      <td>0</td>\n",
       "      <td>0</td>\n",
       "    </tr>\n",
       "    <tr>\n",
       "      <th>2</th>\n",
       "      <td>0</td>\n",
       "      <td>0</td>\n",
       "      <td>0</td>\n",
       "      <td>0</td>\n",
       "      <td>0</td>\n",
       "      <td>0</td>\n",
       "      <td>0</td>\n",
       "      <td>0</td>\n",
       "      <td>0</td>\n",
       "      <td>0</td>\n",
       "      <td>...</td>\n",
       "      <td>0</td>\n",
       "      <td>0</td>\n",
       "      <td>0</td>\n",
       "      <td>0</td>\n",
       "      <td>0</td>\n",
       "      <td>0</td>\n",
       "      <td>0</td>\n",
       "      <td>0</td>\n",
       "      <td>0</td>\n",
       "      <td>0</td>\n",
       "    </tr>\n",
       "    <tr>\n",
       "      <th>3</th>\n",
       "      <td>0</td>\n",
       "      <td>0</td>\n",
       "      <td>0</td>\n",
       "      <td>0</td>\n",
       "      <td>0</td>\n",
       "      <td>0</td>\n",
       "      <td>0</td>\n",
       "      <td>0</td>\n",
       "      <td>0</td>\n",
       "      <td>0</td>\n",
       "      <td>...</td>\n",
       "      <td>0</td>\n",
       "      <td>0</td>\n",
       "      <td>0</td>\n",
       "      <td>0</td>\n",
       "      <td>0</td>\n",
       "      <td>0</td>\n",
       "      <td>0</td>\n",
       "      <td>0</td>\n",
       "      <td>0</td>\n",
       "      <td>0</td>\n",
       "    </tr>\n",
       "    <tr>\n",
       "      <th>4</th>\n",
       "      <td>0</td>\n",
       "      <td>0</td>\n",
       "      <td>0</td>\n",
       "      <td>0</td>\n",
       "      <td>0</td>\n",
       "      <td>0</td>\n",
       "      <td>0</td>\n",
       "      <td>0</td>\n",
       "      <td>0</td>\n",
       "      <td>0</td>\n",
       "      <td>...</td>\n",
       "      <td>1</td>\n",
       "      <td>0</td>\n",
       "      <td>0</td>\n",
       "      <td>0</td>\n",
       "      <td>0</td>\n",
       "      <td>0</td>\n",
       "      <td>0</td>\n",
       "      <td>0</td>\n",
       "      <td>0</td>\n",
       "      <td>1</td>\n",
       "    </tr>\n",
       "  </tbody>\n",
       "</table>\n",
       "<p>5 rows × 2314 columns</p>\n",
       "</div>"
      ],
      "text/plain": [
       "   corner_nm_0_onehot  corner_nm_1_onehot  corner_nm_2_onehot  \\\n",
       "0                   0                   0                   0   \n",
       "1                   0                   0                   0   \n",
       "2                   0                   0                   0   \n",
       "3                   0                   0                   0   \n",
       "4                   0                   0                   0   \n",
       "\n",
       "   corner_nm_3_onehot  corner_nm_4_onehot  corner_nm_5_onehot  \\\n",
       "0                   0                   0                   0   \n",
       "1                   0                   0                   0   \n",
       "2                   0                   0                   0   \n",
       "3                   0                   0                   0   \n",
       "4                   0                   0                   0   \n",
       "\n",
       "   corner_nm_6_onehot  corner_nm_7_onehot  corner_nm_8_onehot  \\\n",
       "0                   0                   0                   0   \n",
       "1                   0                   0                   0   \n",
       "2                   0                   0                   0   \n",
       "3                   0                   0                   0   \n",
       "4                   0                   0                   0   \n",
       "\n",
       "   corner_nm_9_onehot  ...  buyer_nm_25_onehot  buyer_nm_26_onehot  \\\n",
       "0                   0  ...                   0                   0   \n",
       "1                   0  ...                   1                   0   \n",
       "2                   0  ...                   0                   0   \n",
       "3                   0  ...                   0                   0   \n",
       "4                   0  ...                   1                   0   \n",
       "\n",
       "   buyer_nm_27_onehot  buyer_nm_28_onehot  buyer_nm_29_onehot  \\\n",
       "0                   0                   0                   0   \n",
       "1                   0                   0                   0   \n",
       "2                   0                   0                   0   \n",
       "3                   0                   0                   0   \n",
       "4                   0                   0                   0   \n",
       "\n",
       "   buyer_nm_30_onehot  buyer_nm_31_onehot  buyer_nm_32_onehot  \\\n",
       "0                   0                   0                   0   \n",
       "1                   0                   0                   0   \n",
       "2                   0                   0                   0   \n",
       "3                   0                   0                   0   \n",
       "4                   0                   0                   0   \n",
       "\n",
       "   buyer_nm_33_onehot  buyer_nm_34_onehot  \n",
       "0                   0                   1  \n",
       "1                   0                   0  \n",
       "2                   0                   0  \n",
       "3                   0                   0  \n",
       "4                   0                   1  \n",
       "\n",
       "[5 rows x 2314 columns]"
      ]
     },
     "execution_count": 38,
     "metadata": {},
     "output_type": "execute_result"
    }
   ],
   "source": [
    "onehot_features_train.head()"
   ]
  },
  {
   "cell_type": "code",
   "execution_count": 39,
   "id": "b23c799a",
   "metadata": {},
   "outputs": [],
   "source": [
    "onehot_features_train.to_csv('seo_onehot_features_train.csv', index=False,encoding = 'utf-8')\n",
    "onehot_features_test.to_csv('seo_onehot_features_test.csv', index=False,encoding = 'utf-8')"
   ]
  }
 ],
 "metadata": {
  "kernelspec": {
   "display_name": "Python 3 (ipykernel)",
   "language": "python",
   "name": "python3"
  },
  "language_info": {
   "codemirror_mode": {
    "name": "ipython",
    "version": 3
   },
   "file_extension": ".py",
   "mimetype": "text/x-python",
   "name": "python",
   "nbconvert_exporter": "python",
   "pygments_lexer": "ipython3",
   "version": "3.9.7"
  }
 },
 "nbformat": 4,
 "nbformat_minor": 5
}
