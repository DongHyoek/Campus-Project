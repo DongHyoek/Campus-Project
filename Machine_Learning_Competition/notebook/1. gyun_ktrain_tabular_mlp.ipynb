{
 "cells": [
  {
   "cell_type": "markdown",
   "id": "f3c253b8",
   "metadata": {},
   "source": [
    "<font color='tomato'><font color=\"#CC3D3D\"><p>\n",
    "# DNN Modeling with ktrain"
   ]
  },
  {
   "cell_type": "markdown",
   "id": "e85665e4",
   "metadata": {},
   "source": [
    "- ktrain은 tensorflow 기반의 low-code deep learning library임   \n",
    "https://github.com/amaiya/ktrain  \n",
    "\n",
    "\n",
    "- 아래 코드는 Seed를 설정하지 않았기 때문에 실행할 때마다 결과가 달라짐.    \n",
    "여러번 실행해서 얻는 submission 화일을 앙상블해서 사용하는 것이 좋음."
   ]
  },
  {
   "cell_type": "markdown",
   "id": "ccfbabd9",
   "metadata": {},
   "source": [
    "### Imports"
   ]
  },
  {
   "cell_type": "code",
   "execution_count": 1,
   "id": "316f9d98",
   "metadata": {},
   "outputs": [],
   "source": [
    "import ktrain\n",
    "from ktrain import tabular  # tabular data에 적용\n",
    "import pandas as pd\n",
    "import numpy as np\n",
    "import matplotlib.pylab as plt\n",
    "%matplotlib inline"
   ]
  },
  {
   "cell_type": "markdown",
   "id": "92879010",
   "metadata": {},
   "source": [
    "### Read Data"
   ]
  },
  {
   "cell_type": "code",
   "execution_count": 2,
   "id": "23a7e852",
   "metadata": {},
   "outputs": [],
   "source": [
    "# 1st round 1등팀 피처 사용\n",
    "X_train = pd.read_csv('../input/hwang_selected_features_train.csv', encoding='utf-8')\n",
    "X_test = pd.read_csv('../input/hwang_selected_features_test.csv', encoding='utf-8')\n",
    "y_train = pd.read_csv('../input/y_train.csv').group\n",
    "IDtest = pd.read_csv('../input/X_test.csv', encoding= 'cp949').custid.unique()"
   ]
  },
  {
   "cell_type": "code",
   "execution_count": 3,
   "id": "88152cdd",
   "metadata": {},
   "outputs": [],
   "source": [
    "# 아래 tabular_from_df()에서는 target 필드까지 들어간 데이터프레임을 요구\n",
    "train_df = pd.concat([X_train, pd.DataFrame(y_train)], axis=1)"
   ]
  },
  {
   "cell_type": "markdown",
   "id": "d3169e24",
   "metadata": {},
   "source": [
    "### Preprocessing"
   ]
  },
  {
   "cell_type": "code",
   "execution_count": 4,
   "id": "148ff683",
   "metadata": {},
   "outputs": [
    {
     "name": "stdout",
     "output_type": "stream",
     "text": [
      "processing train: 15144 rows x 876 columns\n",
      "['F20', 'F30', 'F40', 'F50', 'M20', 'M30', 'M40', 'M50']\n",
      "   F20  F30  F40  F50  M20  M30  M40  M50\n",
      "0  0.0  0.0  0.0  0.0  0.0  1.0  0.0  0.0\n",
      "3  1.0  0.0  0.0  0.0  0.0  0.0  0.0  0.0\n",
      "4  0.0  0.0  0.0  0.0  0.0  0.0  1.0  0.0\n",
      "5  0.0  0.0  0.0  0.0  0.0  0.0  0.0  1.0\n",
      "6  1.0  0.0  0.0  0.0  0.0  0.0  0.0  0.0\n",
      "processing test: 6443 rows x 876 columns\n",
      "['F20', 'F30', 'F40', 'F50', 'M20', 'M30', 'M40', 'M50']\n",
      "    F20  F30  F40  F50  M20  M30  M40  M50\n",
      "1   0.0  0.0  0.0  0.0  0.0  1.0  0.0  0.0\n",
      "2   1.0  0.0  0.0  0.0  0.0  0.0  0.0  0.0\n",
      "7   0.0  1.0  0.0  0.0  0.0  0.0  0.0  0.0\n",
      "9   0.0  1.0  0.0  0.0  0.0  0.0  0.0  0.0\n",
      "11  0.0  1.0  0.0  0.0  0.0  0.0  0.0  0.0\n"
     ]
    }
   ],
   "source": [
    "# Scaling, Imputation, train/valid 분할 등의 전처리를 수행하고 나중에 사용할 trn, val, preproc를 반환.\n",
    "# validation data의 비율(현재 20%)은 val_pct로 지정\n",
    "trn, val, preproc = tabular.tabular_from_df(train_df, label_columns=['group'], val_pct=0.3, random_state=42)"
   ]
  },
  {
   "cell_type": "markdown",
   "id": "309527c2",
   "metadata": {},
   "source": [
    "### Modeling"
   ]
  },
  {
   "cell_type": "code",
   "execution_count": 5,
   "id": "ace203eb",
   "metadata": {},
   "outputs": [
    {
     "name": "stdout",
     "output_type": "stream",
     "text": [
      "Is Multi-Label? False\n",
      "done.\n"
     ]
    }
   ],
   "source": [
    "# MLP를 사용하여 모델링 (tabular data는 MLP만 지원). 배치 사이즈는 성능에 지대한 영향을 미침.\n",
    "model = tabular.tabular_classifier('mlp', trn)\n",
    "learner = ktrain.get_learner(model, train_data=trn, val_data=val, batch_size=512)"
   ]
  },
  {
   "cell_type": "code",
   "execution_count": 6,
   "id": "f307d215",
   "metadata": {},
   "outputs": [
    {
     "name": "stdout",
     "output_type": "stream",
     "text": [
      "\n",
      "\n",
      "begin training using onecycle policy with max lr of 0.005...\n",
      "Epoch 1/4\n",
      "30/30 [==============================] - 20s 652ms/step - loss: 1.8295 - accuracy: 0.3838 - val_loss: 1.5386 - val_accuracy: 0.4458\n",
      "Epoch 2/4\n",
      "30/30 [==============================] - 19s 638ms/step - loss: 1.5521 - accuracy: 0.4451 - val_loss: 1.5329 - val_accuracy: 0.4499\n",
      "Epoch 3/4\n",
      "30/30 [==============================] - 19s 632ms/step - loss: 1.5063 - accuracy: 0.4507 - val_loss: 1.5020 - val_accuracy: 0.4546\n",
      "Epoch 4/4\n",
      "30/30 [==============================] - 19s 635ms/step - loss: 1.3938 - accuracy: 0.4821 - val_loss: 1.5060 - val_accuracy: 0.4560\n"
     ]
    }
   ],
   "source": [
    "# Model Fitting: 학습율(lr)과 에포크(epochs)가 성능에 지대한 영향을 미침.\n",
    "hist = learner.fit_onecycle(lr=5e-3, epochs=4, checkpoint_folder='output')"
   ]
  },
  {
   "cell_type": "code",
   "execution_count": 7,
   "id": "44106276",
   "metadata": {
    "scrolled": true
   },
   "outputs": [
    {
     "data": {
      "image/png": "[encoded data removed]",
      "text/plain": [
       "<Figure size 432x288 with 1 Axes>"
      ]
     },
     "metadata": {
      "needs_background": "light"
     },
     "output_type": "display_data"
    }
   ],
   "source": [
    "# Log Loss: 거의 대부분 val_loss 값이 낮을수록 LB 스코어도 낮음. 즉 val_loss의 변화가 학습에 절대적으로 중요!!!\n",
    "plt.plot(hist.history[\"loss\"], label=\"train\")\n",
    "plt.plot(hist.history[\"val_loss\"], label=\"validation\")\n",
    "plt.legend()\n",
    "plt.xlabel('epoch')\n",
    "plt.title(\"Loss\")\n",
    "plt.show()"
   ]
  },
  {
   "cell_type": "markdown",
   "id": "e5c8f88f",
   "metadata": {},
   "source": [
    "### Prediction"
   ]
  },
  {
   "cell_type": "code",
   "execution_count": 8,
   "id": "55fbd705",
   "metadata": {},
   "outputs": [
    {
     "name": "stdout",
     "output_type": "stream",
     "text": [
      "['F20', 'F30', 'F40', 'F50', 'M20', 'M30', 'M40', 'M50']\n",
      "   F20  F30  F40  F50  M20  M30  M40  M50\n",
      "0  1.0  0.0  0.0  0.0  0.0  0.0  0.0  0.0\n",
      "1  1.0  0.0  0.0  0.0  0.0  0.0  0.0  0.0\n",
      "2  1.0  0.0  0.0  0.0  0.0  0.0  0.0  0.0\n",
      "3  1.0  0.0  0.0  0.0  0.0  0.0  0.0  0.0\n",
      "4  1.0  0.0  0.0  0.0  0.0  0.0  0.0  0.0\n"
     ]
    }
   ],
   "source": [
    "predictor = ktrain.get_predictor(learner.model, preproc)\n",
    "pred = predictor.predict(X_test, return_proba=True)"
   ]
  },
  {
   "cell_type": "code",
   "execution_count": 9,
   "id": "54e47f35",
   "metadata": {},
   "outputs": [
    {
     "name": "stdout",
     "output_type": "stream",
     "text": [
      "'ktrain_mlp_submission_06150147.csv' is ready to submit.\n"
     ]
    }
   ],
   "source": [
    "t = pd.Timestamp.now()\n",
    "fname = f\"ktrain_mlp_submission_{t.month:02}{t.day:02}{t.hour:02}{t.minute:02}.csv\"\n",
    "pred = pd.DataFrame(pred)\n",
    "pred.columns = ['F20','F30','F40','F50','M20','M30','M40','M50']\n",
    "submissions = pd.concat([pd.Series(IDtest, name=\"ID\"), pred] ,axis=1)\n",
    "submissions.to_csv(fname, index=False)\n",
    "print(\"'{}' is ready to submit.\" .format(fname))"
   ]
  },
  {
   "cell_type": "markdown",
   "id": "e470918d",
   "metadata": {},
   "source": [
    "<font color='tomato'><font color=\"#CC3D3D\"><p>\n",
    "# End"
   ]
  },
  {
   "cell_type": "code",
   "execution_count": 10,
   "id": "a89ed284",
   "metadata": {},
   "outputs": [],
   "source": [
    "dnn1 = pd.read_csv('ktrain_mlp_submission_06130041.csv', encoding='cp949')\n",
    "dnn2 = pd.read_csv('ktrain_mlp_submission_06130044.csv', encoding='cp949')\n",
    "dnn3 = pd.read_csv('ktrain_mlp_submission_06130047.csv', encoding='cp949')\n",
    "dnn4 = pd.read_csv('ktrain_mlp_submission_06130050.csv', encoding='cp949')\n",
    "dnn5 = pd.read_csv('ktrain_mlp_submission_06130054.csv', encoding='cp949')\n",
    "dnn6 = pd.read_csv('ktrain_mlp_submission_06130059.csv', encoding='cp949')\n",
    "dnn7 = pd.read_csv('ktrain_mlp_submission_06130103.csv', encoding='cp949')\n",
    "dnn8 = pd.read_csv('ktrain_mlp_submission_06130109.csv', encoding='cp949')\n",
    "dnn9 = pd.read_csv('ktrain_mlp_submission_06130114.csv', encoding='cp949')\n",
    "dnn10= pd.read_csv('ktrain_mlp_submission_06130119.csv', encoding='cp949')"
   ]
  },
  {
   "cell_type": "code",
   "execution_count": 11,
   "id": "8bd856a9",
   "metadata": {},
   "outputs": [],
   "source": [
    "submissions = (dnn1.iloc[:,1:]+dnn2.iloc[:,1:]+dnn3.iloc[:,1:]+dnn4.iloc[:,1:]+dnn5.iloc[:,1:]+dnn6.iloc[:,1:]+dnn7.iloc[:,1:]+dnn8.iloc[:,1:]+dnn9.iloc[:,1:]+dnn10.iloc[:,1:])/10\n",
    "submissions"
   ]
  },
  {
   "cell_type": "code",
   "execution_count": 12,
   "id": "3d18993e",
   "metadata": {},
   "outputs": [],
   "source": [
    "submissions = pd.concat([pd.DataFrame({'ID':IDtest}),submissions],axis =1)\n",
    "submissions.to_csv('ktrain_tubular_mlp_10.csv', index = False)"
   ]
  },
  {
   "cell_type": "code",
   "execution_count": 13,
   "id": "d2c70819",
   "metadata": {},
   "outputs": [],
   "source": [
    "submissions"
   ]
  }
 ],
 "metadata": {
  "kernelspec": {
   "display_name": "Python 3 (ipykernel)",
   "language": "python",
   "name": "python3"
  },
  "language_info": {
   "codemirror_mode": {
    "name": "ipython",
    "version": 3
   },
   "file_extension": ".py",
   "mimetype": "text/x-python",
   "name": "python",
   "nbconvert_exporter": "python",
   "pygments_lexer": "ipython3",
   "version": "3.9.7"
  }
 },
 "nbformat": 4,
 "nbformat_minor": 5
}
