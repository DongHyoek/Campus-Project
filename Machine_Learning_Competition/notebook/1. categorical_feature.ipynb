{
 "cells": [
  {
   "cell_type": "code",
   "execution_count": 1,
   "id": "ad4de5d6",
   "metadata": {},
   "outputs": [],
   "source": [
    "import pandas as pd\n",
    "import numpy as np\n",
    "import seaborn as sns\n",
    "import matplotlib.pylab as plt"
   ]
  },
  {
   "cell_type": "code",
   "execution_count": 2,
   "id": "10a4c415",
   "metadata": {},
   "outputs": [],
   "source": [
    "# 학습, 평가데이터 불러오기\n",
    "\n",
    "train = pd.read_csv('X_train.csv', encoding = 'cp949')\n",
    "test = pd.read_csv('X_test.csv', encoding = 'cp949')\n",
    "target = pd.read_csv('y_train.csv', encoding = 'cp949').group"
   ]
  },
  {
   "cell_type": "code",
   "execution_count": 3,
   "id": "2dfeafbc",
   "metadata": {},
   "outputs": [],
   "source": [
    "# 사이버 쇼핑, 점외 등 1개 밖에 없는 data를 가지고 있는 행 삭제 \n",
    "\n",
    "train.drop(index = 578987, inplace = True)"
   ]
  },
  {
   "cell_type": "code",
   "execution_count": 4,
   "id": "403a68d0",
   "metadata": {},
   "outputs": [],
   "source": [
    "# 같이 전처리 하기 위해서 train과 test를 합침\n",
    "\n",
    "data = pd.concat([train, test],ignore_index= True)"
   ]
  },
  {
   "cell_type": "code",
   "execution_count": 6,
   "id": "e66867a2",
   "metadata": {},
   "outputs": [],
   "source": [
    "unique_custid = pd.DataFrame(data.custid.unique()).rename(columns = {0 : 'custid'})"
   ]
  },
  {
   "cell_type": "markdown",
   "id": "d77f4075",
   "metadata": {},
   "source": [
    "# Preprocessing"
   ]
  },
  {
   "cell_type": "code",
   "execution_count": 7,
   "id": "2b847506",
   "metadata": {},
   "outputs": [],
   "source": [
    "# 시간데이터 처리\n",
    "\n",
    "def hour_process(x):\n",
    "    x = str(x)\n",
    "    if len(x) == 4:\n",
    "        return x[:2]\n",
    "    elif len(x) == 3:\n",
    "        return x[:1]\n",
    "    elif len(x) == 2:\n",
    "        return '0'\n",
    "\n",
    "data['sales_hour'] = data['sales_time'].apply(hour_process)\n",
    "\n",
    "def minute_process(x):\n",
    "    x = str(x)\n",
    "    if len(x) == 4:\n",
    "        return x[2:]\n",
    "    elif len(x) == 3:\n",
    "        return x[1:]\n",
    "    elif len(x) == 2:\n",
    "        return x\n",
    "    \n",
    "data['sales_minute'] = data['sales_time'].apply(minute_process)\n",
    "\n",
    "\n",
    "data['sales_hour'] = data['sales_hour'].astype(int)\n",
    "data['sales_minute'] = data['sales_minute'].astype(int)"
   ]
  },
  {
   "cell_type": "code",
   "execution_count": 8,
   "id": "3c2ec74c",
   "metadata": {},
   "outputs": [],
   "source": [
    "# 날짜데이터 처리\n",
    "\n",
    "data['sales_month_origin'] = data['sales_month']\n",
    "data['sales_month']=data['sales_month'].apply(lambda x: x-12 if x >12 else x)\n",
    "data['year'] = data['sales_month_origin'].apply(lambda x: 2018 if x>12 else 2017)\n",
    "\n",
    "data['year_month_day'] = data['year'].astype(str) + '_' + data['sales_month'].astype(str) + '_' +\\\n",
    "                                data['sales_day'].astype(str) + '_' + data['sales_time'].astype(str)\n",
    "\n",
    "data['datetime'] = pd.to_datetime(data['year_month_day'], format = '%Y_%m_%d_%H%M')\n",
    "\n",
    "\n",
    "data['diff_time'] = data.groupby('custid')['datetime'].diff().fillna('00:00:00').astype(str)\n",
    "data['diff_time'] = data['diff_time'].str.split(' days').apply(lambda x: 0 if x[0] == '00:00:00' else x[0]).astype(int)"
   ]
  },
  {
   "cell_type": "code",
   "execution_count": 9,
   "id": "c0a6cf9e",
   "metadata": {},
   "outputs": [],
   "source": [
    "# corner_nm 에서 겹치는 값들 처리하기\n",
    "\n",
    "data.loc[data.corner_nm == '모피.피혁', 'corner_nm'] = '모피/피혁'\n",
    "data.loc[data.corner_nm == '원목(주니어)', 'corner_nm'] = '원목/주니어'\n",
    "data.loc[data.corner_nm == '우산,장갑', 'corner_nm'] = '우산/장갑'\n",
    "data.loc[data.corner_nm == '우산장갑', 'corner_nm'] = '우산/장갑'\n",
    "data.loc[data.corner_nm == '트.단품 ', 'corner_nm'] = '트단품'\n",
    "data.loc[data.corner_nm == 'TV,VTR', 'corner_nm'] = 'TV/VTR'\n",
    "data.loc[data.corner_nm == 'TV.VTR', 'corner_nm'] = 'TV/VTR'\n",
    "data.loc[data.corner_nm == 'GBR  지원', 'corner_nm'] = 'GBR지원'\n",
    "data.loc[data.corner_nm == '페레  지원', 'corner_nm'] = '페레지원'\n",
    "data.loc[data.corner_nm == '라디오.카세트', 'corner_nm'] = '라디오/카세트'\n",
    "data.loc[data.corner_nm == '스포츠용퓸', 'corner_nm'] = '스포츠용품'\n",
    "data.loc[data.corner_nm == '카세트,전화기', 'corner_nm'] = '전화기/카세트'"
   ]
  },
  {
   "cell_type": "code",
   "execution_count": 10,
   "id": "0620df9a",
   "metadata": {},
   "outputs": [],
   "source": [
    "# pc_nm 에서 겹치는 값들 처리하기\n",
    "\n",
    "data.loc[data.pc_nm == '침구,수예', 'pc_nm'] = '침구/수예'\n",
    "data.loc[data.pc_nm == '디자이너부띠크', 'pc_nm'] = '디자이너부띠끄'\n",
    "data.loc[data.pc_nm == '디자이너부틱', 'pc_nm'] = '디자이너부띠끄'\n",
    "data.loc[data.pc_nm == '니트,단품,모피', 'pc_nm'] = '니트/단품/모피'\n",
    "data.loc[data.pc_nm == '니트/단품', 'pc_nm'] = '니트/단품/모피'\n",
    "data.loc[data.pc_nm == '로얄부틱', 'pc_nm'] = '로얄부띠끄'\n",
    "data.loc[data.pc_nm == '트랜디 케쥬얼', 'pc_nm'] = '트랜디캐쥬얼'"
   ]
  },
  {
   "cell_type": "code",
   "execution_count": 11,
   "id": "3263fab5",
   "metadata": {},
   "outputs": [],
   "source": [
    "# lgbm 에서 json 오류 방지를 위해 특수문자 , 제거\n",
    "\n",
    "import re\n",
    "data.rename(columns = lambda x:re.sub(',', '/', x), inplace = True)"
   ]
  },
  {
   "cell_type": "markdown",
   "id": "04a50d0b",
   "metadata": {},
   "source": [
    "# Categoric Feature Making"
   ]
  },
  {
   "cell_type": "code",
   "execution_count": 49,
   "id": "90ff863d",
   "metadata": {},
   "outputs": [],
   "source": [
    "def aa(x):\n",
    "    if len(x)>=1:\n",
    "        return 1\n",
    "    else :\n",
    "        return 0"
   ]
  },
  {
   "cell_type": "code",
   "execution_count": 50,
   "id": "67923bac",
   "metadata": {},
   "outputs": [],
   "source": [
    "IDtest = test.custid.unique()"
   ]
  },
  {
   "cell_type": "code",
   "execution_count": 51,
   "id": "b048c294",
   "metadata": {},
   "outputs": [
    {
     "data": {
      "text/plain": [
       "299"
      ]
     },
     "execution_count": 51,
     "metadata": {},
     "output_type": "execute_result"
    }
   ],
   "source": [
    "level = 'corner_nm'\n",
    "data[level].nunique()"
   ]
  },
  {
   "cell_type": "code",
   "execution_count": 52,
   "id": "2d7e0cbd",
   "metadata": {},
   "outputs": [],
   "source": [
    "catFeatures_train_cor = pd.pivot_table(data, index='custid', columns=level, values='tot_amt',\n",
    "                         aggfunc=aa, fill_value=0). \\\n",
    "                         reset_index(). \\\n",
    "                         query('custid not in @IDtest').\\\n",
    "                         drop(columns=['custid']).values\n",
    "catFeatures_test_cor = pd.pivot_table(data, index='custid', columns=level, values='tot_amt',\n",
    "                         aggfunc=aa, fill_value=0). \\\n",
    "                         reset_index(). \\\n",
    "                         query('custid in @IDtest'). \\\n",
    "                         drop(columns=['custid']).values\n",
    "\n",
    "# max_features = X_train_cat.shape[1]"
   ]
  },
  {
   "cell_type": "code",
   "execution_count": 54,
   "id": "e5309ba9",
   "metadata": {},
   "outputs": [],
   "source": [
    "catFeatures_train_cor = pd.DataFrame(catFeatures_train_cor)\n",
    "catFeatures_test_cor = pd.DataFrame(catFeatures_test_cor)"
   ]
  },
  {
   "cell_type": "code",
   "execution_count": 55,
   "id": "f1ac3e6e",
   "metadata": {},
   "outputs": [],
   "source": [
    "catFeatures_train_cor.columns = catFeatures_train_cor.columns.map(lambda x : level+ \"_\" + str(x) + \"_onehot\" )\n",
    "catFeatures_test_cor.columns = catFeatures_test_cor.columns.map(lambda x : level+ \"_\" + str(x) + \"_onehot\" )"
   ]
  },
  {
   "cell_type": "markdown",
   "id": "8d760d0b",
   "metadata": {},
   "source": [
    "**<font color='CC3D3D'>[brd_nm]**"
   ]
  },
  {
   "cell_type": "code",
   "execution_count": 57,
   "id": "18adfc4e",
   "metadata": {},
   "outputs": [
    {
     "data": {
      "text/plain": [
       "1873"
      ]
     },
     "execution_count": 57,
     "metadata": {},
     "output_type": "execute_result"
    }
   ],
   "source": [
    "level = 'brd_nm'\n",
    "data[level].nunique()"
   ]
  },
  {
   "cell_type": "code",
   "execution_count": 58,
   "id": "e54f6964",
   "metadata": {},
   "outputs": [],
   "source": [
    "catFeatures_train_brd = pd.pivot_table(data, index='custid', columns=level, values='tot_amt',\n",
    "                         aggfunc=aa, fill_value=0). \\\n",
    "                         reset_index(). \\\n",
    "                         query('custid not in @IDtest'). \\\n",
    "                         drop(columns=['custid']).values\n",
    "\n",
    "catFeatures_test_brd = pd.pivot_table(data, index='custid', columns=level, values='tot_amt',\n",
    "                         aggfunc=aa, fill_value=0). \\\n",
    "                         reset_index(). \\\n",
    "                         query('custid in @IDtest'). \\\n",
    "                         drop(columns=['custid']).values\n",
    "# max_features = X_train.shape[1]"
   ]
  },
  {
   "cell_type": "code",
   "execution_count": 59,
   "id": "74bb2c74",
   "metadata": {},
   "outputs": [],
   "source": [
    "catFeatures_train_brd = pd.DataFrame(catFeatures_train_brd)\n",
    "catFeatures_test_brd = pd.DataFrame(catFeatures_test_brd)"
   ]
  },
  {
   "cell_type": "code",
   "execution_count": 60,
   "id": "b3c35769",
   "metadata": {},
   "outputs": [],
   "source": [
    "catFeatures_train_brd.columns = catFeatures_train_brd.columns.map(lambda x : level+ \"_\" + str(x) + \"_onehot\" )\n",
    "catFeatures_test_brd.columns = catFeatures_test_brd.columns.map(lambda x : level+ \"_\" + str(x) + \"_onehot\" )"
   ]
  },
  {
   "cell_type": "markdown",
   "id": "88ab25c3",
   "metadata": {},
   "source": [
    "**<font color='CC3D3D'>[pc_nm]**"
   ]
  },
  {
   "cell_type": "code",
   "execution_count": 61,
   "id": "d4e2d89a",
   "metadata": {},
   "outputs": [
    {
     "data": {
      "text/plain": [
       "71"
      ]
     },
     "execution_count": 61,
     "metadata": {},
     "output_type": "execute_result"
    }
   ],
   "source": [
    "level = 'pc_nm'\n",
    "data[level].nunique()"
   ]
  },
  {
   "cell_type": "code",
   "execution_count": 62,
   "id": "326cfe67",
   "metadata": {},
   "outputs": [],
   "source": [
    "catFeatures_train_pc = pd.pivot_table(data, index='custid', columns=level, values='tot_amt',\n",
    "                         aggfunc=aa, fill_value=0). \\\n",
    "                         reset_index(). \\\n",
    "                         query('custid not in @IDtest'). \\\n",
    "                         drop(columns=['custid']).values\n",
    "\n",
    "catFeatures_test_pc = pd.pivot_table(data, index='custid', columns=level, values='tot_amt',\n",
    "                         aggfunc=aa, fill_value=0). \\\n",
    "                         reset_index(). \\\n",
    "                         query('custid in @IDtest'). \\\n",
    "                         drop(columns=['custid']).values\n",
    "# max_features = X_train.shape[1]"
   ]
  },
  {
   "cell_type": "code",
   "execution_count": 63,
   "id": "8cbe791a",
   "metadata": {},
   "outputs": [],
   "source": [
    "catFeatures_train_pc = pd.DataFrame(catFeatures_train_pc)\n",
    "catFeatures_test_pc = pd.DataFrame(catFeatures_test_pc)"
   ]
  },
  {
   "cell_type": "code",
   "execution_count": 64,
   "id": "66f7ce79",
   "metadata": {},
   "outputs": [],
   "source": [
    "catFeatures_train_pc.columns = catFeatures_train_pc.columns.map(lambda x : level+ \"_\" + str(x) + \"_onehot\" )\n",
    "catFeatures_test_pc.columns = catFeatures_test_pc.columns.map(lambda x : level+ \"_\" + str(x) + \"_onehot\" )"
   ]
  },
  {
   "cell_type": "markdown",
   "id": "0957673b",
   "metadata": {},
   "source": [
    "**<font color='CC3D3D'>[part_nm]**"
   ]
  },
  {
   "cell_type": "code",
   "execution_count": 65,
   "id": "4490ffa7",
   "metadata": {},
   "outputs": [
    {
     "data": {
      "text/plain": [
       "29"
      ]
     },
     "execution_count": 65,
     "metadata": {},
     "output_type": "execute_result"
    }
   ],
   "source": [
    "level = 'part_nm'\n",
    "data[level].nunique()"
   ]
  },
  {
   "cell_type": "code",
   "execution_count": 66,
   "id": "24bcc42b",
   "metadata": {},
   "outputs": [],
   "source": [
    "catFeatures_train_part = pd.pivot_table(data, index='custid', columns=level, values='tot_amt',\n",
    "                         aggfunc=aa, fill_value=0). \\\n",
    "                         reset_index(). \\\n",
    "                         query('custid not in @IDtest'). \\\n",
    "                         drop(columns=['custid']).values\n",
    "\n",
    "catFeatures_test_part = pd.pivot_table(data, index='custid', columns=level, values='tot_amt',\n",
    "                         aggfunc=aa, fill_value=0). \\\n",
    "                         reset_index(). \\\n",
    "                         query('custid in @IDtest'). \\\n",
    "                         drop(columns=['custid']).values\n",
    "# max_features = X_train.shape[1]"
   ]
  },
  {
   "cell_type": "code",
   "execution_count": 67,
   "id": "8b0b835d",
   "metadata": {},
   "outputs": [],
   "source": [
    "catFeatures_train_part = pd.DataFrame(catFeatures_train_part)\n",
    "catFeatures_test_part = pd.DataFrame(catFeatures_test_part)"
   ]
  },
  {
   "cell_type": "code",
   "execution_count": 68,
   "id": "fc684361",
   "metadata": {},
   "outputs": [],
   "source": [
    "catFeatures_train_part.columns = catFeatures_train_part.columns.map(lambda x : level+ \"_\" + str(x) + \"_onehot\" )\n",
    "catFeatures_test_part.columns = catFeatures_test_part.columns.map(lambda x : level+ \"_\" + str(x) + \"_onehot\" )"
   ]
  },
  {
   "cell_type": "markdown",
   "id": "77adb470",
   "metadata": {},
   "source": [
    "**<font color='CC3D3D'>[team_nm]** "
   ]
  },
  {
   "cell_type": "code",
   "execution_count": 70,
   "id": "abf916a1",
   "metadata": {},
   "outputs": [
    {
     "data": {
      "text/plain": [
       "3"
      ]
     },
     "execution_count": 70,
     "metadata": {},
     "output_type": "execute_result"
    }
   ],
   "source": [
    "level = 'team_nm'\n",
    "data[level].nunique()"
   ]
  },
  {
   "cell_type": "code",
   "execution_count": 71,
   "id": "70c03506",
   "metadata": {},
   "outputs": [],
   "source": [
    "catFeatures_train_team = pd.pivot_table(data, index='custid', columns=level, values='tot_amt',\n",
    "                         aggfunc=aa, fill_value=0). \\\n",
    "                         reset_index(). \\\n",
    "                         query('custid not in @IDtest'). \\\n",
    "                        drop(columns=['custid']).values\n",
    "\n",
    "catFeatures_test_team = pd.pivot_table(data, index='custid', columns=level, values='tot_amt',\n",
    "                         aggfunc=aa, fill_value=0). \\\n",
    "                         reset_index(). \\\n",
    "                         query('custid in @IDtest'). \\\n",
    "                        drop(columns=['custid']).values\n",
    "# max_features = X_train.shape[1]"
   ]
  },
  {
   "cell_type": "code",
   "execution_count": 72,
   "id": "eb955e14",
   "metadata": {},
   "outputs": [],
   "source": [
    "catFeatures_train_team = pd.DataFrame(catFeatures_train_team)\n",
    "catFeatures_test_team = pd.DataFrame(catFeatures_test_team)"
   ]
  },
  {
   "cell_type": "code",
   "execution_count": 73,
   "id": "8e044453",
   "metadata": {},
   "outputs": [],
   "source": [
    "catFeatures_train_team.columns = catFeatures_train_team.columns.map(lambda x : level+ \"_\" + str(x) + \"_onehot\" )\n",
    "catFeatures_test_team.columns = catFeatures_test_team.columns.map(lambda x : level+ \"_\" + str(x) + \"_onehot\" )"
   ]
  },
  {
   "cell_type": "markdown",
   "id": "f394537f",
   "metadata": {},
   "source": [
    "**<font color='CC3D3D'>[buyer_nm]**"
   ]
  },
  {
   "cell_type": "code",
   "execution_count": 74,
   "id": "ff1b3e9a",
   "metadata": {},
   "outputs": [
    {
     "data": {
      "text/plain": [
       "34"
      ]
     },
     "execution_count": 74,
     "metadata": {},
     "output_type": "execute_result"
    }
   ],
   "source": [
    "level = 'buyer_nm'\n",
    "data[level].nunique()"
   ]
  },
  {
   "cell_type": "code",
   "execution_count": 75,
   "id": "bca85fdd",
   "metadata": {},
   "outputs": [],
   "source": [
    "catFeatures_train_buyer = pd.pivot_table(data, index='custid', columns=level, values='tot_amt',\n",
    "                         aggfunc=aa, fill_value=0). \\\n",
    "                         reset_index(). \\\n",
    "                         query('custid not in @IDtest'). \\\n",
    "                        drop(columns=['custid']).values\n",
    "\n",
    "catFeatures_test_buyer = pd.pivot_table(data, index='custid', columns=level, values='tot_amt',\n",
    "                         aggfunc=aa, fill_value=0). \\\n",
    "                         reset_index(). \\\n",
    "                         query('custid in @IDtest'). \\\n",
    "                        drop(columns=['custid']).values\n",
    "# max_features = X_train.shape[1]"
   ]
  },
  {
   "cell_type": "code",
   "execution_count": 76,
   "id": "1b07c895",
   "metadata": {},
   "outputs": [],
   "source": [
    "catFeatures_train_buyer = pd.DataFrame(catFeatures_train_buyer)\n",
    "catFeatures_test_buyer = pd.DataFrame(catFeatures_test_buyer)"
   ]
  },
  {
   "cell_type": "code",
   "execution_count": 77,
   "id": "f516960e",
   "metadata": {},
   "outputs": [],
   "source": [
    "catFeatures_train_buyer.columns = catFeatures_train_buyer.columns.map(lambda x : level+ \"_\" + str(x) + \"_onehot\" )\n",
    "catFeatures_test_buyer.columns = catFeatures_test_buyer.columns.map(lambda x : level+ \"_\" + str(x) + \"_onehot\" )"
   ]
  },
  {
   "cell_type": "markdown",
   "id": "dc348e3a",
   "metadata": {},
   "source": [
    "# Merge Categoric Features"
   ]
  },
  {
   "cell_type": "code",
   "execution_count": 78,
   "id": "aaf63bd2",
   "metadata": {},
   "outputs": [],
   "source": [
    "onehot_features_train = pd.concat([catFeatures_train_cor, catFeatures_train_brd, catFeatures_train_pc,\\\n",
    "                            catFeatures_train_part, catFeatures_train_team, catFeatures_train_buyer], axis=1)"
   ]
  },
  {
   "cell_type": "code",
   "execution_count": 79,
   "id": "4b863919",
   "metadata": {},
   "outputs": [],
   "source": [
    "onehot_features_test = pd.concat([catFeatures_test_cor, catFeatures_test_brd, catFeatures_test_pc, \\\n",
    "                           catFeatures_test_part, catFeatures_test_team, catFeatures_test_buyer], axis=1)"
   ]
  },
  {
   "cell_type": "code",
   "execution_count": 80,
   "id": "7f64d6ac",
   "metadata": {},
   "outputs": [
    {
     "data": {
      "text/html": [
       "<div>\n",
       "<style scoped>\n",
       "    .dataframe tbody tr th:only-of-type {\n",
       "        vertical-align: middle;\n",
       "    }\n",
       "\n",
       "    .dataframe tbody tr th {\n",
       "        vertical-align: top;\n",
       "    }\n",
       "\n",
       "    .dataframe thead th {\n",
       "        text-align: right;\n",
       "    }\n",
       "</style>\n",
       "<table border=\"1\" class=\"dataframe\">\n",
       "  <thead>\n",
       "    <tr style=\"text-align: right;\">\n",
       "      <th></th>\n",
       "      <th>corner_nm_0_onehot</th>\n",
       "      <th>corner_nm_1_onehot</th>\n",
       "      <th>corner_nm_2_onehot</th>\n",
       "      <th>corner_nm_3_onehot</th>\n",
       "      <th>corner_nm_4_onehot</th>\n",
       "      <th>corner_nm_5_onehot</th>\n",
       "      <th>corner_nm_6_onehot</th>\n",
       "      <th>corner_nm_7_onehot</th>\n",
       "      <th>corner_nm_8_onehot</th>\n",
       "      <th>corner_nm_9_onehot</th>\n",
       "      <th>...</th>\n",
       "      <th>buyer_nm_24_onehot</th>\n",
       "      <th>buyer_nm_25_onehot</th>\n",
       "      <th>buyer_nm_26_onehot</th>\n",
       "      <th>buyer_nm_27_onehot</th>\n",
       "      <th>buyer_nm_28_onehot</th>\n",
       "      <th>buyer_nm_29_onehot</th>\n",
       "      <th>buyer_nm_30_onehot</th>\n",
       "      <th>buyer_nm_31_onehot</th>\n",
       "      <th>buyer_nm_32_onehot</th>\n",
       "      <th>buyer_nm_33_onehot</th>\n",
       "    </tr>\n",
       "  </thead>\n",
       "  <tbody>\n",
       "    <tr>\n",
       "      <th>0</th>\n",
       "      <td>0</td>\n",
       "      <td>0</td>\n",
       "      <td>0</td>\n",
       "      <td>0</td>\n",
       "      <td>0</td>\n",
       "      <td>0</td>\n",
       "      <td>0</td>\n",
       "      <td>0</td>\n",
       "      <td>0</td>\n",
       "      <td>0</td>\n",
       "      <td>...</td>\n",
       "      <td>1</td>\n",
       "      <td>0</td>\n",
       "      <td>0</td>\n",
       "      <td>0</td>\n",
       "      <td>0</td>\n",
       "      <td>0</td>\n",
       "      <td>0</td>\n",
       "      <td>0</td>\n",
       "      <td>0</td>\n",
       "      <td>1</td>\n",
       "    </tr>\n",
       "    <tr>\n",
       "      <th>1</th>\n",
       "      <td>0</td>\n",
       "      <td>0</td>\n",
       "      <td>0</td>\n",
       "      <td>0</td>\n",
       "      <td>0</td>\n",
       "      <td>0</td>\n",
       "      <td>0</td>\n",
       "      <td>0</td>\n",
       "      <td>0</td>\n",
       "      <td>0</td>\n",
       "      <td>...</td>\n",
       "      <td>1</td>\n",
       "      <td>1</td>\n",
       "      <td>0</td>\n",
       "      <td>0</td>\n",
       "      <td>0</td>\n",
       "      <td>0</td>\n",
       "      <td>0</td>\n",
       "      <td>0</td>\n",
       "      <td>0</td>\n",
       "      <td>1</td>\n",
       "    </tr>\n",
       "    <tr>\n",
       "      <th>2</th>\n",
       "      <td>0</td>\n",
       "      <td>0</td>\n",
       "      <td>0</td>\n",
       "      <td>0</td>\n",
       "      <td>0</td>\n",
       "      <td>0</td>\n",
       "      <td>0</td>\n",
       "      <td>0</td>\n",
       "      <td>0</td>\n",
       "      <td>0</td>\n",
       "      <td>...</td>\n",
       "      <td>1</td>\n",
       "      <td>1</td>\n",
       "      <td>0</td>\n",
       "      <td>0</td>\n",
       "      <td>0</td>\n",
       "      <td>0</td>\n",
       "      <td>0</td>\n",
       "      <td>0</td>\n",
       "      <td>0</td>\n",
       "      <td>1</td>\n",
       "    </tr>\n",
       "    <tr>\n",
       "      <th>3</th>\n",
       "      <td>0</td>\n",
       "      <td>0</td>\n",
       "      <td>0</td>\n",
       "      <td>0</td>\n",
       "      <td>0</td>\n",
       "      <td>0</td>\n",
       "      <td>0</td>\n",
       "      <td>0</td>\n",
       "      <td>0</td>\n",
       "      <td>0</td>\n",
       "      <td>...</td>\n",
       "      <td>0</td>\n",
       "      <td>0</td>\n",
       "      <td>0</td>\n",
       "      <td>0</td>\n",
       "      <td>0</td>\n",
       "      <td>0</td>\n",
       "      <td>0</td>\n",
       "      <td>0</td>\n",
       "      <td>0</td>\n",
       "      <td>1</td>\n",
       "    </tr>\n",
       "    <tr>\n",
       "      <th>4</th>\n",
       "      <td>0</td>\n",
       "      <td>0</td>\n",
       "      <td>0</td>\n",
       "      <td>0</td>\n",
       "      <td>0</td>\n",
       "      <td>0</td>\n",
       "      <td>0</td>\n",
       "      <td>0</td>\n",
       "      <td>0</td>\n",
       "      <td>0</td>\n",
       "      <td>...</td>\n",
       "      <td>1</td>\n",
       "      <td>0</td>\n",
       "      <td>0</td>\n",
       "      <td>0</td>\n",
       "      <td>0</td>\n",
       "      <td>0</td>\n",
       "      <td>0</td>\n",
       "      <td>0</td>\n",
       "      <td>0</td>\n",
       "      <td>1</td>\n",
       "    </tr>\n",
       "  </tbody>\n",
       "</table>\n",
       "<p>5 rows × 2309 columns</p>\n",
       "</div>"
      ],
      "text/plain": [
       "   corner_nm_0_onehot  corner_nm_1_onehot  corner_nm_2_onehot  \\\n",
       "0                   0                   0                   0   \n",
       "1                   0                   0                   0   \n",
       "2                   0                   0                   0   \n",
       "3                   0                   0                   0   \n",
       "4                   0                   0                   0   \n",
       "\n",
       "   corner_nm_3_onehot  corner_nm_4_onehot  corner_nm_5_onehot  \\\n",
       "0                   0                   0                   0   \n",
       "1                   0                   0                   0   \n",
       "2                   0                   0                   0   \n",
       "3                   0                   0                   0   \n",
       "4                   0                   0                   0   \n",
       "\n",
       "   corner_nm_6_onehot  corner_nm_7_onehot  corner_nm_8_onehot  \\\n",
       "0                   0                   0                   0   \n",
       "1                   0                   0                   0   \n",
       "2                   0                   0                   0   \n",
       "3                   0                   0                   0   \n",
       "4                   0                   0                   0   \n",
       "\n",
       "   corner_nm_9_onehot  ...  buyer_nm_24_onehot  buyer_nm_25_onehot  \\\n",
       "0                   0  ...                   1                   0   \n",
       "1                   0  ...                   1                   1   \n",
       "2                   0  ...                   1                   1   \n",
       "3                   0  ...                   0                   0   \n",
       "4                   0  ...                   1                   0   \n",
       "\n",
       "   buyer_nm_26_onehot  buyer_nm_27_onehot  buyer_nm_28_onehot  \\\n",
       "0                   0                   0                   0   \n",
       "1                   0                   0                   0   \n",
       "2                   0                   0                   0   \n",
       "3                   0                   0                   0   \n",
       "4                   0                   0                   0   \n",
       "\n",
       "   buyer_nm_29_onehot  buyer_nm_30_onehot  buyer_nm_31_onehot  \\\n",
       "0                   0                   0                   0   \n",
       "1                   0                   0                   0   \n",
       "2                   0                   0                   0   \n",
       "3                   0                   0                   0   \n",
       "4                   0                   0                   0   \n",
       "\n",
       "   buyer_nm_32_onehot  buyer_nm_33_onehot  \n",
       "0                   0                   1  \n",
       "1                   0                   1  \n",
       "2                   0                   1  \n",
       "3                   0                   1  \n",
       "4                   0                   1  \n",
       "\n",
       "[5 rows x 2309 columns]"
      ]
     },
     "execution_count": 80,
     "metadata": {},
     "output_type": "execute_result"
    }
   ],
   "source": [
    "onehot_features_train.head()"
   ]
  },
  {
   "cell_type": "markdown",
   "id": "e3eef7a3",
   "metadata": {},
   "source": [
    "# Deployment"
   ]
  },
  {
   "cell_type": "code",
   "execution_count": 81,
   "id": "86fb7ec2",
   "metadata": {},
   "outputs": [],
   "source": [
    "onehot_features_train.to_csv('hwang_onehot_features_train.csv', index=False)\n",
    "onehot_features_test.to_csv('hwang_onehot_features_test.csv', index=False)"
   ]
  },
  {
   "cell_type": "code",
   "execution_count": null,
   "id": "c803fd8d",
   "metadata": {},
   "outputs": [],
   "source": []
  }
 ],
 "metadata": {
  "kernelspec": {
   "display_name": "Python 3 (ipykernel)",
   "language": "python",
   "name": "python3"
  },
  "language_info": {
   "codemirror_mode": {
    "name": "ipython",
    "version": 3
   },
   "file_extension": ".py",
   "mimetype": "text/x-python",
   "name": "python",
   "nbconvert_exporter": "python",
   "pygments_lexer": "ipython3",
   "version": "3.9.7"
  }
 },
 "nbformat": 4,
 "nbformat_minor": 5
}
