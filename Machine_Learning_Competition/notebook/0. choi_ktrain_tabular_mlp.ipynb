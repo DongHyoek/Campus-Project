{
 "cells": [
  {
   "cell_type": "markdown",
   "id": "f3c253b8",
   "metadata": {},
   "source": [
    "<font color='tomato'><font color=\"#CC3D3D\"><p>\n",
    "# DNN Modeling with ktrain"
   ]
  },
  {
   "cell_type": "markdown",
   "id": "e85665e4",
   "metadata": {},
   "source": [
    "- ktrain은 tensorflow 기반의 low-code deep learning library임   \n",
    "https://github.com/amaiya/ktrain  \n",
    "\n",
    "\n",
    "- 아래 코드는 Seed를 설정하지 않았기 때문에 실행할 때마다 결과가 달라짐.    \n",
    "여러번 실행해서 얻는 submission 화일을 앙상블해서 사용하는 것이 좋음."
   ]
  },
  {
   "cell_type": "markdown",
   "id": "ccfbabd9",
   "metadata": {},
   "source": [
    "### Imports"
   ]
  },
  {
   "cell_type": "code",
   "execution_count": 1,
   "id": "316f9d98",
   "metadata": {},
   "outputs": [],
   "source": [
    "import ktrain\n",
    "from ktrain import tabular  # tabular data에 적용\n",
    "import pandas as pd\n",
    "import numpy as np\n",
    "import matplotlib.pylab as plt\n",
    "import os\n",
    "%matplotlib inline"
   ]
  },
  {
   "cell_type": "markdown",
   "id": "92879010",
   "metadata": {},
   "source": [
    "### Read Data"
   ]
  },
  {
   "cell_type": "code",
   "execution_count": 3,
   "id": "23a7e852",
   "metadata": {},
   "outputs": [],
   "source": [
    "# 1st round 1등팀 피처 사용\n",
    "X_train = pd.read_csv(os.path.abspath('../input')+'/choi_select_547_train.csv', encoding='utf-8')\n",
    "X_test = pd.read_csv(os.path.abspath('../input')+'/choi_select_547_test.csv', encoding='utf-8')\n",
    "y_train = pd.read_csv(os.path.abspath('../input')+'/y_train.csv').group\n",
    "IDtest = pd.read_csv(os.path.abspath('../input')+'/X_test.csv', encoding= 'cp949').custid.unique()"
   ]
  },
  {
   "cell_type": "code",
   "execution_count": 4,
   "id": "88152cdd",
   "metadata": {},
   "outputs": [],
   "source": [
    "# 아래 tabular_from_df()에서는 target 필드까지 들어간 데이터프레임을 요구\n",
    "train_df = pd.concat([X_train, pd.DataFrame(y_train)], axis=1)"
   ]
  },
  {
   "cell_type": "markdown",
   "id": "d3169e24",
   "metadata": {},
   "source": [
    "### Preprocessing"
   ]
  },
  {
   "cell_type": "code",
   "execution_count": 5,
   "id": "148ff683",
   "metadata": {},
   "outputs": [
    {
     "name": "stdout",
     "output_type": "stream",
     "text": [
      "processing train: 17261 rows x 548 columns\n",
      "['F20', 'F30', 'F40', 'F50', 'M20', 'M30', 'M40', 'M50']\n",
      "   F20  F30  F40  F50  M20  M30  M40  M50\n",
      "0  0.0  0.0  0.0  0.0  0.0  1.0  0.0  0.0\n",
      "2  1.0  0.0  0.0  0.0  0.0  0.0  0.0  0.0\n",
      "3  1.0  0.0  0.0  0.0  0.0  0.0  0.0  0.0\n",
      "4  0.0  0.0  0.0  0.0  0.0  0.0  1.0  0.0\n",
      "5  0.0  0.0  0.0  0.0  0.0  0.0  0.0  1.0\n",
      "processing test: 4326 rows x 548 columns\n",
      "['F20', 'F30', 'F40', 'F50', 'M20', 'M30', 'M40', 'M50']\n",
      "    F20  F30  F40  F50  M20  M30  M40  M50\n",
      "1   0.0  0.0  0.0  0.0  0.0  1.0  0.0  0.0\n",
      "7   0.0  1.0  0.0  0.0  0.0  0.0  0.0  0.0\n",
      "11  0.0  1.0  0.0  0.0  0.0  0.0  0.0  0.0\n",
      "12  0.0  1.0  0.0  0.0  0.0  0.0  0.0  0.0\n",
      "33  0.0  1.0  0.0  0.0  0.0  0.0  0.0  0.0\n"
     ]
    }
   ],
   "source": [
    "# Scaling, Imputation, train/valid 분할 등의 전처리를 수행하고 나중에 사용할 trn, val, preproc를 반환.\n",
    "# validation data의 비율(현재 20%)은 val_pct로 지정\n",
    "trn, val, preproc = tabular.tabular_from_df(train_df, label_columns=['group'], val_pct=0.2, random_state=42)"
   ]
  },
  {
   "cell_type": "markdown",
   "id": "309527c2",
   "metadata": {},
   "source": [
    "### Modeling"
   ]
  },
  {
   "cell_type": "code",
   "execution_count": 55,
   "id": "e6d9f45a",
   "metadata": {},
   "outputs": [
    {
     "name": "stdout",
     "output_type": "stream",
     "text": [
      "Is Multi-Label? False\n",
      "done.\n"
     ]
    }
   ],
   "source": [
    "##### MLP를 사용하여 모델링 (tabular data는 MLP만 지원). 배치 사이즈는 성능에 지대한 영향을 미침.\n",
    "model = tabular.tabular_classifier('mlp', trn)\n",
    "learner = ktrain.get_learner(model, train_data=trn, val_data=val, batch_size=400)"
   ]
  },
  {
   "cell_type": "code",
   "execution_count": 56,
   "id": "f307d215",
   "metadata": {},
   "outputs": [
    {
     "name": "stdout",
     "output_type": "stream",
     "text": [
      "\n",
      "\n",
      "begin training using onecycle policy with max lr of 0.005...\n",
      "Epoch 1/3\n",
      "44/44 [==============================] - 13s 284ms/step - loss: 1.6724 - accuracy: 0.4133 - val_loss: 1.4971 - val_accuracy: 0.4519\n",
      "Epoch 2/3\n",
      "44/44 [==============================] - 16s 376ms/step - loss: 1.4405 - accuracy: 0.4722 - val_loss: 1.5252 - val_accuracy: 0.4473\n",
      "Epoch 3/3\n",
      "44/44 [==============================] - 17s 392ms/step - loss: 1.2873 - accuracy: 0.5248 - val_loss: 1.5104 - val_accuracy: 0.4549\n"
     ]
    }
   ],
   "source": [
    "# Model Fitting: 학습율(lr)과 에포크(epochs)가 성능에 지대한 영향을 미침.\n",
    "hist = learner.fit_onecycle(lr = 5e-3, epochs=3, checkpoint_folder='output')"
   ]
  },
  {
   "cell_type": "code",
   "execution_count": 57,
   "id": "44106276",
   "metadata": {},
   "outputs": [
    {
     "data": {
      "image/png": "[encoded data removed]",
      "text/plain": [
       "<Figure size 432x288 with 1 Axes>"
      ]
     },
     "metadata": {
      "needs_background": "light"
     },
     "output_type": "display_data"
    }
   ],
   "source": [
    "# Log Loss: 거의 대부분 val_loss 값이 낮을수록 LB 스코어도 낮음. 즉 val_loss의 변화가 학습에 절대적으로 중요!!!\n",
    "plt.plot(hist.history[\"loss\"], label=\"train\")\n",
    "plt.plot(hist.history[\"val_loss\"], label=\"validation\")\n",
    "plt.legend()\n",
    "plt.xlabel('epoch')\n",
    "plt.title(\"Loss\")\n",
    "plt.show()"
   ]
  },
  {
   "cell_type": "markdown",
   "id": "e5c8f88f",
   "metadata": {},
   "source": [
    "### Prediction"
   ]
  },
  {
   "cell_type": "code",
   "execution_count": 58,
   "id": "55fbd705",
   "metadata": {},
   "outputs": [
    {
     "name": "stdout",
     "output_type": "stream",
     "text": [
      "['F20', 'F30', 'F40', 'F50', 'M20', 'M30', 'M40', 'M50']\n",
      "   F20  F30  F40  F50  M20  M30  M40  M50\n",
      "0  1.0  0.0  0.0  0.0  0.0  0.0  0.0  0.0\n",
      "1  1.0  0.0  0.0  0.0  0.0  0.0  0.0  0.0\n",
      "2  1.0  0.0  0.0  0.0  0.0  0.0  0.0  0.0\n",
      "3  1.0  0.0  0.0  0.0  0.0  0.0  0.0  0.0\n",
      "4  1.0  0.0  0.0  0.0  0.0  0.0  0.0  0.0\n"
     ]
    }
   ],
   "source": [
    "predictor = ktrain.get_predictor(learner.model, preproc)\n",
    "pred = predictor.predict(X_test, return_proba=True)"
   ]
  },
  {
   "cell_type": "code",
   "execution_count": 59,
   "id": "54e47f35",
   "metadata": {},
   "outputs": [
    {
     "name": "stdout",
     "output_type": "stream",
     "text": [
      "'ktrain_mlp_submission_choi_ver10.csv' is ready to submit.\n"
     ]
    }
   ],
   "source": [
    "t = pd.Timestamp.now()\n",
    "fname = f\"ktrain_mlp_submission_choi_ver10.csv\"\n",
    "pred = pd.DataFrame(pred)\n",
    "pred.columns = ['F20','F30','F40','F50','M20','M30','M40','M50']\n",
    "submissions = pd.concat([pd.Series(IDtest, name=\"ID\"), pred] ,axis=1)\n",
    "submissions.to_csv(fname, index=False)\n",
    "print(\"'{}' is ready to submit.\" .format(fname))"
   ]
  },
  {
   "cell_type": "markdown",
   "id": "e470918d",
   "metadata": {},
   "source": [
    "<font color='tomato'><font color=\"#CC3D3D\"><p>\n",
    "# End"
   ]
  }
 ],
 "metadata": {
  "kernelspec": {
   "display_name": "Python 3 (ipykernel)",
   "language": "python",
   "name": "python3"
  },
  "language_info": {
   "codemirror_mode": {
    "name": "ipython",
    "version": 3
   },
   "file_extension": ".py",
   "mimetype": "text/x-python",
   "name": "python",
   "nbconvert_exporter": "python",
   "pygments_lexer": "ipython3",
   "version": "3.9.7"
  }
 },
 "nbformat": 4,
 "nbformat_minor": 5
}
