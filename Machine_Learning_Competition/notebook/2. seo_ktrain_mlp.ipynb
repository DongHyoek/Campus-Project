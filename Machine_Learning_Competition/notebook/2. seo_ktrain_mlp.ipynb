{
 "cells": [
  {
   "cell_type": "markdown",
   "id": "f3c253b8",
   "metadata": {},
   "source": [
    "<font color='tomato'><font color=\"#CC3D3D\"><p>\n",
    "# DNN Modeling with ktrain"
   ]
  },
  {
   "cell_type": "markdown",
   "id": "e85665e4",
   "metadata": {},
   "source": [
    "- ktrain은 tensorflow 기반의 low-code deep learning library임   \n",
    "https://github.com/amaiya/ktrain  \n",
    "\n",
    "\n",
    "- 아래 코드는 Seed를 설정하지 않았기 때문에 실행할 때마다 결과가 달라짐.    \n",
    "여러번 실행해서 얻는 submission 화일을 앙상블해서 사용하는 것이 좋음."
   ]
  },
  {
   "cell_type": "markdown",
   "id": "ccfbabd9",
   "metadata": {},
   "source": [
    "### Imports"
   ]
  },
  {
   "cell_type": "code",
   "execution_count": 1,
   "id": "316f9d98",
   "metadata": {},
   "outputs": [
    {
     "name": "stderr",
     "output_type": "stream",
     "text": [
      "C:\\Users\\82105\\anaconda3\\envs\\ktrain\\lib\\site-packages\\tqdm\\auto.py:22: TqdmWarning: IProgress not found. Please update jupyter and ipywidgets. See https://ipywidgets.readthedocs.io/en/stable/user_install.html\n",
      "  from .autonotebook import tqdm as notebook_tqdm\n"
     ]
    }
   ],
   "source": [
    "import ktrain\n",
    "from ktrain import tabular  # tabular data에 적용\n",
    "import pandas as pd\n",
    "import numpy as np\n",
    "import matplotlib.pylab as plt\n",
    "%matplotlib inline"
   ]
  },
  {
   "cell_type": "markdown",
   "id": "92879010",
   "metadata": {},
   "source": [
    "### Read Data"
   ]
  },
  {
   "cell_type": "code",
   "execution_count": 2,
   "id": "23a7e852",
   "metadata": {},
   "outputs": [],
   "source": [
    "# 1st round 1등팀 피처 사용\n",
    "X_train = pd.read_csv('seo_X_new_selected.csv', encoding='cp949')\n",
    "X_test = pd.read_csv('seo_X_te_new_selected.csv', encoding='cp949')\n",
    "y_train = pd.read_csv('y_train.csv').group\n",
    "IDtest = pd.read_csv('X_test.csv', encoding= 'cp949').custid.unique()"
   ]
  },
  {
   "cell_type": "code",
   "execution_count": 3,
   "id": "88152cdd",
   "metadata": {},
   "outputs": [],
   "source": [
    "# 아래 tabular_from_df()에서는 target 필드까지 들어간 데이터프레임을 요구\n",
    "train_df = pd.concat([X_train, pd.DataFrame(y_train)], axis=1)"
   ]
  },
  {
   "cell_type": "markdown",
   "id": "d3169e24",
   "metadata": {},
   "source": [
    "### Preprocessing"
   ]
  },
  {
   "cell_type": "code",
   "execution_count": 4,
   "id": "148ff683",
   "metadata": {},
   "outputs": [
    {
     "name": "stdout",
     "output_type": "stream",
     "text": [
      "processing train: 17261 rows x 541 columns\n",
      "['F20', 'F30', 'F40', 'F50', 'M20', 'M30', 'M40', 'M50']\n",
      "   F20  F30  F40  F50  M20  M30  M40  M50\n",
      "0  0.0  0.0  0.0  0.0  0.0  1.0  0.0  0.0\n",
      "2  1.0  0.0  0.0  0.0  0.0  0.0  0.0  0.0\n",
      "3  1.0  0.0  0.0  0.0  0.0  0.0  0.0  0.0\n",
      "4  0.0  0.0  0.0  0.0  0.0  0.0  1.0  0.0\n",
      "5  0.0  0.0  0.0  0.0  0.0  0.0  0.0  1.0\n",
      "processing test: 4326 rows x 541 columns\n",
      "['F20', 'F30', 'F40', 'F50', 'M20', 'M30', 'M40', 'M50']\n",
      "    F20  F30  F40  F50  M20  M30  M40  M50\n",
      "1   0.0  0.0  0.0  0.0  0.0  1.0  0.0  0.0\n",
      "7   0.0  1.0  0.0  0.0  0.0  0.0  0.0  0.0\n",
      "11  0.0  1.0  0.0  0.0  0.0  0.0  0.0  0.0\n",
      "12  0.0  1.0  0.0  0.0  0.0  0.0  0.0  0.0\n",
      "33  0.0  1.0  0.0  0.0  0.0  0.0  0.0  0.0\n"
     ]
    }
   ],
   "source": [
    "# Scaling, Imputation, train/valid 분할 등의 전처리를 수행하고 나중에 사용할 trn, val, preproc를 반환.\n",
    "# validation data의 비율(현재 20%)은 val_pct로 지정\n",
    "trn, val, preproc = tabular.tabular_from_df(train_df, label_columns=['group'], val_pct=0.2, random_state=42)"
   ]
  },
  {
   "cell_type": "markdown",
   "id": "309527c2",
   "metadata": {},
   "source": [
    "### Modeling"
   ]
  },
  {
   "cell_type": "code",
   "execution_count": 5,
   "id": "ace203eb",
   "metadata": {},
   "outputs": [
    {
     "name": "stdout",
     "output_type": "stream",
     "text": [
      "Is Multi-Label? False\n",
      "done.\n"
     ]
    }
   ],
   "source": [
    "# MLP를 사용하여 모델링 (tabular data는 MLP만 지원). 배치 사이즈는 성능에 지대한 영향을 미침.\n",
    "model = tabular.tabular_classifier('mlp', trn)\n",
    "learner = ktrain.get_learner(model, train_data=trn, val_data=val, batch_size=512)"
   ]
  },
  {
   "cell_type": "code",
   "execution_count": 6,
   "id": "f307d215",
   "metadata": {},
   "outputs": [
    {
     "name": "stdout",
     "output_type": "stream",
     "text": [
      "\n",
      "\n",
      "begin training using onecycle policy with max lr of 0.005...\n",
      "Epoch 1/4\n",
      "34/34 [==============================] - 9s 276ms/step - loss: 1.7473 - accuracy: 0.3970 - val_loss: 1.5210 - val_accuracy: 0.4434\n",
      "Epoch 2/4\n",
      "34/34 [==============================] - 9s 273ms/step - loss: 1.5257 - accuracy: 0.4471 - val_loss: 1.5200 - val_accuracy: 0.4385\n",
      "Epoch 3/4\n",
      "34/34 [==============================] - 9s 277ms/step - loss: 1.4831 - accuracy: 0.4603 - val_loss: 1.5069 - val_accuracy: 0.4515\n",
      "Epoch 4/4\n",
      "34/34 [==============================] - 9s 276ms/step - loss: 1.3766 - accuracy: 0.4905 - val_loss: 1.4942 - val_accuracy: 0.4519\n"
     ]
    }
   ],
   "source": [
    "# Model Fitting: 학습율(lr)과 에포크(epochs)가 성능에 지대한 영향을 미침.\n",
    "hist = learner.fit_onecycle(lr=5e-3, epochs=4, checkpoint_folder='output')"
   ]
  },
  {
   "cell_type": "code",
   "execution_count": 1,
   "id": "44106276",
   "metadata": {},
   "outputs": [
    {
     "ename": "NameError",
     "evalue": "name 'plt' is not defined",
     "output_type": "error",
     "traceback": [
      "\u001b[1;31m---------------------------------------------------------------------------\u001b[0m",
      "\u001b[1;31mNameError\u001b[0m                                 Traceback (most recent call last)",
      "Input \u001b[1;32mIn [1]\u001b[0m, in \u001b[0;36m<cell line: 2>\u001b[1;34m()\u001b[0m\n\u001b[0;32m      1\u001b[0m \u001b[38;5;66;03m# Log Loss: 거의 대부분 val_loss 값이 낮을수록 LB 스코어도 낮음. 즉 val_loss의 변화가 학습에 절대적으로 중요!!!\u001b[39;00m\n\u001b[1;32m----> 2\u001b[0m \u001b[43mplt\u001b[49m\u001b[38;5;241m.\u001b[39mplot(hist\u001b[38;5;241m.\u001b[39mhistory[\u001b[38;5;124m\"\u001b[39m\u001b[38;5;124mloss\u001b[39m\u001b[38;5;124m\"\u001b[39m], label\u001b[38;5;241m=\u001b[39m\u001b[38;5;124m\"\u001b[39m\u001b[38;5;124mtrain\u001b[39m\u001b[38;5;124m\"\u001b[39m)\n\u001b[0;32m      3\u001b[0m plt\u001b[38;5;241m.\u001b[39mplot(hist\u001b[38;5;241m.\u001b[39mhistory[\u001b[38;5;124m\"\u001b[39m\u001b[38;5;124mval_loss\u001b[39m\u001b[38;5;124m\"\u001b[39m], label\u001b[38;5;241m=\u001b[39m\u001b[38;5;124m\"\u001b[39m\u001b[38;5;124mvalidation\u001b[39m\u001b[38;5;124m\"\u001b[39m)\n\u001b[0;32m      4\u001b[0m plt\u001b[38;5;241m.\u001b[39mlegend()\n",
      "\u001b[1;31mNameError\u001b[0m: name 'plt' is not defined"
     ]
    }
   ],
   "source": [
    "# Log Loss: 거의 대부분 val_loss 값이 낮을수록 LB 스코어도 낮음. 즉 val_loss의 변화가 학습에 절대적으로 중요!!!\n",
    "plt.plot(hist.history[\"loss\"], label=\"train\")\n",
    "plt.plot(hist.history[\"val_loss\"], label=\"validation\")\n",
    "plt.legend()\n",
    "plt.xlabel('epoch')\n",
    "plt.title(\"Loss\")\n",
    "plt.show()"
   ]
  },
  {
   "cell_type": "markdown",
   "id": "e5c8f88f",
   "metadata": {},
   "source": [
    "### Prediction"
   ]
  },
  {
   "cell_type": "code",
   "execution_count": 8,
   "id": "55fbd705",
   "metadata": {},
   "outputs": [
    {
     "name": "stdout",
     "output_type": "stream",
     "text": [
      "['F20', 'F30', 'F40', 'F50', 'M20', 'M30', 'M40', 'M50']\n",
      "   F20  F30  F40  F50  M20  M30  M40  M50\n",
      "0  1.0  0.0  0.0  0.0  0.0  0.0  0.0  0.0\n",
      "1  1.0  0.0  0.0  0.0  0.0  0.0  0.0  0.0\n",
      "2  1.0  0.0  0.0  0.0  0.0  0.0  0.0  0.0\n",
      "3  1.0  0.0  0.0  0.0  0.0  0.0  0.0  0.0\n",
      "4  1.0  0.0  0.0  0.0  0.0  0.0  0.0  0.0\n",
      "450/450 [==============================] - 26s 59ms/step\n"
     ]
    }
   ],
   "source": [
    "predictor = ktrain.get_predictor(learner.model, preproc)\n",
    "pred = predictor.predict(X_test, return_proba=True)"
   ]
  },
  {
   "cell_type": "code",
   "execution_count": 9,
   "id": "54e47f35",
   "metadata": {},
   "outputs": [
    {
     "name": "stdout",
     "output_type": "stream",
     "text": [
      "'ktrain_mlp_submission_06122010.csv' is ready to submit.\n"
     ]
    }
   ],
   "source": [
    "t = pd.Timestamp.now()\n",
    "fname = f\"ktrain_mlp_submission_{t.month:02}{t.day:02}{t.hour:02}{t.minute:02}.csv\"\n",
    "pred = pd.DataFrame(pred)\n",
    "pred.columns = ['F20','F30','F40','F50','M20','M30','M40','M50']\n",
    "submissions = pd.concat([pd.Series(IDtest, name=\"ID\"), pred] ,axis=1)\n",
    "submissions.to_csv(fname, index=False)\n",
    "print(\"'{}' is ready to submit.\" .format(fname))"
   ]
  },
  {
   "cell_type": "markdown",
   "id": "e470918d",
   "metadata": {},
   "source": [
    "<font color='tomato'><font color=\"#CC3D3D\"><p>\n",
    "# End"
   ]
  }
 ],
 "metadata": {
  "kernelspec": {
   "display_name": "Python 3 (ipykernel)",
   "language": "python",
   "name": "python3"
  },
  "language_info": {
   "codemirror_mode": {
    "name": "ipython",
    "version": 3
   },
   "file_extension": ".py",
   "mimetype": "text/x-python",
   "name": "python",
   "nbconvert_exporter": "python",
   "pygments_lexer": "ipython3",
   "version": "3.9.7"
  }
 },
 "nbformat": 4,
 "nbformat_minor": 5
}
