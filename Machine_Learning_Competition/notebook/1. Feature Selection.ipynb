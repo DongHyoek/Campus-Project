{
 "cells": [
  {
   "cell_type": "code",
   "execution_count": 1,
   "id": "2309dd1d",
   "metadata": {},
   "outputs": [
    {
     "name": "stderr",
     "output_type": "stream",
     "text": [
      "C:\\Users\\choij\\anaconda3\\lib\\site-packages\\dask\\dataframe\\utils.py:369: FutureWarning: pandas.Int64Index is deprecated and will be removed from pandas in a future version. Use pandas.Index with the appropriate dtype instead.\n",
      "  _numeric_index_types = (pd.Int64Index, pd.Float64Index, pd.UInt64Index)\n",
      "C:\\Users\\choij\\anaconda3\\lib\\site-packages\\dask\\dataframe\\utils.py:369: FutureWarning: pandas.Float64Index is deprecated and will be removed from pandas in a future version. Use pandas.Index with the appropriate dtype instead.\n",
      "  _numeric_index_types = (pd.Int64Index, pd.Float64Index, pd.UInt64Index)\n",
      "C:\\Users\\choij\\anaconda3\\lib\\site-packages\\dask\\dataframe\\utils.py:369: FutureWarning: pandas.UInt64Index is deprecated and will be removed from pandas in a future version. Use pandas.Index with the appropriate dtype instead.\n",
      "  _numeric_index_types = (pd.Int64Index, pd.Float64Index, pd.UInt64Index)\n"
     ]
    }
   ],
   "source": [
    "# Data Wrangling\n",
    "import pandas as pd\n",
    "from pandas import Series, DataFrame\n",
    "import numpy as np\n",
    "\n",
    "# Visualization\n",
    "import matplotlib.pylab as plt\n",
    "from matplotlib import font_manager, rc\n",
    "import seaborn as sns\n",
    "%matplotlib inline\n",
    "\n",
    "# EDA\n",
    "\n",
    "\n",
    "# Preprocessing & Feature Engineering\n",
    "from sklearn.model_selection import train_test_split\n",
    "from sklearn.preprocessing import MinMaxScaler\n",
    "from sklearn.impute import SimpleImputer \n",
    "from sklearn.preprocessing import StandardScaler\n",
    "from sklearn.preprocessing import MinMaxScaler\n",
    "from sklearn.preprocessing import PowerTransformer\n",
    "from sklearn.feature_selection import SelectPercentile\n",
    "from sklearn import base\n",
    "from sklearn.model_selection import KFold\n",
    "from sklearn.model_selection import StratifiedShuffleSplit\n",
    "from sklearn.model_selection import StratifiedKFold\n",
    "from sklearn.experimental import enable_iterative_imputer  # still experimental \n",
    "from sklearn.impute import IterativeImputer\n",
    "from sklearn.feature_selection import RFE\n",
    "from sklearn.feature_selection import SelectFromModel\n",
    "\n",
    "# Hyperparameter Optimization\n",
    "from sklearn.model_selection import GridSearchCV\n",
    "from sklearn.model_selection import RandomizedSearchCV\n",
    "import optuna\n",
    "\n",
    "# Modeling\n",
    "from catboost import CatBoostClassifier\n",
    "from lightgbm import LGBMClassifier\n",
    "from sklearn.neural_network import MLPClassifier\n",
    "\n",
    "\n",
    "# Evaluation\n",
    "from sklearn.metrics import roc_auc_score\n",
    "from sklearn.metrics import accuracy_score\n",
    "from sklearn.model_selection import cross_val_score\n",
    "from sklearn.metrics import mean_squared_error\n",
    "from sklearn.metrics import log_loss\n",
    "\n",
    "# Utility\n",
    "import os\n",
    "import time\n",
    "import random\n",
    "import sys, warnings\n",
    "if not sys.warnoptions: warnings.simplefilter(\"ignore\")\n",
    "from IPython.display import Image\n",
    "\n",
    "# import pickle\n",
    "from tqdm import tqdm\n",
    "import platform\n",
    "from itertools import combinations\n",
    "from scipy.stats.mstats import gmean\n",
    "from tensorflow import keras\n",
    "\n",
    "# from bayes_opt import BayesianOptimization"
   ]
  },
  {
   "cell_type": "code",
   "execution_count": 2,
   "id": "370e9be6",
   "metadata": {},
   "outputs": [],
   "source": [
    "# 피쳐 불러오기\n",
    "num_features_train = pd.read_csv('../input/hwang_num_features_train.csv')\n",
    "num_features_test = pd.read_csv('../input/hwang_num_features_test.csv')\n",
    "onehot_features_train = pd.read_csv('../input/hwang_onehot_features_train.csv', encoding='cp949')\n",
    "onehot_features_test = pd.read_csv('../input/hwang_onehot_features_test.csv', encoding='cp949')\n",
    "w2v_features_train = pd.read_csv('../input/hwang_w2v_features_train.csv', encoding='cp949')\n",
    "w2v_features_test = pd.read_csv('../input/hwang_w2v_features_test.csv', encoding='cp949')"
   ]
  },
  {
   "cell_type": "code",
   "execution_count": 3,
   "id": "a6cd187d",
   "metadata": {},
   "outputs": [],
   "source": [
    "x_te = pd.read_csv('../input/X_test.csv', encoding='cp949')"
   ]
  },
  {
   "cell_type": "code",
   "execution_count": 4,
   "id": "89b9a450",
   "metadata": {},
   "outputs": [],
   "source": [
    "tst_id = x_te['custid'].unique()"
   ]
  },
  {
   "cell_type": "code",
   "execution_count": 5,
   "id": "8b5edba2",
   "metadata": {},
   "outputs": [],
   "source": [
    "target = pd.read_csv('../input/y_train.csv', encoding = 'cp949').group"
   ]
  },
  {
   "cell_type": "code",
   "execution_count": 6,
   "id": "f065d315",
   "metadata": {},
   "outputs": [
    {
     "data": {
      "text/plain": [
       "(21587, 3293)"
      ]
     },
     "execution_count": 6,
     "metadata": {},
     "output_type": "execute_result"
    }
   ],
   "source": [
    "num_features_train.shape"
   ]
  },
  {
   "cell_type": "code",
   "execution_count": 7,
   "id": "8712d86a",
   "metadata": {},
   "outputs": [
    {
     "data": {
      "text/plain": [
       "(21587, 2309)"
      ]
     },
     "execution_count": 7,
     "metadata": {},
     "output_type": "execute_result"
    }
   ],
   "source": [
    "onehot_features_train.shape"
   ]
  },
  {
   "cell_type": "code",
   "execution_count": 8,
   "id": "e656d7b2",
   "metadata": {
    "scrolled": true
   },
   "outputs": [
    {
     "data": {
      "text/plain": [
       "(21587, 1950)"
      ]
     },
     "execution_count": 8,
     "metadata": {},
     "output_type": "execute_result"
    }
   ],
   "source": [
    "w2v_features_train.shape"
   ]
  },
  {
   "cell_type": "markdown",
   "id": "9a922661",
   "metadata": {},
   "source": [
    "# Merge All Features"
   ]
  },
  {
   "cell_type": "code",
   "execution_count": 9,
   "id": "64496ab2",
   "metadata": {},
   "outputs": [],
   "source": [
    "all_features_train =  pd.concat([num_features_train, onehot_features_train, w2v_features_train], axis = 1)\n",
    "all_features_test =  pd.concat([num_features_test, onehot_features_test, w2v_features_test], axis = 1)"
   ]
  },
  {
   "cell_type": "code",
   "execution_count": 10,
   "id": "04b50466",
   "metadata": {},
   "outputs": [],
   "source": [
    "import re\n",
    "all_features_train.rename(columns = lambda x:re.sub(',', '/', x), inplace = True)\n",
    "all_features_test.rename(columns = lambda x:re.sub(',', '/', x), inplace = True)\n",
    "\n"
   ]
  },
  {
   "cell_type": "code",
   "execution_count": 11,
   "id": "42520e1d",
   "metadata": {},
   "outputs": [],
   "source": [
    "all_features_train = all_features_train.iloc[:, 1:]\n",
    "all_features_test = all_features_test.iloc[:, 1:]"
   ]
  },
  {
   "cell_type": "code",
   "execution_count": 12,
   "id": "0bb17c65",
   "metadata": {},
   "outputs": [
    {
     "name": "stdout",
     "output_type": "stream",
     "text": [
      "(21587, 7551) (14380, 7551) (21587,)\n"
     ]
    }
   ],
   "source": [
    "print(all_features_train.shape, all_features_test.shape, target.shape)"
   ]
  },
  {
   "cell_type": "markdown",
   "id": "9bc20c93",
   "metadata": {},
   "source": [
    "# Feature Selection"
   ]
  },
  {
   "cell_type": "markdown",
   "id": "0bcbf4b2",
   "metadata": {},
   "source": [
    "### LGBM"
   ]
  },
  {
   "cell_type": "code",
   "execution_count": 13,
   "id": "8962e9d3",
   "metadata": {},
   "outputs": [],
   "source": [
    "clf = LGBMClassifier(random_state = 0)"
   ]
  },
  {
   "cell_type": "code",
   "execution_count": 14,
   "id": "cefe1bba",
   "metadata": {},
   "outputs": [],
   "source": [
    "all_features_train_fs = all_features_train\n",
    "all_features_test_fs = all_features_test"
   ]
  },
  {
   "cell_type": "code",
   "execution_count": 15,
   "id": "b1705338",
   "metadata": {
    "scrolled": false
   },
   "outputs": [
    {
     "data": {
      "text/plain": [
       "SelectFromModel(estimator=LGBMClassifier(random_state=0), threshold='3.0*mean')"
      ]
     },
     "execution_count": 15,
     "metadata": {},
     "output_type": "execute_result"
    }
   ],
   "source": [
    "smf = SelectFromModel(clf, threshold='3.0*mean')\n",
    "smf.fit(all_features_train_fs, target)"
   ]
  },
  {
   "cell_type": "code",
   "execution_count": 16,
   "id": "4a12e5f5",
   "metadata": {},
   "outputs": [],
   "source": [
    "X_new = smf.transform(all_features_train_fs)\n",
    "X_te_new = smf.transform(all_features_test_fs)"
   ]
  },
  {
   "cell_type": "code",
   "execution_count": 17,
   "id": "c12c68fb",
   "metadata": {},
   "outputs": [],
   "source": [
    "feature_selection_idx = smf.get_support()\n",
    "feature_selection_name = all_features_train_fs.columns[feature_selection_idx]"
   ]
  },
  {
   "cell_type": "code",
   "execution_count": 18,
   "id": "daccb3b8",
   "metadata": {},
   "outputs": [],
   "source": [
    "X_new = pd.DataFrame(X_new)\n",
    "X_te_new = pd.DataFrame(X_te_new)\n",
    "\n",
    "X_new.columns = feature_selection_name\n",
    "X_te_new.columns = feature_selection_name"
   ]
  },
  {
   "cell_type": "code",
   "execution_count": 19,
   "id": "84245096",
   "metadata": {},
   "outputs": [
    {
     "name": "stdout",
     "output_type": "stream",
     "text": [
      "교차 검증별 정확도: [-1.5497 -1.5727 -1.558  -1.5494 -1.5672]\n",
      "평균 검증 정확도: -1.5594\n",
      "log_loss: 1.559393426848895\n"
     ]
    }
   ],
   "source": [
    "scores = cross_val_score(clf, X_new, target, scoring='neg_log_loss', cv=5)\n",
    "print('교차 검증별 정확도:', np.round(scores, 4))\n",
    "print('평균 검증 정확도:', np.round(np.mean(scores), 4))\n",
    "print('log_loss:', -np.mean(scores))"
   ]
  },
  {
   "cell_type": "code",
   "execution_count": 20,
   "id": "dcc18b9d",
   "metadata": {},
   "outputs": [],
   "source": [
    "X_new.to_csv('hwang_selected_features_train.csv', index=False)\n",
    "X_te_new.to_csv('hwang_selected_features_test.csv', index=False)"
   ]
  },
  {
   "cell_type": "markdown",
   "id": "7b188b44",
   "metadata": {},
   "source": [
    "***"
   ]
  }
 ],
 "metadata": {
  "kernelspec": {
   "display_name": "Python 3 (ipykernel)",
   "language": "python",
   "name": "python3"
  },
  "language_info": {
   "codemirror_mode": {
    "name": "ipython",
    "version": 3
   },
   "file_extension": ".py",
   "mimetype": "text/x-python",
   "name": "python",
   "nbconvert_exporter": "python",
   "pygments_lexer": "ipython3",
   "version": "3.8.8"
  }
 },
 "nbformat": 4,
 "nbformat_minor": 5
}
