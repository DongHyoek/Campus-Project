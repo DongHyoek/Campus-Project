{
 "cells": [
  {
   "cell_type": "code",
   "execution_count": 1,
   "id": "63644457",
   "metadata": {},
   "outputs": [
    {
     "name": "stderr",
     "output_type": "stream",
     "text": [
      "C:\\Users\\choij\\anaconda3\\lib\\site-packages\\dask\\dataframe\\utils.py:369: FutureWarning: pandas.Int64Index is deprecated and will be removed from pandas in a future version. Use pandas.Index with the appropriate dtype instead.\n",
      "  _numeric_index_types = (pd.Int64Index, pd.Float64Index, pd.UInt64Index)\n",
      "C:\\Users\\choij\\anaconda3\\lib\\site-packages\\dask\\dataframe\\utils.py:369: FutureWarning: pandas.Float64Index is deprecated and will be removed from pandas in a future version. Use pandas.Index with the appropriate dtype instead.\n",
      "  _numeric_index_types = (pd.Int64Index, pd.Float64Index, pd.UInt64Index)\n",
      "C:\\Users\\choij\\anaconda3\\lib\\site-packages\\dask\\dataframe\\utils.py:369: FutureWarning: pandas.UInt64Index is deprecated and will be removed from pandas in a future version. Use pandas.Index with the appropriate dtype instead.\n",
      "  _numeric_index_types = (pd.Int64Index, pd.Float64Index, pd.UInt64Index)\n"
     ]
    }
   ],
   "source": [
    "# Data Wrangling\n",
    "import pandas as pd\n",
    "from pandas import Series, DataFrame\n",
    "import numpy as np\n",
    "\n",
    "# Visualization\n",
    "import matplotlib.pylab as plt\n",
    "from matplotlib import font_manager, rc\n",
    "import seaborn as sns\n",
    "%matplotlib inline\n",
    "\n",
    "# EDA\n",
    "# import klib\n",
    "\n",
    "# Preprocessing & Feature Engineering\n",
    "from sklearn.model_selection import train_test_split\n",
    "from sklearn.preprocessing import MinMaxScaler\n",
    "from sklearn.impute import SimpleImputer \n",
    "from sklearn.preprocessing import StandardScaler\n",
    "from sklearn.preprocessing import MinMaxScaler\n",
    "from sklearn.preprocessing import PowerTransformer\n",
    "from sklearn.feature_selection import SelectPercentile\n",
    "from sklearn import base\n",
    "from sklearn.model_selection import KFold\n",
    "from sklearn.model_selection import StratifiedShuffleSplit\n",
    "from sklearn.model_selection import StratifiedKFold\n",
    "from sklearn.experimental import enable_iterative_imputer  # still experimental \n",
    "from sklearn.impute import IterativeImputer\n",
    "from sklearn.feature_selection import RFE\n",
    "\n",
    "\n",
    "# Hyperparameter Optimization\n",
    "from sklearn.model_selection import GridSearchCV\n",
    "from sklearn.model_selection import RandomizedSearchCV\n",
    "\n",
    "# Modeling\n",
    "from sklearn.dummy import DummyClassifier\n",
    "from lightgbm import LGBMClassifier\n",
    "from sklearn.linear_model import Ridge, Lasso, ElasticNet\n",
    "from sklearn.linear_model import BayesianRidge\n",
    "\n",
    "# Evaluation\n",
    "from sklearn.metrics import roc_auc_score\n",
    "from sklearn.metrics import accuracy_score\n",
    "from sklearn.model_selection import cross_val_score\n",
    "from sklearn.metrics import mean_squared_error\n",
    "\n",
    "# Utility\n",
    "import os\n",
    "import time\n",
    "import random\n",
    "import sys, warnings\n",
    "if not sys.warnoptions: warnings.simplefilter(\"ignore\")\n",
    "from IPython.display import Image\n",
    "# import pickle\n",
    "from tqdm import tqdm\n",
    "import platform\n",
    "from itertools import combinations\n",
    "from scipy.stats.mstats import gmean\n",
    "from tensorflow import keras\n",
    "\n",
    "# from bayes_opt import BayesianOptimization"
   ]
  },
  {
   "cell_type": "code",
   "execution_count": 2,
   "id": "6757432a",
   "metadata": {},
   "outputs": [],
   "source": [
    "num_features_train = pd.read_csv(os.path.abspath(\"../input\")+\"/choi_num_features_train.csv\" , encoding = 'utf-8')\n",
    "num_features_test = pd.read_csv(os.path.abspath(\"../input\")+\"/choi_num_features_test.csv\" , encoding = 'utf-8')"
   ]
  },
  {
   "cell_type": "code",
   "execution_count": 3,
   "id": "cf74dc90",
   "metadata": {},
   "outputs": [],
   "source": [
    "onehot_features_train = pd.read_csv(os.path.abspath(\"../input\")+'/choi_onehot_features_train.csv' , encoding = 'utf-8')\n",
    "onehot_features_test = pd.read_csv(os.path.abspath(\"../input\")+'/choi_onehot_features_test.csv' , encoding = 'utf-8')"
   ]
  },
  {
   "cell_type": "code",
   "execution_count": 4,
   "id": "26a090f4",
   "metadata": {},
   "outputs": [],
   "source": [
    "w2v_features_train = pd.read_csv(os.path.abspath(\"../input\")+'/choi_w2v_features_train.csv' , encoding = 'utf-8')\n",
    "w2v_features_test = pd.read_csv(os.path.abspath(\"../input\")+'/choi_w2v_features_test.csv' , encoding = 'utf-8')"
   ]
  },
  {
   "cell_type": "code",
   "execution_count": 5,
   "id": "4f0c9da7",
   "metadata": {},
   "outputs": [],
   "source": [
    "kmean_train_num = pd.read_csv(os.path.abspath(\"../input\")+'/choi_features_k_train_num.csv' , encoding = 'utf-8')\n",
    "kmean_test_num = pd.read_csv(os.path.abspath(\"../input\")+'/choi_features_k_test_num.csv' , encoding = 'utf-8')\n",
    "kmean_train = pd.read_csv(os.path.abspath(\"../input\")+'/choi_features_k_train.csv' , encoding = 'utf-8')\n",
    "kmean_test = pd.read_csv(os.path.abspath(\"../input\")+'/choi_features_k_test.csv' , encoding = 'utf-8')"
   ]
  },
  {
   "cell_type": "markdown",
   "id": "77f3de2e",
   "metadata": {},
   "source": [
    "## *numeric scaling*"
   ]
  },
  {
   "cell_type": "code",
   "execution_count": 6,
   "id": "1f92e195",
   "metadata": {},
   "outputs": [],
   "source": [
    "train_id = num_features_train['custid'].unique()\n",
    "tst_id = num_features_test['custid'].unique()"
   ]
  },
  {
   "cell_type": "code",
   "execution_count": 7,
   "id": "63291021",
   "metadata": {
    "scrolled": true
   },
   "outputs": [],
   "source": [
    "num_features_train = num_features_train.drop(columns = 'custid')\n",
    "num_features_test = num_features_test.drop(columns = 'custid')"
   ]
  },
  {
   "cell_type": "code",
   "execution_count": 8,
   "id": "e920ae3d",
   "metadata": {},
   "outputs": [],
   "source": [
    "train_features = [c for c in num_features_train.columns.tolist()]\n",
    "test_features = [c for c in num_features_test.columns.tolist()]"
   ]
  },
  {
   "cell_type": "code",
   "execution_count": 9,
   "id": "d5f1d7a5",
   "metadata": {},
   "outputs": [],
   "source": [
    "standardscaler = StandardScaler()"
   ]
  },
  {
   "cell_type": "code",
   "execution_count": 10,
   "id": "baabbf4e",
   "metadata": {},
   "outputs": [],
   "source": [
    "X_train_ss = standardscaler.fit_transform(num_features_train)\n",
    "X_train_ss = pd.DataFrame(X_train_ss, columns=train_features)"
   ]
  },
  {
   "cell_type": "code",
   "execution_count": 11,
   "id": "8310304e",
   "metadata": {
    "scrolled": true
   },
   "outputs": [],
   "source": [
    "X_test_ss = standardscaler.fit(num_features_train).transform(num_features_test)\n",
    "X_test_ss = pd.DataFrame(X_test_ss, columns=test_features)"
   ]
  },
  {
   "cell_type": "code",
   "execution_count": 12,
   "id": "1663d5c3",
   "metadata": {},
   "outputs": [],
   "source": [
    "X_train_ss = pd.concat([pd.DataFrame({'custid':train_id}),X_train_ss],axis = 1)\n",
    "X_test_ss = pd.concat([pd.DataFrame({'custid':tst_id}),X_test_ss],axis = 1)"
   ]
  },
  {
   "cell_type": "markdown",
   "id": "4dd64aaa",
   "metadata": {},
   "source": [
    "***"
   ]
  },
  {
   "cell_type": "markdown",
   "id": "bc7c9075",
   "metadata": {},
   "source": [
    "# 동일 컬럼명 제거"
   ]
  },
  {
   "cell_type": "code",
   "execution_count": 13,
   "id": "8f64cc14",
   "metadata": {},
   "outputs": [],
   "source": [
    "kmean_train_num.columns = kmean_train_num.columns.map(lambda x : \"km_n_\" + str(x))\n",
    "kmean_test_num.columns = kmean_test_num.columns.map(lambda x : \"km_n_\" + str(x))\n",
    "kmean_train.columns = kmean_train.columns.map(lambda x : \"km_\" + str(x))\n",
    "kmean_test.columns = kmean_test.columns.map(lambda x : \"km_\" + str(x))"
   ]
  },
  {
   "cell_type": "markdown",
   "id": "a317748d",
   "metadata": {},
   "source": [
    "***"
   ]
  },
  {
   "cell_type": "code",
   "execution_count": 14,
   "id": "5f6e27c8",
   "metadata": {},
   "outputs": [],
   "source": [
    "all_features_train =  pd.concat([X_train_ss, onehot_features_train, w2v_features_train, kmean_train_num, kmean_train], axis = 1)\n",
    "all_features_test =  pd.concat([X_test_ss, onehot_features_test, w2v_features_test, kmean_test_num, kmean_test], axis = 1)"
   ]
  },
  {
   "cell_type": "code",
   "execution_count": 15,
   "id": "df6ebd45",
   "metadata": {},
   "outputs": [],
   "source": [
    "target = pd.read_csv(os.path.abspath(\"../input\")+'/y_train.csv' , encoding = 'cp949').group"
   ]
  },
  {
   "cell_type": "code",
   "execution_count": 16,
   "id": "c6fb3ec1",
   "metadata": {},
   "outputs": [],
   "source": [
    "# lgbm 에서 json 오류 방지를 위해 특수문자 , 제거\n",
    "\n",
    "import re\n",
    "all_features_train.rename(columns = lambda x:re.sub(',', '/', x), inplace = True)\n",
    "all_features_test.rename(columns = lambda x:re.sub(',', '/', x), inplace = True)"
   ]
  },
  {
   "cell_type": "code",
   "execution_count": 17,
   "id": "3e75a0db",
   "metadata": {},
   "outputs": [],
   "source": [
    "all_features_train = all_features_train.fillna(0.00001)\n",
    "all_features_test = all_features_test.fillna(0.00001)"
   ]
  },
  {
   "cell_type": "markdown",
   "id": "6e61324c",
   "metadata": {},
   "source": [
    "***"
   ]
  },
  {
   "cell_type": "code",
   "execution_count": 19,
   "id": "62dfe247",
   "metadata": {},
   "outputs": [],
   "source": [
    "all_features_train.columns = all_features_train.columns.astype(str)\n",
    "all_features_test.columns = all_features_test.columns.astype(str)"
   ]
  },
  {
   "cell_type": "code",
   "execution_count": 20,
   "id": "44920127",
   "metadata": {},
   "outputs": [],
   "source": [
    "all_features_train = all_features_train.iloc[:, 1:]\n",
    "all_features_test = all_features_test.iloc[:, 1:]"
   ]
  },
  {
   "cell_type": "markdown",
   "id": "0515e0ec",
   "metadata": {},
   "source": [
    "***"
   ]
  },
  {
   "cell_type": "markdown",
   "id": "df80a155",
   "metadata": {},
   "source": [
    "# Feature Selection"
   ]
  },
  {
   "cell_type": "code",
   "execution_count": 21,
   "id": "3cb3b98b",
   "metadata": {},
   "outputs": [],
   "source": [
    "clf = LGBMClassifier(random_state = 1000)"
   ]
  },
  {
   "cell_type": "code",
   "execution_count": 22,
   "id": "ca4004f9",
   "metadata": {},
   "outputs": [],
   "source": [
    "from sklearn.feature_selection import SelectFromModel"
   ]
  },
  {
   "cell_type": "code",
   "execution_count": 23,
   "id": "c58fa225",
   "metadata": {},
   "outputs": [],
   "source": [
    "all_features_train_fs = all_features_train\n",
    "all_features_test_fs = all_features_test"
   ]
  },
  {
   "cell_type": "code",
   "execution_count": 24,
   "id": "93f08433",
   "metadata": {},
   "outputs": [],
   "source": [
    "smf = SelectFromModel(clf, threshold='3.0*mean')\n",
    "smf.fit(all_features_train_fs, target)\n",
    "\n",
    "X_new = smf.transform(all_features_train_fs)\n",
    "X_te_new = smf.transform(all_features_test_fs)\n",
    "\n",
    "feature_selection_idx = smf.get_support()\n",
    "feature_selection_name = all_features_train_fs.columns[feature_selection_idx]"
   ]
  },
  {
   "cell_type": "code",
   "execution_count": 25,
   "id": "b701a0e4",
   "metadata": {
    "scrolled": false
   },
   "outputs": [
    {
     "data": {
      "text/plain": [
       "Index(['19_x', '19_y', 'dis_rate', 'sales_time', '남성', '비남성', '남성part', '비화장품',\n",
       "       '화장품_x', 'real_amt',\n",
       "       ...\n",
       "       'customer_info_v287', 'customer_info_v288', 'customer_info_v290',\n",
       "       'customer_info_v291', 'customer_info_v293', 'customer_info_v294',\n",
       "       'customer_info_v296', 'customer_info_v297', 'customer_info_v298',\n",
       "       'customer_info_v299'],\n",
       "      dtype='object', length=547)"
      ]
     },
     "execution_count": 25,
     "metadata": {},
     "output_type": "execute_result"
    }
   ],
   "source": [
    "all_features_train_fs.columns[feature_selection_idx]"
   ]
  },
  {
   "cell_type": "markdown",
   "id": "b0c21e53",
   "metadata": {},
   "source": [
    "Index(['19_x', '19_y', 'dis_rate', 'sales_time', '남성', '비남성', '남성part', '비화장품',\n",
    "       '화장품_x', 'real_amt',\n",
    "       ...\n",
    "       'customer_info_v287', 'customer_info_v288', 'customer_info_v290',\n",
    "       'customer_info_v291', 'customer_info_v293', 'customer_info_v294',\n",
    "       'customer_info_v296', 'customer_info_v297', 'customer_info_v298',\n",
    "       'customer_info_v299'],\n",
    "      dtype='object', length=547)"
   ]
  },
  {
   "cell_type": "code",
   "execution_count": 26,
   "id": "b1aaae5e",
   "metadata": {},
   "outputs": [],
   "source": [
    "X_new = pd.DataFrame(X_new)\n",
    "X_te_new = pd.DataFrame(X_te_new)\n",
    "\n",
    "X_new.columns = feature_selection_name\n",
    "X_te_new.columns = feature_selection_name"
   ]
  },
  {
   "cell_type": "code",
   "execution_count": 27,
   "id": "8e2932d6",
   "metadata": {},
   "outputs": [],
   "source": [
    "X_new.to_csv(\"choi_select_547_train.csv\",index = False,encoding = 'utf-8')\n",
    "X_te_new.to_csv(\"choi_select_547_test.csv\",index = False,encoding = 'utf-8')"
   ]
  },
  {
   "cell_type": "code",
   "execution_count": 28,
   "id": "4495d83b",
   "metadata": {},
   "outputs": [
    {
     "name": "stdout",
     "output_type": "stream",
     "text": [
      "교차 검증별 정확도: [-1.5083 -1.5382 -1.5056 -1.4992 -1.5094]\n",
      "평균 검증 정확도: -1.5121\n",
      "log_loss: -1.5121296472150083\n"
     ]
    }
   ],
   "source": [
    "from sklearn.model_selection import cross_val_score\n",
    "\n",
    "scores = cross_val_score(clf, X_new, target, scoring='neg_log_loss', cv=5)\n",
    "print('교차 검증별 정확도:', np.round(scores, 4))\n",
    "print('평균 검증 정확도:', np.round(np.mean(scores), 4))\n",
    "print('log_loss:', np.mean(scores))"
   ]
  },
  {
   "cell_type": "code",
   "execution_count": 29,
   "id": "648d73b6",
   "metadata": {},
   "outputs": [
    {
     "name": "stdout",
     "output_type": "stream",
     "text": [
      "교차 검증별 정확도: [-1.5005 -1.5201 -1.5167 -1.4976 -1.528 ]\n",
      "평균 검증 정확도: -1.5126\n",
      "log_loss: -1.512588286895974\n"
     ]
    }
   ],
   "source": [
    "cv = StratifiedKFold(n_splits=5, shuffle=True, random_state=1000)\n",
    "str_scores = cross_val_score(clf, X_new, target, scoring='neg_log_loss', cv=cv)\n",
    "print('교차 검증별 정확도:', np.round(str_scores, 4))\n",
    "print('평균 검증 정확도:', np.round(np.mean(str_scores), 4))\n",
    "print('log_loss:', np.mean(str_scores))"
   ]
  },
  {
   "cell_type": "markdown",
   "id": "3fed19a3",
   "metadata": {},
   "source": [
    "***"
   ]
  }
 ],
 "metadata": {
  "kernelspec": {
   "display_name": "Python 3 (ipykernel)",
   "language": "python",
   "name": "python3"
  },
  "language_info": {
   "codemirror_mode": {
    "name": "ipython",
    "version": 3
   },
   "file_extension": ".py",
   "mimetype": "text/x-python",
   "name": "python",
   "nbconvert_exporter": "python",
   "pygments_lexer": "ipython3",
   "version": "3.8.8"
  }
 },
 "nbformat": 4,
 "nbformat_minor": 5
}
